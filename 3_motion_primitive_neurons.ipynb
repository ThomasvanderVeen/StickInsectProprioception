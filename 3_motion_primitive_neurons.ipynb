{
 "cells": [
  {
   "cell_type": "code",
   "execution_count": 14,
   "outputs": [],
   "source": [
    "from general import *"
   ],
   "metadata": {
    "collapsed": false,
    "ExecuteTime": {
     "end_time": "2024-03-25T13:45:36.501492400Z",
     "start_time": "2024-03-25T13:45:36.437479200Z"
    }
   },
   "id": "24c70ef37e122354"
  },
  {
   "cell_type": "code",
   "execution_count": 15,
   "outputs": [],
   "source": [
    "class MotionPrimitiveNeuron():\n",
    "    NeuronState = namedtuple('NeuronState', ['V', 'w', 'spk', 'I'])\n",
    "\n",
    "    def __init__(self, parameters):\n",
    "        super(MotionPrimitiveNeuron, self).__init__()\n",
    "        self.tau = parameters['tau']\n",
    "        self.V_R = parameters['V_R']\n",
    "        self.V_T = parameters['V_T']\n",
    "        self.w = parameters['w']\n",
    "        self.n = parameters['n']\n",
    "        self.N_input = parameters['N_input']\n",
    "        self.dt = parameters['dt']\n",
    "        self.state = None\n",
    "\n",
    "    def initialize_state(self):\n",
    "        self.state = None\n",
    "\n",
    "    def forward(self, input):\n",
    "        if self.state is None:\n",
    "            self.state = self.NeuronState(V=np.full((self.n,), self.V_R),\n",
    "                                          w=np.array(self.w),\n",
    "                                          spk=np.zeros(self.n),\n",
    "                                          I=np.zeros((self.n, self.N_input)))\n",
    "            \n",
    "        V = self.state.V\n",
    "        w = self.state.w\n",
    "        I = self.state.I\n",
    "        \n",
    "\n",
    "        V += self.dt*(self.V_R-V)/self.tau\n",
    "        V += np.sum(w*input, axis=-1)\n",
    "\n",
    "        spk = np.heaviside(V - self.V_T, 0)\n",
    "        V = (1 - spk) * V + spk * self.V_R\n",
    "\n",
    "        self.state = self.NeuronState(V=V, w=w, spk=spk, I=I)\n",
    "\n",
    "        return V, spk"
   ],
   "metadata": {
    "collapsed": false,
    "ExecuteTime": {
     "end_time": "2024-03-25T13:45:36.552504Z",
     "start_time": "2024-03-25T13:45:36.450481100Z"
    }
   },
   "id": "initial_id"
  },
  {
   "cell_type": "code",
   "execution_count": 16,
   "outputs": [],
   "source": [
    "def get_encoding(w_pos=[0, 0, 0, 0, 0, 0, 0], w_vel=[0, 0, 0, 0, 0, 0, 0], n=6):\n",
    "    encoding = ['none', 'Vel-', 'Vel+', 'Pos-', 'Pos+']\n",
    "    perm = np.array(list(product(encoding, repeat=3)))\n",
    "    base_perm = np.array(list(product([-np.inf, 0, 1, 2, 3], repeat=3)))\n",
    "\n",
    "    synapse_type = []\n",
    "\n",
    "    for permutation in perm:\n",
    "\n",
    "        if 'none' in permutation:\n",
    "            synapse_type.append(0 if (permutation == 'Pos+').sum() + (permutation == 'Pos-').sum() == 2\n",
    "                                else\n",
    "                                (1 if (permutation == 'Vel+').sum() + (permutation == 'Vel-').sum() == 2\n",
    "                                 else\n",
    "                                 (2 if (permutation == 'Pos+').sum() + (permutation == 'Pos-').sum() == 1\n",
    "                                       and (permutation == 'Vel+').sum() + (permutation == 'Vel-').sum() == 1\n",
    "                                  else -1)))\n",
    "        else:\n",
    "            synapse_type.append(3 if (permutation == 'Pos+').sum() + (permutation == 'Pos-').sum() == 2\n",
    "                                else\n",
    "                                (4 if (permutation == 'Vel+').sum() + (permutation == 'Vel-').sum() == 2\n",
    "                                 else\n",
    "                                 (5 if (permutation == 'Pos+').sum() + (permutation == 'Pos-').sum() == 3\n",
    "                                  else 6)))\n",
    "\n",
    "    zero_index = np.where(np.array(synapse_type) == -1)[0]\n",
    "\n",
    "    synapse_type = list(np.delete(synapse_type, zero_index))\n",
    "    perm = np.delete(perm, zero_index, axis=0)\n",
    "    base_perm = np.delete(base_perm, zero_index, axis=0)\n",
    "    weights = np.zeros_like(perm, dtype=float)\n",
    "\n",
    "    for i, j in np.ndindex(weights.shape):\n",
    "        if 'Pos' in perm[i, j]:\n",
    "            weights[i, j] = w_pos[synapse_type[i]]\n",
    "        elif 'Vel' in perm[i, j]:\n",
    "            weights[i, j] = w_vel[synapse_type[i]]\n",
    "\n",
    "    negative_mask = np.zeros_like(perm, dtype=float)\n",
    "    negative_mask[perm == 'none'] = 1\n",
    "    negative_mask = np.tile(negative_mask, (6, 1))\n",
    "    positive_mask = 1 - negative_mask\n",
    "\n",
    "    weights = np.tile(weights, (6, 1))\n",
    "    synapse_type = synapse_type * 6\n",
    "\n",
    "    extra = np.array([0, 4, 8])\n",
    "    extra = np.tile(extra, (base_perm.shape[0], 1))\n",
    "    final_perm = (base_perm + extra).clip(min=0)\n",
    "\n",
    "    extra_2 = np.linspace(0, 12 * (n - 1), num=n).repeat(3 * final_perm.shape[0])\n",
    "    final_perm = (np.tile(final_perm.flatten(), n) + extra_2).astype(int)\n",
    "\n",
    "    base_perm = base_perm + 1\n",
    "    base_perm[base_perm == -np.inf] = 0\n",
    "\n",
    "    return perm, base_perm.astype(int), final_perm, synapse_type, weights, positive_mask, negative_mask\n",
    "\n",
    "\n",
    "def prepare_spikes_primitive(spike_velocity, spike_position, permutations, mask):\n",
    "    toepel = ()\n",
    "    for i in range(18):\n",
    "        toepel += (spike_velocity[[0 + 2 * i, 1 + 2 * i]], spike_position[[0 + 2 * i, 1 + 2 * i]])\n",
    "\n",
    "    pos_vel_spikes = np.concatenate(toepel)\n",
    "    pos_vel_spikes = pos_vel_spikes[permutations].reshape(mask.shape) * mask\n",
    "\n",
    "    return pos_vel_spikes\n",
    "\n",
    "\n",
    "def convert_to_bins(old_array, n_bins, minimum=0, sum_bool=False):\n",
    "    old_array = np.transpose(old_array)\n",
    "\n",
    "    while old_array.shape[1] != n_bins:\n",
    "        try:\n",
    "            old_array = np.sum(old_array.reshape(old_array.shape[0], n_bins, -1), axis=2)\n",
    "        except:\n",
    "            old_array = np.column_stack((old_array, old_array[:, -1]))\n",
    "\n",
    "    if not sum_bool:\n",
    "        old_array = (old_array > minimum).astype(int)\n",
    "\n",
    "    return np.transpose(old_array)"
   ],
   "metadata": {
    "collapsed": false,
    "ExecuteTime": {
     "end_time": "2024-03-25T13:45:36.556505400Z",
     "start_time": "2024-03-25T13:45:36.460484Z"
    }
   },
   "id": "1b9053ba7dfc9f73"
  },
  {
   "cell_type": "code",
   "execution_count": 17,
   "outputs": [],
   "source": [
    "with open('data/joint_angles_nostep', 'rb') as file:\n",
    "    joint_angles = pickle.load(file)\n",
    "\n",
    "with open('data/spike_position', 'rb') as file:\n",
    "    spike_position = pickle.load(file)\n",
    "    \n",
    "with open('data/spike_motion', 'rb') as file:\n",
    "    spike_motion = pickle.load(file) \n",
    "    \n",
    "W_POS = [16.5e-3, 0, 16.5e-3, 15e-3, 16.5e-3, 9e-3, 0e-3]\n",
    "W_VEL = [0e-3, 10.5e-3, 12e-3, 3e-3, 7.5e-3, 0e-3, 10e-3]\n",
    "\n",
    "permutations_string, permutations_base, permutations_final, synapse_type, weights_primitive, mask_positive, mask_negative = get_encoding(W_POS, W_VEL)\n",
    "\n",
    "time = np.linspace(0, constants['T_TOTAL'], num=parameters['N_STEPS'])\n",
    "\n",
    "primitive_parameters = {'tau': 0.5e-3, 'V_T': -50e-3, 'V_R': -70e-3, 'n': len(synapse_type), 'w': weights_primitive, 'N_input': 3, 'dt': constants['dt']}\n",
    "\n",
    "primitive_neuron = MotionPrimitiveNeuron(primitive_parameters)\n",
    "primitive_neuron.initialize_state()\n",
    "\n",
    "spike_primitive = np.empty((parameters['N_STEPS'], primitive_parameters['n'], parameters['N_SIMULATIONS']))"
   ],
   "metadata": {
    "collapsed": false,
    "ExecuteTime": {
     "end_time": "2024-03-25T13:45:36.556505400Z",
     "start_time": "2024-03-25T13:45:36.477487400Z"
    }
   },
   "id": "2633992e4dfd4448"
  },
  {
   "cell_type": "code",
   "execution_count": 18,
   "outputs": [],
   "source": [
    "for k in range(parameters['N_SIMULATIONS']):        \n",
    "    for i in range(parameters['N_STEPS']):\n",
    "        pos_vel_spikes = prepare_spikes_primitive(spike_motion[i, :, k], spike_position[i, :, k], permutations_final, mask_positive)\n",
    "        _, spike_primitive[i, :, k] = primitive_neuron.forward(pos_vel_spikes)\n",
    "        \n",
    "with open('data/spike_primitive', 'wb') as file:\n",
    "        pickle.dump(spike_primitive, file)"
   ],
   "metadata": {
    "collapsed": false,
    "ExecuteTime": {
     "end_time": "2024-03-25T13:45:41.054810300Z",
     "start_time": "2024-03-25T13:45:36.520496800Z"
    }
   },
   "id": "83367cd1ab81adf7"
  },
  {
   "cell_type": "code",
   "execution_count": 19,
   "outputs": [],
   "source": [
    "ground_truth = np.zeros_like(spike_primitive)\n",
    "true_positive, false_positive, true_negative, false_negative = [np.zeros((len(synapse_type), parameters['N_SIMULATIONS'])) for _ in range(4)]\n",
    "true_positive_groups, false_positive_groups, true_negative_groups, false_negative_groups = [np.zeros(7) for _ in range(4)]\n",
    "mcc_list = np.zeros(7)"
   ],
   "metadata": {
    "collapsed": false,
    "ExecuteTime": {
     "end_time": "2024-03-25T13:45:41.144836500Z",
     "start_time": "2024-03-25T13:45:41.056810100Z"
    }
   },
   "id": "3a01fbad7ee08f54"
  },
  {
   "cell_type": "code",
   "execution_count": 20,
   "outputs": [],
   "source": [
    "for k in range(parameters['N_SIMULATIONS']): \n",
    "    ground_mot, ground_pos = np.zeros((parameters['N_STEPS'], 36)), np.zeros((parameters['N_STEPS'], 36))\n",
    "    for i in range(constants['N_ANGLES']):\n",
    "        mid = np.max(joint_angles[:, i, k]) / 2 + np.min(joint_angles[:, i, k]) / 2\n",
    "        diff = np.diff(joint_angles[:, i, k]) / constants['dt']\n",
    "\n",
    "        ground_mot[np.where(diff < 0), 0 + 2 * i] = 1\n",
    "        ground_mot[np.where(diff > 0), 1 + 2 * i] = 1\n",
    "        ground_pos[np.where(joint_angles[:, i, k] < mid), 0 + 2 * i] = 1\n",
    "        ground_pos[np.where(joint_angles[:, i, k] > mid), 1 + 2 * i] = 1\n",
    "        \n",
    "    for j in range(parameters['N_STEPS']):\n",
    "        ground_truth_j = prepare_spikes_primitive(ground_mot[j, :], ground_pos[j, :], permutations_final, mask_positive) + mask_negative\n",
    "        ground_truth_j = np.sum(ground_truth_j, axis=1)\n",
    "        \n",
    "        ground_truth[j, ground_truth_j > 2.9, k] = 1\n",
    "        ground_truth[j, ground_truth_j < 2.9, k] = 0\n",
    "\n",
    "    ground_truth_bins = convert_to_bins(ground_truth[:, :, k], 100)\n",
    "    spike_primitive_bins = convert_to_bins(spike_primitive[:, :, k], 100)\n",
    "    \n",
    "    for i in range(primitive_parameters['n']):\n",
    "        true_positive[i, k], false_positive[i, k], true_negative[i, k], false_negative[i, k] = (\n",
    "            get_confusion_matrix(spike_primitive_bins[:, i], ground_truth_bins[:, i]))\n",
    "\n",
    "for i in range(7):\n",
    "    indices = np.where(np.array(synapse_type) == i)\n",
    "    \n",
    "    true_positive_groups[i] = np.sum(true_positive[indices, :])\n",
    "    true_negative_groups[i] = np.sum(true_negative[indices, :])\n",
    "    false_positive_groups[i] = np.sum(false_positive[indices, :])\n",
    "    false_negative_groups[i] = np.sum(false_negative[indices, :])\n",
    "    \n",
    "    mcc = matthews_correlation(true_positive_groups[i], true_negative_groups[i], false_positive_groups[i], false_negative_groups[i])\n",
    "        \n",
    "    mcc_list[i] = mcc\n",
    "    \n",
    "average_mcc = np.average(mcc_list, weights=np.bincount(synapse_type))"
   ],
   "metadata": {
    "collapsed": false,
    "ExecuteTime": {
     "end_time": "2024-03-25T13:45:44.896682600Z",
     "start_time": "2024-03-25T13:45:41.150838200Z"
    }
   },
   "id": "3770dfc0881a2c64"
  },
  {
   "cell_type": "code",
   "execution_count": 21,
   "outputs": [
    {
     "name": "stdout",
     "output_type": "stream",
     "text": [
      "         MCC\n",
      "p-p    0.754\n",
      "v-v    0.391\n",
      "p-v    0.534\n",
      "p-p-v  0.548\n",
      "v-v-p  0.473\n",
      "p-p-p  0.427\n",
      "v-v-v  0.359\n",
      "mean   0.512\n"
     ]
    }
   ],
   "source": [
    "table = {'MCC': np.append(np.around(mcc_list, 3), np.around(average_mcc, 3))}\n",
    "df = pd.DataFrame(data=table, index=['p-p', 'v-v', 'p-v', 'p-p-v', 'v-v-p', 'p-p-p', 'v-v-v', 'mean'])\n",
    "df.to_csv('results/primitive_accuracy_table.csv')\n",
    "\n",
    "print(df)"
   ],
   "metadata": {
    "collapsed": false,
    "ExecuteTime": {
     "end_time": "2024-03-25T13:45:44.954707900Z",
     "start_time": "2024-03-25T13:45:44.895682300Z"
    }
   },
   "id": "1c97dc6359f9ffda"
  }
 ],
 "metadata": {
  "kernelspec": {
   "display_name": "Python 3",
   "language": "python",
   "name": "python3"
  },
  "language_info": {
   "codemirror_mode": {
    "name": "ipython",
    "version": 2
   },
   "file_extension": ".py",
   "mimetype": "text/x-python",
   "name": "python",
   "nbconvert_exporter": "python",
   "pygments_lexer": "ipython2",
   "version": "2.7.6"
  }
 },
 "nbformat": 4,
 "nbformat_minor": 5
}
