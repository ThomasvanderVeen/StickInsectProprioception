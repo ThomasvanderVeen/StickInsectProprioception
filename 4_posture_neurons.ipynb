{
 "cells": [
  {
   "cell_type": "markdown",
   "source": [
    "# Notebook 4: Posture Layer\n",
    "\n",
    "### General Overview\n",
    "\n",
    "The posture layer consists of two sub-layers: one tasked with climbing classification (climbing classifier neuron (CCN)) and another responsible for providing a body pitch time course (two pitch estimator neurons (PENs)). These layers were designed to test whether higher-order whole-body locomotion parameters could be extracted from low-level phasic-tonic proprioceptor information. An appropriate higher order posture parameter to extract was body pitch, since the experimental setup required transient, large-amplitude adjustments of the stick insects' body pitch due to the physical steps the insect encountered. Therefore, body pitch was chosen as the locomotion parameter to predict, instead of roll or yaw.\n",
    "\n",
    "### Cell-by-Cell Description\n",
    "\n",
    "#### Importing Modules and Creating Folders\n",
    "\n",
    "This cell serves to import general functions, modules, and dictionaries from the 'general' module. Additionally, it imports the LIF class, which is integral to subsequent analyses. The LIF class is a simplified LIF neuron, see 'classes.py' for more information.\n"
   ],
   "metadata": {
    "collapsed": false
   },
   "id": "a5237d83e9e8671b"
  },
  {
   "cell_type": "code",
   "execution_count": null,
   "id": "initial_id",
   "metadata": {
    "collapsed": true
   },
   "outputs": [],
   "source": [
    "from general import *\n",
    "from classes import LIF\n",
    "\n",
    "create_folder_if_not_exists('images')\n",
    "create_folder_if_not_exists('images/posture_neuron')"
   ]
  },
  {
   "cell_type": "code",
   "execution_count": null,
   "outputs": [],
   "source": [
    "# Load joint angles, movement primitive and pitch data from files, all for trials with steps\n",
    "with open('temp_data/joint_angles_step.npy', 'rb') as file:\n",
    "    joint_angles = np.load(file)\n",
    "    \n",
    "with open('temp_data/spike_primitive_step', 'rb') as file:\n",
    "    spike_primitive = np.load(file)\n",
    "    \n",
    "with open('temp_data/pitch_step.npy', 'rb') as file:\n",
    "    pitch = np.load(file)\n",
    "\n",
    "# Remove some simulations that do not include two steps\n",
    "remove = [4, 6, 10, 11, 12, 18]\n",
    "\n",
    "joint_angles = np.delete(joint_angles, remove, axis=2)\n",
    "spike_primitive = np.delete(spike_primitive, remove, axis=2)\n",
    "pitch = np.delete(pitch, remove, axis=1)"
   ],
   "metadata": {
    "collapsed": false
   },
   "id": "53919b2d4f1d0b73"
  },
  {
   "cell_type": "markdown",
   "source": [
    "We want to plot body pitch for one of the trials to show the two climbing steps."
   ],
   "metadata": {
    "collapsed": false
   },
   "id": "dd659a8806bab950"
  },
  {
   "cell_type": "code",
   "execution_count": null,
   "outputs": [],
   "source": [
    "# Index for the trial we want to show\n",
    "i_pitch = 1\n",
    "\n",
    "# Generate time array for plotting\n",
    "time = np.linspace(0, constants['T_TOTAL_STEP'], num=constants['N_STEPS_STEP'])\n",
    "\n",
    "# Create a figure and axis for the plot\n",
    "fig, ax = plt.subplots()\n",
    "\n",
    "# Plot the body pitch over time\n",
    "plt.plot(time, pitch[:, i_pitch], color='black')\n",
    "\n",
    "# Set labels and limits\n",
    "ax.set_xlabel(\"Time (s)\")\n",
    "ax.set_ylabel(\"Body pitch (°)\")\n",
    "ax.set_ylim([0.9 * np.min(pitch[:, i_pitch]), 1.1 * np.max(pitch[:, i_pitch])])\n",
    "\n",
    "# Highlight climbing intervals with grey shading\n",
    "ax.fill_between([3.4, 7.8], -100, 200, alpha=0.3, color='grey')\n",
    "ax.fill_between([10, 17], -100, 200, alpha=0.3, color='grey')\n",
    "\n",
    "# Save the figure\n",
    "fig.tight_layout(pad=parameters['pad'])\n",
    "fig.savefig('images/posture_neuron/P2_fig1c.png')"
   ],
   "metadata": {
    "collapsed": false
   },
   "id": "4f883d6124cbda0"
  },
  {
   "cell_type": "markdown",
   "source": [
    "### Climbing Classifier Neuron\n",
    "\n",
    "This cell defines the simulation parameters, grid search parameters, and Climbing Classifier Neuron (CCN) parameters. Additionally, an array named `pitch_binary` is created, which is set to 1 if the stick insect is climbing (defined as body pitch > 10°) and 0 otherwise."
   ],
   "metadata": {
    "collapsed": false
   },
   "id": "2746b41aaf32ca33"
  },
  {
   "cell_type": "code",
   "execution_count": null,
   "outputs": [],
   "source": [
    "# Define constants and parameters\n",
    "N_PRIM_NEURONS = 672\n",
    "N_SIMULATIONS_TEST = 1\n",
    "N_SIMULATIONS_STEP = 15\n",
    "N_BINS = 50\n",
    "\n",
    "# Define grid search parameters\n",
    "w_array_ccn = np.linspace(5E-5, 2E-4, num=10)  # 10 weights\n",
    "ratio_array_ccn = np.linspace(1.6, 2, num=5)   # 5 ratios\n",
    "\n",
    "# Climbing classifier neuron parameters\n",
    "climbing_parameters = {\n",
    "    'tau': 50e-3,\n",
    "    'V_T': -50e-3,\n",
    "    'V_R': -70e-3,\n",
    "    'n': 1,\n",
    "    'w': 0,\n",
    "    'N_input': 672,\n",
    "    'dt': constants['dt'],\n",
    "    'n_sims': 1,\n",
    "    'multiple_synapses': True\n",
    "}\n",
    "\n",
    "# Create binary array indicating climbing status based on body pitch\n",
    "pitch_binary = np.zeros_like(pitch, dtype=int)\n",
    "pitch_binary[pitch >= 10] = 1\n",
    "pitch_binary[pitch < 10] = 0\n",
    "\n",
    "# Initialize weights array\n",
    "weights = np.zeros((N_PRIM_NEURONS, N_SIMULATIONS_STEP))"
   ],
   "metadata": {
    "collapsed": false
   },
   "id": "909ab35370caf8df"
  },
  {
   "cell_type": "markdown",
   "source": [
    "The synapse connections are based on the spiking biases of the movement primitive neurons. The biases are determined by the ratio of spikes during the swing phase to spikes during the stance phase, compensated by the total time spent in each phase. This ratio is calculated for each movement primitive (MP) interneuron (IN). The ratio is determined while leaving out one trial, repeated for all trials. This will be used later for leave-one-out cross validation (LOOCV)."
   ],
   "metadata": {
    "collapsed": false
   },
   "id": "d60bf9dfbaf870c3"
  },
  {
   "cell_type": "code",
   "execution_count": null,
   "outputs": [],
   "source": [
    "if parameters['save_data']:\n",
    "    \n",
    "    # Initialize an array to hold the climbing to walking spike ratio for each neuron and trial.\n",
    "    ratio_climb_walk = np.zeros((N_PRIM_NEURONS, N_SIMULATIONS_STEP))\n",
    "    \n",
    "    # Iterate through each trial.\n",
    "    for j in tqdm(range(N_SIMULATIONS_STEP)):\n",
    "        # Remove the current simulation from pitch_binary and spike_primitive arrays.\n",
    "        pitch_binary_del = np.delete(pitch_binary, j, axis=1)\n",
    "        spike_primitive_del = np.delete(spike_primitive, j, axis=2)\n",
    "        \n",
    "        # Iterate through each movement primitive neuron.\n",
    "        for i in range(N_PRIM_NEURONS):\n",
    "            # Calculate the number of spikes during climbing and walking.\n",
    "            climbing = np.logical_and(pitch_binary_del == 1, spike_primitive_del[:, i, :] == 1)\n",
    "            n_spikes_climb = np.sum(climbing)\n",
    "            \n",
    "            walking = np.logical_and(pitch_binary_del == 0, spike_primitive_del[:, i, :] == 1)\n",
    "            n_spikes_walk = np.sum(walking)\n",
    "            \n",
    "            # Calculate the ratio of spikes during climbing to spikes during walking.\n",
    "            ratio_climb_walk[i, j] = n_spikes_climb / n_spikes_walk\n",
    "            \n",
    "    # Calculate the the ratio between climbing and walking.\n",
    "    time_climb_walk = np.sum(pitch_binary == 0) / np.sum(pitch_binary == 1)\n",
    "    \n",
    "    # Print the ratio of total time spent climbing to walking.\n",
    "    print(f'Ratio of total time spent climbing and walking: {time_climb_walk:.3f}')\n",
    "    \n",
    "    # Adjust the ratio by the total time spent climbing to walking.\n",
    "    ratio_climb_walk *= time_climb_walk\n",
    "    \n",
    "    # Save the ratio_climb_walk array to a file.\n",
    "    with open('temp_data/ratio_climb_walk', 'wb') as file:\n",
    "        np.save(file, ratio_climb_walk)\n",
    "    \n",
    "# If save_data is false, load the ratio_climb_walk array from the file.\n",
    "else:\n",
    "    with open('temp_data/ratio_climb_walk', 'rb') as file:\n",
    "        ratio_climb_walk = np.load(file)"
   ],
   "metadata": {
    "collapsed": false
   },
   "id": "8d52cfaaff11800d"
  },
  {
   "cell_type": "markdown",
   "source": [
    "A strongly climbing biased MP IN is defined as having a ratio greater than 1.8. The number of MP INs that fall into this category is then counted for the front, middle, and hind legs to test their contribution."
   ],
   "metadata": {
    "collapsed": false
   },
   "id": "24fa62baf962bb38"
  },
  {
   "cell_type": "code",
   "execution_count": null,
   "outputs": [],
   "source": [
    "# Define the leg category names and initialize the count array\n",
    "legs = ['Front', 'Middle', 'Hind']\n",
    "legs_count = np.zeros([3])\n",
    "\n",
    "# Average over all trials and split them into groups corresponding to the 6 legs\n",
    "ratio_climb_walk_mean = np.mean(ratio_climb_walk, axis=1)\n",
    "ratio_climb_walk_mean_split = np.split(ratio_climb_walk_mean, 6)\n",
    "\n",
    "# Count strongly climbing-biased MP INs for each leg category\n",
    "for i in range(3):\n",
    "    legs_count[i] = (ratio_climb_walk_mean_split[i] > 1.8).sum() + (ratio_climb_walk_mean_split[i + 3] > 1.8).sum()\n",
    "\n",
    "# Create DataFrame and save it to a CSV file\n",
    "df = pd.DataFrame({'Count': legs_count}, index=legs)\n",
    "df.to_csv('results/posture_leg_contribution.csv')\n",
    "\n",
    "print(df)"
   ],
   "metadata": {
    "collapsed": false
   },
   "id": "68ec5b9c52f259a0"
  },
  {
   "cell_type": "markdown",
   "source": [
    "Using the ratios, we can connect specific MP INs to the CCN. Strongy biased climbing MP INs (high r) are connected with excitatory synapses and strongly biased walking MP INs (high 1/r) are connected with inhibitory synapses:\n",
    "$if\\hspace{0.5cm}ratio>r\\hspace{0.5cm}then\\hspace{0.5cm}\\omega = w_\\text{CCN}$.\n",
    "$if\\hspace{0.5cm}ratio<1/r\\hspace{0.5cm}then\\hspace{0.5cm}\\omega = -w_\\text{CCN}$.\n",
    "$else\\hspace{0.5cm}\\omega = 0$.\n",
    "The weights are rotated such that the trial that is used for the CCN did not contribute to the ratios, and therefore the weights. This is the leave-one-out cross validation (LOOCV) method, and ensures the best representative results."
   ],
   "metadata": {
    "collapsed": false
   },
   "id": "56c24e676eaa5b9f"
  },
  {
   "cell_type": "code",
   "execution_count": null,
   "outputs": [],
   "source": [
    "# Initialize the array to store spike data for climbing simulations\n",
    "spike_climbing = np.empty((constants['N_STEPS_STEP'], N_SIMULATIONS_STEP, w_array_ccn.size, ratio_array_ccn.size))\n",
    "\n",
    "# Loop through each combination of w_array and ratio_array (grid search)\n",
    "for m, l in tqdm(np.ndindex(w_array_ccn.size, ratio_array_ccn.size), desc=f'/{w_array_ccn.size*ratio_array_ccn.size}'):\n",
    "\n",
    "    # Set weights based on the climbing to walking ratio\n",
    "    weights[(ratio_climb_walk < ratio_array_ccn[l]) & (ratio_climb_walk > 1 / ratio_array_ccn[l])] = 0\n",
    "    weights[ratio_climb_walk >= ratio_array_ccn[l]] = w_array_ccn[m]\n",
    "    weights[ratio_climb_walk <= 1 / ratio_array_ccn[l]] = -w_array_ccn[m]\n",
    "\n",
    "    # Iterate through each simulation step (LOOCV)\n",
    "    for j in range(N_SIMULATIONS_STEP):\n",
    "        # Update the climbing neuron parameters with the current weights (leaving out the current simulation in weight determination)\n",
    "        climbing_parameters['w'] = weights[:, j]\n",
    "\n",
    "        # Initialize the climbing neuron\n",
    "        climbing_neuron = LIF(climbing_parameters)\n",
    "        climbing_neuron.initialize_state()\n",
    "\n",
    "        # Run the simulation for each step and store the output spikes\n",
    "        for i in range(constants['N_STEPS_STEP']):\n",
    "            _, spike_climbing[i, j, m, l] = climbing_neuron.forward(spike_primitive[i, :, j])\n"
   ],
   "metadata": {
    "collapsed": false
   },
   "id": "c85e0b8f23bc2c1c"
  },
  {
   "cell_type": "markdown",
   "source": [
    "The results are binned and compared to the ground truth climbing array. From this comparison, a confusion matrix is constructed, and the Matthews correlation coefficient (MCC) is calculated."
   ],
   "metadata": {
    "collapsed": false
   },
   "id": "29456cf859e6d6fa"
  },
  {
   "cell_type": "code",
   "execution_count": null,
   "outputs": [],
   "source": [
    "# Initialize the MCC_classifier array\n",
    "MCC_classifier = np.zeros((w_array_ccn.size, ratio_array_ccn.size, N_SIMULATIONS_STEP))\n",
    "\n",
    "# Convert pitch_binary to binned format\n",
    "pitch_binned = convert_to_bins(pitch_binary, N_BINS)\n",
    "\n",
    "# Iterate over all combinations of weights and ratios\n",
    "for m, l in np.ndindex(w_array_ccn.size, ratio_array_ccn.size):\n",
    "    # Convert spike_climbing to binned format for current weight and ratio\n",
    "    spike_climbing_binned = convert_to_bins(spike_climbing[:, :, m, l], N_BINS)\n",
    "    \n",
    "    # Calculate MCC for each simulation step\n",
    "    for j in range(N_SIMULATIONS_STEP):\n",
    "        tp, fp, tn, fn = get_confusion_matrix(spike_climbing_binned[:, j], pitch_binned[:, j])\n",
    "        MCC_classifier[m, l, j] = matthews_correlation(tp, tn, fp, fn)\n",
    "\n",
    "# Compute the mean MCC across all simulation steps\n",
    "MCC_classifier_mean = np.mean(MCC_classifier, axis=2)\n",
    "\n",
    "# Find indices of the maximum mean MCC value\n",
    "index_m, index_l = np.unravel_index(np.argmax(MCC_classifier_mean), MCC_classifier_mean.shape)"
   ],
   "metadata": {
    "collapsed": false
   },
   "id": "33a27ab18d59bb54"
  },
  {
   "cell_type": "markdown",
   "source": [
    "This cell plots the MCC for the grid search over the synaptic weight and climbing/walking ratio."
   ],
   "metadata": {
    "collapsed": false
   },
   "id": "2fcd7b824076f30d"
  },
  {
   "cell_type": "code",
   "execution_count": null,
   "outputs": [],
   "source": [
    "# Create a new figure and axis for plotting\n",
    "fig, ax = plt.subplots()\n",
    "\n",
    "# Plot MCC for each ratio and weight combination\n",
    "for i in range(ratio_array_ccn.size):\n",
    "    ax.plot(\n",
    "        w_array_ccn * 1000, \n",
    "        MCC_classifier_mean[:, i], \n",
    "        color=custom_colors[i], \n",
    "        marker=custom_markers[i], \n",
    "        label=f\"{ratio_array_ccn[i]:.1f}\", \n",
    "        markersize=3\n",
    "    )\n",
    "\n",
    "# Plot parameters  \n",
    "ax.set_xlabel(r\"$\\omega_{ccn}$ (mV)\")\n",
    "ax.set_ylabel(\"MCC\")\n",
    "ax.legend(title=r'$R_{ccn}$', frameon=False, ncol=2)\n",
    "ax.minorticks_on()\n",
    "\n",
    "# Adjust layout and save the figure\n",
    "fig.tight_layout(pad=parameters['pad'])\n",
    "fig.savefig('images/posture_neuron/P2_fig7a.png')\n",
    "\n",
    "# Print the maximum MCC value rounded to 3 decimal places\n",
    "print(np.around(np.max(MCC_classifier_mean), 3))\n"
   ],
   "metadata": {
    "collapsed": false
   },
   "id": "b4f3537490a3e16c"
  },
  {
   "cell_type": "markdown",
   "source": [
    "This cell plots the body pitch over time, the spiking activity of the CCN is overlayed."
   ],
   "metadata": {
    "collapsed": false
   },
   "id": "8c52020f638b7f5c"
  },
  {
   "cell_type": "code",
   "execution_count": null,
   "outputs": [],
   "source": [
    "# Find the index of the closest match to the mean MCC value\n",
    "index_plot = np.argmin(abs(MCC_classifier[index_m, index_l] - np.mean(MCC_classifier[index_m, index_l])))\n",
    "\n",
    "# Initialize plots\n",
    "simulations_plot = [index_plot]\n",
    "spike_climbing_plot = []\n",
    "pitch_plot = []\n",
    "\n",
    "# Only show spikes: replace zeros in spike_climbing with NaN\n",
    "spike_climbing[spike_climbing == 0] = np.nan\n",
    "\n",
    "# Populate spike_climbing_plot and pitch_plot\n",
    "for i in simulations_plot:\n",
    "    spike_climbing_plot.extend(pitch[:, i] * spike_climbing[:, i, index_m, index_l])\n",
    "    pitch_plot.extend(pitch[:, i])\n",
    "\n",
    "# Prepare time axis\n",
    "N_PLOTS = len(simulations_plot)\n",
    "time = np.linspace(0, N_PLOTS * constants['T_TOTAL_STEP'], num=N_PLOTS * constants['N_STEPS_STEP'])\n",
    "\n",
    "# Plotting\n",
    "fig, ax = plt.subplots()\n",
    "\n",
    "# Plot body pitch\n",
    "ax.plot(time, pitch_plot, color='black', label='Body pitch')\n",
    "ax.plot([time[0], time[-1]], [10, 10], linestyle='dotted', color='black', label='10°')\n",
    "\n",
    "# Scatter plot for climbing spikes\n",
    "ax.scatter(time, spike_climbing_plot, color='blue', marker='^', label='Spikes')\n",
    "\n",
    "# Customize plot\n",
    "ax.minorticks_on()\n",
    "ax.legend(frameon=False, ncol=1)\n",
    "ax.set_xlabel(\"Time (s)\")\n",
    "ax.set_ylabel(\"Body pitch (°)\")\n",
    "ax.set_title(f\"MCC: {MCC_classifier[index_m, index_l, index_plot]:.3f}\")\n",
    "\n",
    "# Layout and save figure\n",
    "fig.tight_layout(pad=parameters['pad'])\n",
    "fig.savefig('images/posture_neuron/P2_fig7b.png', bbox_inches='tight')"
   ],
   "metadata": {
    "collapsed": false
   },
   "id": "5271695509d9d29"
  },
  {
   "cell_type": "markdown",
   "source": [
    "### Pitch Estimator Neuron\n",
    "\n",
    "The pitch estimator neurons (PENs) encode the stick insect's body pitch through their spike rates. Let's begin by defining the neuron parameters."
   ],
   "metadata": {
    "collapsed": false
   },
   "id": "37bc7ad974e40b24"
  },
  {
   "cell_type": "code",
   "execution_count": null,
   "outputs": [],
   "source": [
    "# Define pitch estimator neuron parameters\n",
    "pitch_parameters = {\n",
    "    'tau': 50e-3,              # Membrane time constant (s)\n",
    "    'V_T': -50e-3,             # Threshold potential (V)\n",
    "    'V_R': -70e-3,             # Resting potential (V)\n",
    "    'n': 2,                    # Number of neurons\n",
    "    'w': 0,                    # Synaptic weight initialization\n",
    "    'N_input': 672,            # Number of input neurons\n",
    "    'dt': constants['dt'],     # Time step size (s)\n",
    "    'n_sims': 1,               # Number of simulations\n",
    "    'multiple_synapses': True  # Multiple synapses\n",
    "}\n",
    "\n",
    "# Define arrays for synaptic weight and ratio variations\n",
    "w_array_pen = np.linspace(1e-3, 10e-3, num=11) \n",
    "ratio_array_pen = np.linspace(1.5, 1.8, num=6)\n",
    "\n",
    "# Initialize spike pitch matrix and weights\n",
    "spike_pitch = np.empty((constants['N_STEPS_STEP'], N_SIMULATIONS_STEP, 2, w_array_pen.size, ratio_array_pen.size))\n",
    "weights = np.zeros((2, N_PRIM_NEURONS, N_SIMULATIONS_STEP))\n",
    "\n",
    "# Extract relevant portion of ratio_climb_walk for the simulations\n",
    "ratio_climb_walk_steps = ratio_climb_walk[:, :N_SIMULATIONS_STEP]"
   ],
   "metadata": {
    "collapsed": false
   },
   "id": "b3a1c128a53d0373"
  },
  {
   "cell_type": "markdown",
   "source": [
    "Similar to the CCN, we can connect specific MP INs to the PENs using the ratios. Strongy biased climbing MP INs (high r) are connected with excitatory synapses to PEN+ (index 0) and strongly biased walking MP INs (high 1/r) are connected with excitatory synapses to PEN- (index 1):\n",
    "$PEN+:\\hspace{0.5cm}if\\hspace{0.5cm}ratio>r\\hspace{0.5cm}then\\hspace{0.5cm}\\omega = w_\\text{PEN}$.\n",
    "$PEN-:\\hspace{0.5cm}if\\hspace{0.5cm}ratio<1/r\\hspace{0.5cm}then\\hspace{0.5cm}\\omega = w_\\text{PEN}$.\n",
    "$else\\hspace{0.5cm}\\omega = 0$.\n",
    "The weights are rotated such that the trial that is used for the PEN did not contribute to the ratios, and therefore the weights. The LOOCV method ensures the best results."
   ],
   "metadata": {
    "collapsed": false
   },
   "id": "40abb6d65410f752"
  },
  {
   "cell_type": "code",
   "execution_count": null,
   "outputs": [],
   "source": [
    "# Loop through combinations of synaptic weights and ratio arrays\n",
    "for m, l in tqdm(np.ndindex(w_array_pen.size, ratio_array_pen.size), desc=f'/{w_array_pen.size * ratio_array_pen.size}'):     \n",
    "\n",
    "    # Update weights based on the current ratio_array value\n",
    "    within_range = (ratio_climb_walk_steps < ratio_array_pen[l]) & (ratio_climb_walk_steps > 1 / ratio_array_pen[l])\n",
    "    weights[0, within_range] = 0\n",
    "    weights[1, within_range] = 0\n",
    "    \n",
    "    weights[0, ratio_climb_walk_steps >= ratio_array_pen[l]] = w_array_pen[m]\n",
    "    weights[1, ratio_climb_walk_steps <= 1 / ratio_array_pen[l]] = w_array_pen[m]\n",
    "          \n",
    "    # Iterate over simulations\n",
    "    for j in range(N_SIMULATIONS_STEP):\n",
    "        pitch_parameters['w'] = weights[:, :, j]\n",
    "    \n",
    "        # Initialize and run the pitch estimator neuron\n",
    "        pitch_neuron = LIF(pitch_parameters)\n",
    "        pitch_neuron.initialize_state()\n",
    "        \n",
    "        # Forward pass through the neuron for each time step\n",
    "        for i in range(constants['N_STEPS_STEP']):\n",
    "            _, spike_pitch[i, j, :, m, l] = pitch_neuron.forward(spike_primitive[i, :, j])"
   ],
   "metadata": {
    "collapsed": false
   },
   "id": "eb11dcb9a5d47442"
  },
  {
   "cell_type": "markdown",
   "source": [
    "In this cell we calculate the accuracy of the PENs. The estimated body pitch (PEN+ - PEN-) is z-normalized and compared to the real body pitch. This result is plotted for each weight and ratio combination. "
   ],
   "metadata": {
    "collapsed": false
   },
   "id": "98915c0a2c0aedff"
  },
  {
   "cell_type": "code",
   "execution_count": null,
   "outputs": [],
   "source": [
    "# Initialize MSE array\n",
    "MSE_array = np.zeros((w_array_pen.size, ratio_array_pen.size, N_SIMULATIONS_STEP))\n",
    "\n",
    "# Loop through combinations of synaptic weights and ratio arrays\n",
    "for m, l in tqdm(np.ndindex(w_array_pen.size, ratio_array_pen.size), desc=f'/{w_array_pen.size * ratio_array_pen.size}'):     \n",
    "    for j in range(N_SIMULATIONS_STEP):\n",
    "        # Calculate firing rates for PEN+ and PEN- spikes\n",
    "        spike_rate_plus = get_firing_rate_convolve(spike_pitch[:, j, 0, m, l], constants['dt'], 0.05, nan_bool=False)\n",
    "        spike_rate_minus = get_firing_rate_convolve(spike_pitch[:, j, 1, m, l], constants['dt'], 0.05, nan_bool=False)\n",
    "        \n",
    "        # Normalize the difference between up and down spike rates\n",
    "        spike_rate_combined_norm = zscore.zscore(spike_rate_plus - spike_rate_minus)\n",
    "        \n",
    "        # Normalize the pitch data\n",
    "        pitch_norm = zscore.zscore(pitch[:, j])\n",
    "        \n",
    "        # Compute Mean Squared Error (MSE) between real and estimated body pitch\n",
    "        MSE_array[m, l, j] = np.mean((spike_rate_combined_norm - pitch_norm) ** 2)\n",
    "        \n",
    "# Calculate the mean MSE across simulations\n",
    "MSE_array_mean = np.mean(MSE_array, axis=2)\n",
    "\n",
    "# Find the indices (optimal weight and ratio) of the minimum MSE\n",
    "w_index, ratio_index = np.unravel_index(np.argmin(MSE_array_mean), MSE_array_mean.shape)\n",
    "\n",
    "# Plotting the results\n",
    "fig, ax = plt.subplots()\n",
    "\n",
    "for i in range(ratio_array_pen.size):\n",
    "    ax.plot(w_array_pen * 1000, MSE_array_mean[:, i], label=f'{ratio_array_pen[i]:.3f}', color=custom_colors[i], marker=custom_markers[i], markersize=3)\n",
    "\n",
    "# Customize plot\n",
    "ax.legend(title=r'$R_{pen}$', frameon=False, ncol=2)\n",
    "ax.set_xlabel(r\"$\\omega_{pen}$ (mV)\")\n",
    "ax.set_ylabel(\"MSE\")\n",
    "ax.minorticks_on()\n",
    "\n",
    "# Layout and save figure\n",
    "fig.tight_layout(pad=parameters['pad'])\n",
    "fig.savefig('images/posture_neuron/P2_fig8a.png', bbox_inches='tight')"
   ],
   "metadata": {
    "collapsed": false
   },
   "id": "66d05c6f1e554182"
  },
  {
   "cell_type": "markdown",
   "source": [
    "To visually show the results we plot the z-normalized and real body pitch together. The moving average of the estimated body pitch is also plotted for easy comparison. The highest 10% error, lowest 10% error and average performing simulations are plotted to get an idea of the total performance."
   ],
   "metadata": {
    "collapsed": false
   },
   "id": "73cb8b01a3922d58"
  },
  {
   "cell_type": "code",
   "execution_count": null,
   "outputs": [],
   "source": [
    "# Calculate the optimal MSE and corresponding simulations\n",
    "MSE_opt = MSE_array_mean[w_index, ratio_index]\n",
    "MSE_opt_sims = MSE_array[w_index, ratio_index]\n",
    "\n",
    "# Titles for the plots\n",
    "titles = ['Average', 'Highest 10% error', 'Lowest 10% error']\n",
    "\n",
    "# Indices for plots: closest to optimal, second highest, second lowest\n",
    "plot_i = [\n",
    "    np.argmin(abs(MSE_opt - MSE_opt_sims)),\n",
    "    second_index(MSE_opt_sims, 'max'),\n",
    "    second_index(MSE_opt_sims, 'min')\n",
    "]\n",
    "\n",
    "# Plot each scenario\n",
    "for i, name in enumerate(['P2_fig8b', 'P2_fig8c', 'P2_fig8d']):\n",
    "    spike_rate_up = get_firing_rate_convolve(spike_pitch[:, plot_i[i], 0, w_index, ratio_index], constants['dt'], 0.1, nan_bool=False)\n",
    "    spike_rate_down = get_firing_rate_convolve(spike_pitch[:, plot_i[i], 1, w_index, ratio_index], constants['dt'], 0.1, nan_bool=False)\n",
    "    \n",
    "    spike_rate_up_moving = get_firing_rate_convolve(spike_pitch[:, plot_i[i], 0, w_index, ratio_index], constants['dt'], 1, nan_bool=False)\n",
    "    spike_rate_down_moving = get_firing_rate_convolve(spike_pitch[:, plot_i[i], 1, w_index, ratio_index], constants['dt'], 1, nan_bool=False)\n",
    "    \n",
    "    spike_rate_combined_norm = zscore.zscore(spike_rate_up - spike_rate_down)\n",
    "    spike_rate_combined_norm_moving = zscore.zscore(spike_rate_up_moving - spike_rate_down_moving)\n",
    "    \n",
    "    pitch_norm = zscore.zscore(pitch[:, plot_i[i]])\n",
    "    \n",
    "    time = np.linspace(0, 20, num=80000)\n",
    "    \n",
    "    fig, ax = plt.subplots()\n",
    "    \n",
    "    # Plot the data\n",
    "    ax.plot(time, spike_rate_combined_norm, color='black', label='Model response', linewidth=0.5)\n",
    "    ax.plot(time, spike_rate_combined_norm_moving, color=custom_colors[0], label='Moving average')\n",
    "    ax.plot(time, pitch_norm, color=custom_colors[1], label='Exp. data')\n",
    "    \n",
    "    # Set plot limits and labels\n",
    "    ax.set_ylim(-2.5, 2.5)\n",
    "    ax.set_title(f'{titles[i]}, MSE: {MSE_opt_sims[plot_i[i]]:.3f}')\n",
    "    ax.set_xlabel(\"Time (s)\")\n",
    "    ax.set_ylabel(\"Pitch (a.u.)\")\n",
    "    \n",
    "    ax.minorticks_on()\n",
    "    \n",
    "    # Save the figure\n",
    "    fig.tight_layout(pad=parameters['pad'])\n",
    "    fig.savefig(f'images/posture_neuron/{name}.png', bbox_inches='tight')\n"
   ],
   "metadata": {
    "collapsed": false
   },
   "id": "c40153bcb6359f24"
  },
  {
   "cell_type": "markdown",
   "source": [
    "Here we plot the optimal parameters (ratios and weights) into a dataframe."
   ],
   "metadata": {
    "collapsed": false
   },
   "id": "681545299dfd21c2"
  },
  {
   "cell_type": "code",
   "execution_count": null,
   "outputs": [],
   "source": [
    "# Optimal values for climb and pitch based on the indices\n",
    "w_opt_ccn = w_array_ccn[index_m]\n",
    "ratio_opt_ccn = ratio_array_ccn[index_l]\n",
    "\n",
    "w_opt_pen = w_array_pen[w_index]\n",
    "ratio_opt_pen = ratio_array_pen[ratio_index]"
   ],
   "metadata": {
    "collapsed": false
   },
   "id": "1ab59bfa99264dd0"
  },
  {
   "cell_type": "code",
   "execution_count": null,
   "outputs": [],
   "source": [
    "# Create header and data arrays\n",
    "header = ['\\u03C9 (mV)', 'R', 'MCC/MSE']\n",
    "data = [\n",
    "    [f'{w_opt_ccn * 1000:.4f}', f'{w_opt_pen * 1000:.4f}'],\n",
    "    [f'{ratio_opt_ccn:.3f}', f'{ratio_opt_pen:.3f}'],\n",
    "    [f'{np.max(MCC_classifier_mean):.3f}', f'{np.max(MSE_opt):.3f}']\n",
    "]\n",
    "\n",
    "# Create DataFrame and save to CSV\n",
    "df = pd.DataFrame(data=data, index=header, columns=['Climb', 'Pitch'])\n",
    "df.to_csv('results/posture_results_table.csv')\n",
    "\n",
    "# Display the DataFrame\n",
    "print(df)"
   ],
   "metadata": {
    "collapsed": false
   },
   "id": "6a981f0e453998ee"
  }
 ],
 "metadata": {
  "kernelspec": {
   "display_name": "Python 3",
   "language": "python",
   "name": "python3"
  },
  "language_info": {
   "codemirror_mode": {
    "name": "ipython",
    "version": 2
   },
   "file_extension": ".py",
   "mimetype": "text/x-python",
   "name": "python",
   "nbconvert_exporter": "python",
   "pygments_lexer": "ipython2",
   "version": "2.7.6"
  }
 },
 "nbformat": 4,
 "nbformat_minor": 5
}
