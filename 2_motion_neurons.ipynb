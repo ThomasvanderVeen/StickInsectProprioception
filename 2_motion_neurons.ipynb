{
 "cells": [
  {
   "cell_type": "markdown",
   "source": [
    "# Notebook 2: Velocity Interneurons\n",
    "\n",
    "### General Overview\n",
    "\n",
    "Velocity interneurons (IN) are modeled to spike whenever the joint angle transitions from the receptive field of one hair to the next. To accomplish this, we could leverage the phasic response of the sensory neurons. Connecting a high-pass filter with the correct paramaters to each hair ensures that only the spikes from the phasic peak pass through the filter. All the high-pass filter outputs of a hair field combine into a velocity IN. Since the hair field is binary, there are two velocity IN per joint. One encoding positive movement, with the other encoding negative movement.\n",
    "\n",
    "### Cell-by-Cell Description\n",
    "\n",
    "#### Importing Modules and Creating Folders\n",
    "\n",
    "This cell serves to import general functions, modules, and dictionaries from the 'general' module. Additionally, it imports the LIF, AdEx and HairField classes, which is integral to subsequent analyses. See 'classes.py' for more information."
   ],
   "metadata": {
    "collapsed": false
   },
   "id": "f27755ff2e5f4df0"
  },
  {
   "cell_type": "code",
   "execution_count": null,
   "outputs": [],
   "source": [
    "from general import *\n",
    "from classes import *\n",
    "\n",
    "create_folder_if_not_exists('images')\n",
    "create_folder_if_not_exists('images/velocity_neuron')\n",
    "create_folder_if_not_exists('results')"
   ],
   "metadata": {
    "collapsed": false
   },
   "id": "c8147681f8d73185"
  },
  {
   "cell_type": "markdown",
   "source": [
    "### The LIF Model\n",
    "\n",
    "The Leaky Integrate-and-Fire (LIF) model establishes a linear relationship between the input current or spikes and the resulting output spike rate. Unlike the AdEx model, which includes adaptation mechanisms, the LIF model solely integrates its input and decays over time without any adaptation. The LIF model dynamics are implemented using the `LIF` class from the 'classes.py' file. \n",
    "\n",
    "First, we define the model parameters, create an instance, and initialize the model. We need two kinds of LIF models: a high pass filter and a velocity input (IN). The high pass filter can be constructed from the LIF while carefully balancing the synaptic weight ω and time constant τ The velocity IN combines all input spikes, creating a postsynaptic spike at each presynaptic spike. To achieve this, we ensure that the synaptic weight ω is greater than the threshold potential minus the resting potential, i.e., $\\omega > V_T - E_L$   "
   ],
   "metadata": {
    "collapsed": false
   },
   "id": "31b82712587c4663"
  },
  {
   "cell_type": "code",
   "execution_count": null,
   "outputs": [],
   "source": [
    "# Define high-pass filter parameters\n",
    "hp_filter_parameters = {\n",
    "    'tau': 5e-3,                                                # Membrane time constant (s)\n",
    "    'V_T': -50e-3,                                              # threshold voltage (V)\n",
    "    'V_R': -70e-3,                                              # Reset voltage after spike (V)\n",
    "    'n': 2 * constants['N_ANGLES'] * parameters['N_HAIRS'],     # Number of neurons (1 for each hair and joint)\n",
    "    'w': 10.8e-3,                                               # Synaptic weight\n",
    "    'N_input': 1,                                               # Number of input neurons\n",
    "    'dt': constants['dt'],                                      # Simulation time step (s)\n",
    "    'n_sims': 1,                                                # Number of simulations\n",
    "    'multiple_synapses': False                                  # Multiple synapses flag\n",
    "}\n",
    "\n",
    "# Define velocity parameters\n",
    "velocity_parameters = {\n",
    "    'tau': 5e-3,                                                \n",
    "    'V_T': -50e-3,\n",
    "    'V_R': -70e-3,\n",
    "    'n': 2 * constants['N_ANGLES'],     # Number of neurons (2 for each joint)\n",
    "    'w': 30e-3,\n",
    "    'N_input': parameters['N_HAIRS'],\n",
    "    'dt': constants['dt'],\n",
    "    'refrac': 0,\n",
    "    'n_sims': 1,\n",
    "    'multiple_synapses': True\n",
    "}\n",
    "\n",
    "# Initialize the high pass filter\n",
    "hp_filter = LIF(hp_filter_parameters)\n",
    "hp_filter.initialize_state()\n",
    "\n",
    "# Initialize velocity neuron\n",
    "velocity_neuron = LIF(velocity_parameters)\n",
    "velocity_neuron.initialize_state()"
   ],
   "metadata": {
    "collapsed": false
   },
   "id": "5a5881a7eaa389b5"
  },
  {
   "cell_type": "markdown",
   "source": [
    "### The Velocity Neuron\n",
    "\n",
    "The 'run_velocity()' function processes spike sensory data across multiple simulations and time steps. It applies a high-pass filter to the sensory input, reshapes the filtered output, and computes the velocity neuron spike behaviour, storing the results in a structured array."
   ],
   "metadata": {
    "collapsed": false
   },
   "id": "5c78b49a1c5be488"
  },
  {
   "cell_type": "code",
   "execution_count": null,
   "outputs": [],
   "source": [
    "def run_velocity(spike_sensory, n_simulations, n_steps):\n",
    "    \n",
    "    # Initialize constants and arrays\n",
    "    n_angles = constants['N_ANGLES']\n",
    "    n_hairs = parameters['N_HAIRS']\n",
    "    spike_sensory_filtered = np.empty((n_steps, hp_filter_parameters['n']), dtype=np.uint8)\n",
    "    spike_velocity = np.empty((n_steps, 2 * n_angles, n_simulations), dtype=np.uint8)\n",
    "    \n",
    "    # Loop over all simulations\n",
    "    for k in tqdm(range(n_simulations)):\n",
    "        # Extract kth spike train to work with smaller arrays\n",
    "        spike_sensory_k = spike_sensory[:, :, k]\n",
    "        \n",
    "        for i in range(n_steps):\n",
    "            # Perform high pass filter on the current step\n",
    "            _, filtered_output = hp_filter.forward(spike_sensory_k[i, :])\n",
    "            spike_sensory_filtered[i, :] = filtered_output\n",
    "            \n",
    "            # Reshape the filtered output and combine spikes to get velocity estimate\n",
    "            reshaped_filtered_output = filtered_output.reshape(2 * n_angles, n_hairs)\n",
    "            _, velocity_output = velocity_neuron.forward(reshaped_filtered_output)\n",
    "            spike_velocity[i, :, k] = velocity_output\n",
    "    \n",
    "    return spike_velocity"
   ],
   "metadata": {
    "collapsed": false
   },
   "id": "964333bfee481d7c"
  },
  {
   "cell_type": "markdown",
   "source": [
    "This cell loads the sensory spike data for both step and no-step trials. It then processes this data using the run_velocity() function and saves the resulting output spikes."
   ],
   "metadata": {
    "collapsed": false
   },
   "id": "638f600324fc7117"
  },
  {
   "cell_type": "code",
   "execution_count": null,
   "outputs": [],
   "source": [
    "# Load sensory spike data from files\n",
    "with open('temp_data/spike_sensory', 'rb') as file:\n",
    "    spike_sensory = np.load(file) \n",
    "    \n",
    "with open('temp_data/spike_sensory_step', 'rb') as file:\n",
    "    spike_sensory_step = np.load(file) \n",
    "\n",
    "# Run velocity neuron simulation for regular and step data\n",
    "spike_velocity =  run_velocity(spike_sensory, np.min((parameters['N_SIMULATIONS'], 78)), constants['N_STEPS'])\n",
    "spike_velocity_step =  run_velocity(spike_sensory_step, np.min((parameters['N_SIMULATIONS'], 21)), constants['N_STEPS_STEP'])\n",
    "\n",
    "# Save the velocity spike data if required\n",
    "if parameters['save_data']:\n",
    "    with open('temp_data/spike_velocity', 'wb') as file:\n",
    "        np.save(file, spike_velocity)\n",
    "        \n",
    "    with open('temp_data/spike_velocity_step', 'wb') as file:\n",
    "        np.save(file, spike_velocity_step)"
   ],
   "metadata": {
    "collapsed": false
   },
   "id": "c69b4fade3d3d30a"
  },
  {
   "cell_type": "markdown",
   "source": [
    "### Statistics and Performance\n",
    "\n",
    "In this cell, the firing rate is computed from the spike train arrays. This firing rate is then z-normalized and visually compared to the z-normalized experimental joint velocities. From this comparison, the Mean Squared Error (MSE) is calculated for each timestep, trial, and joint. The process is repeated with a time delta of 0.025s to demonstrate that the response to the velocity input is delayed by 0.025s."
   ],
   "metadata": {
    "collapsed": false
   },
   "id": "816639493a012fbc"
  },
  {
   "cell_type": "markdown",
   "source": [],
   "metadata": {
    "collapsed": false
   },
   "id": "ee3fc6a42df44731"
  },
  {
   "cell_type": "code",
   "execution_count": null,
   "outputs": [],
   "source": [
    "# Load joint angles from file\n",
    "with open('temp_data/joint_angles', 'rb') as file:\n",
    "    joint_angles = np.load(file)\n",
    "\n",
    "# Define deltas to show that the velocity response is 0.025ms delayed\n",
    "delta_1 = int(0.025 / constants['dt'])\n",
    "delta_2 = 1\n",
    "\n",
    "# Initialize list to store mean squared errors\n",
    "MSEs = []\n",
    "\n",
    "# Define time vector\n",
    "time = np.linspace(0, constants['T_TOTAL'], num=constants['N_STEPS'])\n",
    "\n",
    "# Loop over deltas\n",
    "for delta in [delta_1, delta_2]:\n",
    "    MSE = np.zeros((parameters['N_SIMULATIONS'], constants['N_ANGLES']))\n",
    "    \n",
    "    # Loop over the number of simulations and 18 joints\n",
    "    for k in range(parameters['N_SIMULATIONS']):\n",
    "        for m in range(constants['N_ANGLES']):\n",
    "            \n",
    "            # Compute firing rates for vel- and vel+\n",
    "            firing_rate_down = get_firing_rate_convolve(spike_velocity[:, 2*m, k], constants['dt'], t=0.01, nan_bool=False)\n",
    "            firing_rate_up = get_firing_rate_convolve(spike_velocity[:, 2*m + 1, k], constants['dt'], t=0.01, nan_bool=False)\n",
    "            \n",
    "            # Combine the firing rates, vel+ - vel-\n",
    "            combined_firing_rate = firing_rate_up - firing_rate_down\n",
    "            \n",
    "            # Z-Normalize the combined firing rate and joint angles\n",
    "            combined_firing_rate_norm = zscore.zscore(combined_firing_rate)\n",
    "            joint_velocity_norm = zscore.zscore(np.diff(joint_angles[:, m, k]) / constants['dt'])\n",
    "            \n",
    "            # Calculate MSE in each iteration, skip the first 2000 (to compensate for the delta)\n",
    "            MSE[k, m] = np.mean((combined_firing_rate_norm[2001:] - joint_velocity_norm[2000-delta: -delta])**2)\n",
    "            \n",
    "            # Plot only the first leg (R1) and joint (alpha)\n",
    "            if k == 0 and m == 0:\n",
    "                # Create subplots\n",
    "                fig, ax = plt.subplots()\n",
    "                \n",
    "                # Plot the normalized joint velocity and model prediction \n",
    "                ax.plot(time[:-1], joint_velocity_norm, color='black', label='Exp. data')\n",
    "                ax.plot(time[:-delta], combined_firing_rate_norm[delta:], color=custom_colors[0], label='Model response')\n",
    "                \n",
    "                # Set axis parameters\n",
    "                ax.set_xlim([1, 3])\n",
    "                ax.set_xlabel(\"Time (s)\")\n",
    "                ax.set_ylabel(\"Angular velocity (a.u.)\")\n",
    "                ax.minorticks_on()\n",
    "                ax.legend(frameon=False)\n",
    "                \n",
    "                # pad fig and save\n",
    "                fig.tight_layout(pad=parameters['pad'])\n",
    "                fig.savefig('images/velocity_neuron/P1_fig5d.png')\n",
    "       \n",
    "    # Append the mean MSE of the delta\n",
    "    MSEs.append(np.mean(MSE))\n",
    "\n",
    "# Print MSEs\n",
    "print(MSEs)"
   ],
   "metadata": {
    "collapsed": false
   },
   "id": "4facedb4b3531f33"
  },
  {
   "cell_type": "markdown",
   "source": [
    "This cell processes joint angle data to compute joint velocities and evaluate the performance of the velocity spike trains against the experimental data. It calculates binary arrays for upward and downward joint velocities, computes confusion matrices for the positive and negative velocity spike trains, and derives statistical measures from these matrices. These measures, along with pre-calculated Mean Squared Errors (MSEs), are compiled into a DataFrame and saved as a CSV file."
   ],
   "metadata": {
    "collapsed": false
   },
   "id": "ab4eebbf3de6c628"
  },
  {
   "cell_type": "code",
   "execution_count": null,
   "outputs": [],
   "source": [
    "# Load joint angle data from file\n",
    "with open('temp_data/joint_angles', 'rb') as file:\n",
    "    joint_angles = np.load(file)\n",
    "\n",
    "# Compute joint velocity by taking the difference along the first (time) axis\n",
    "joint_velocity = np.diff(joint_angles[:, :, :parameters['N_SIMULATIONS']], axis=0)\n",
    "\n",
    "# Generate binary arrays for positive (1) and negative (0) joint velocities\n",
    "joint_velocity_positive = np.heaviside(joint_velocity, 0)\n",
    "joint_velocity_negative = 1 - joint_velocity_positive\n",
    "\n",
    "# Compute confusion matrices for the positive and negative velocity spike trains vs. the experimental data\n",
    "true_positive, false_positive, _, _ = get_confusion_matrix(spike_velocity[1:, 1::2], joint_velocity_positive)\n",
    "true_negative, false_negative, _, _ = get_confusion_matrix(spike_velocity[1:, 0::2], joint_velocity_negative)\n",
    "\n",
    "# Get statistical measures from confusion matrices and append MSEs (calculated in previous cell)\n",
    "statistical_data = get_statistics(true_positive, true_negative, false_positive, false_negative)\n",
    "statistical_data += MSEs\n",
    "\n",
    "# Define labels for the statistical data\n",
    "statistical_data_labels = [\n",
    "    'true positive', 'true negative', 'false positive', 'false negative', \n",
    "    'positives', 'negatives', 'total', 'MCC', 'accuracy', 'TPR', 'TNR', \n",
    "    'MSE_corrected', 'MSE_not_corrected'\n",
    "]\n",
    "\n",
    "# Create a DataFrame from the statistical data and labels\n",
    "df = pd.DataFrame({'value': statistical_data}, index=statistical_data_labels)\n",
    "\n",
    "# Save the DataFrame to a CSV file\n",
    "df.to_csv('results/velocity_accuracy_table.csv')"
   ],
   "metadata": {
    "collapsed": false
   },
   "id": "1a048dbb8c862976"
  },
  {
   "cell_type": "markdown",
   "source": [
    "### Figures\n",
    "\n",
    "This cell plots the vel+ and vel- spiking frequency as a function of time as well as the joint velocity for leg R1, joint α, and trial 1. "
   ],
   "metadata": {
    "collapsed": false
   },
   "id": "c6effb6e45eb6b0a"
  },
  {
   "cell_type": "code",
   "execution_count": null,
   "outputs": [],
   "source": [
    "# Extract the first simulation from the joint angles data\n",
    "joint_angles = joint_angles[:, :, 0]\n",
    "\n",
    "# Create a figure with two y-axes sharing the same x-axis\n",
    "fig, ax1 = plt.subplots()\n",
    "ax2 = ax1.twinx()\n",
    "\n",
    "# Calculate firing rates for downward and upward spike velocities\n",
    "firing_rate_down = get_firing_rate_convolve(spike_velocity[:, 0, 0], constants['dt'], t=0.025)\n",
    "firing_rate_up = get_firing_rate_convolve(spike_velocity[:, 1, 0], constants['dt'], t=0.025)\n",
    "\n",
    "# Plot the experimental joint angular velocity and horizontal dotted line (y=0) on the first y-axis\n",
    "ax1.plot(time[1:], np.diff(joint_angles[:, 0]) / constants['dt'], color='black', linestyle=custom_linestyles[0], label='Exp. data')\n",
    "ax1.plot(time, np.full(time.size, 0), color='black', linestyle='dotted')\n",
    "\n",
    "# Plot the firing rates on the second y-axis\n",
    "ax2.plot(time, firing_rate_down, color=custom_colors[0], label='vel-')\n",
    "ax2.plot(time, firing_rate_up, color=custom_colors[1], label='vel+')\n",
    "\n",
    "# Set the x-axis limits and labels\n",
    "ax1.set_xlim([1, 2])\n",
    "ax1.set_xlabel(\"Time (s)\")\n",
    "\n",
    "# Set the y-axis labels\n",
    "ax1.set_ylabel(\"Angular velocity (°$\\cdot$s$^{-1}$)\")\n",
    "ax2.set_ylabel(\"Spike rate (Hz)\")\n",
    "\n",
    "# Enable minor ticks on both axes\n",
    "ax1.minorticks_on()\n",
    "ax2.minorticks_on()\n",
    "\n",
    "# Add a legend to the figure\n",
    "fig.legend(loc='upper left', bbox_to_anchor=[0.58, 0.97], frameon=False)\n",
    "\n",
    "# Save the figure\n",
    "fig.tight_layout(pad=parameters['pad'])\n",
    "fig.savefig('images/velocity_neuron/P1_fig5c.png')"
   ],
   "metadata": {
    "collapsed": false
   },
   "id": "fb8ec1f31b6aff68"
  },
  {
   "cell_type": "markdown",
   "source": [],
   "metadata": {
    "collapsed": false
   },
   "id": "a647ce4866008e0a"
  },
  {
   "cell_type": "markdown",
   "source": [
    "This cell plots the joint angles and overlays the individual spikes of the vel+ and vel- neurons for leg R1, joint α, and trial 1."
   ],
   "metadata": {
    "collapsed": false
   },
   "id": "8afcf41b20589910"
  },
  {
   "cell_type": "code",
   "execution_count": null,
   "outputs": [],
   "source": [
    "# Convert spike_velocity array to float32 and replace zeros with NaNs for visualization\n",
    "spike_velocity = spike_velocity.astype(np.float32)\n",
    "spike_velocity[spike_velocity == 0] = np.nan\n",
    "\n",
    "# Create a figure and axis for plotting\n",
    "fig, ax = plt.subplots()\n",
    "\n",
    "# Plot the experimental joint angles over time\n",
    "plt.plot(time, joint_angles[:, 0], color='black')\n",
    "\n",
    "# Scatter plot for joint angles with vel- and vel+ spikes overlayed\n",
    "plt.scatter(time, joint_angles[:, 0] * spike_velocity[:, 0, 0], color=custom_colors[0], marker=custom_markers[0], s=10)\n",
    "plt.scatter(time, joint_angles[:, 0] * spike_velocity[:, 1, 0], color=custom_colors[1], marker=custom_markers[1], s=10)\n",
    "\n",
    "# Set the x-axis limits and labels\n",
    "ax.set_xlim([1, 5])\n",
    "ax.set_xlabel(\"Time (s)\")\n",
    "\n",
    "# Set the y-axis label\n",
    "ax.set_ylabel(\"Joint angle (°)\")\n",
    "\n",
    "# Enable minor ticks on the axis\n",
    "ax.minorticks_on()\n",
    "\n",
    "# Add a legend to the plot\n",
    "ax.legend(['Exp. data', 'vel-', 'vel+'], frameon=False, loc='upper center')\n",
    "\n",
    "# Save the figure\n",
    "fig.tight_layout(pad=parameters['pad'])\n",
    "fig.savefig('images/velocity_neuron/P1_fig5b.png')"
   ],
   "metadata": {
    "collapsed": false
   },
   "id": "3ab1815cdce00122"
  },
  {
   "cell_type": "markdown",
   "source": [
    "This cell plots the LIF response using the velocity parameters to a 333 Hz spike train"
   ],
   "metadata": {
    "collapsed": false
   },
   "id": "8eebe3dac4dcc8d8"
  },
  {
   "cell_type": "code",
   "execution_count": null,
   "outputs": [],
   "source": [
    "# Set up subplots with specific size and layout\n",
    "fig, [ax, ax2, ax3] = plt.subplots(3, figsize=(3.75*0.95, 1.2*0.95*3.75/1.61803398875), \n",
    "                                   gridspec_kw={'height_ratios': [1, 2.5, 1]}, sharex='all')\n",
    "plt.subplots_adjust(wspace=0, hspace=0.05)  # Adjust space between subplots\n",
    "\n",
    "# Change multiple synapses to false in the velocity parameters (there is one input)\n",
    "hp_filter_parameters['multiple_synapses'] = False\n",
    "hp_filter_parameters['n'] = 1\n",
    "\n",
    "# Initialize the LIF neuron with velocity parameters\n",
    "LIF_neuron = LIF(hp_filter_parameters)\n",
    "LIF_neuron.initialize_state()\n",
    "\n",
    "# Create input signal\n",
    "input = np.zeros(1000)\n",
    "input[50:800][::12] = 1  # Set spikes in input\n",
    "\n",
    "# Initialize arrays to store voltage, spikes, and time\n",
    "voltage, spikes, time = np.zeros(input.size), np.zeros(input.size), np.zeros(input.size)\n",
    "\n",
    "# Simulate the neuron dynamics\n",
    "for i in range(input.size):\n",
    "    voltage[i], spikes[i] = LIF_neuron.forward(input[i])\n",
    "    time[i] = i * 0.0001  # Update time\n",
    "\n",
    "# Plot the input spikes\n",
    "ax.plot(time, input, color=custom_colors[0])    \n",
    "ax.set_ylabel(\"Pre\")  # Label for the input spikes subplot\n",
    "ax.set_yticks([0, 1])     # Y-axis ticks for input spikes\n",
    "ax.set_xticks([0, 0.1, 0.2])  # X-axis ticks for time\n",
    "ax.set_ylim(0, 1.5)       # Set Y-axis limits\n",
    "\n",
    "# Plot the membrane potential\n",
    "ax2.plot(time, voltage * 1000, color=custom_colors[0])\n",
    "ax2.set_ylabel(\"V (mV)\")  # Label for the membrane potential subplot\n",
    "ax2.set_yticks([-70, -50])  # Y-axis ticks for membrane potential\n",
    "\n",
    "# Plot the output spikes\n",
    "ax3.plot(time, spikes, color=custom_colors[0])\n",
    "ax3.set_ylabel(\"Post\")  # Label for the output spikes subplot\n",
    "ax3.set_yticks([0, 1])     # Y-axis ticks for output spikes\n",
    "ax3.set_xlabel(\"Time (s)\")  # X-axis label for time\n",
    "ax3.set_ylim(0, 1.5)       # Set Y-axis limits\n",
    "\n",
    "# Align Y-axis labels of all subplots\n",
    "fig.align_ylabels([ax, ax2, ax3])\n",
    "\n",
    "# Adjust layout to prevent overlap\n",
    "fig.tight_layout(pad=parameters['pad'])\n",
    "\n",
    "# Save the figure\n",
    "fig.savefig('images/velocity_neuron/P1_S2.png')"
   ],
   "metadata": {
    "collapsed": false
   },
   "id": "6ceda7e1b211acc5"
  },
  {
   "cell_type": "markdown",
   "source": [
    "This cell plots the velocity neuron spike rate as a function of angular velocity for various hair numbers (hair field) and synaptic weights (high pass filter)."
   ],
   "metadata": {
    "collapsed": false
   },
   "id": "539dbc17f9fa06"
  },
  {
   "cell_type": "code",
   "execution_count": null,
   "outputs": [],
   "source": [
    "# Check if optimization is to be run\n",
    "if parameters['run_optimization']:\n",
    "    # Define parameters\n",
    "    N_HAIRS_LIST = np.array([25, 50])\n",
    "    WEIGHT_LIST = np.array([9e-3, 10.8e-3])\n",
    "    I_phi = 50e-12\n",
    "    text_offset = [0, +30, -30, 0]\n",
    "    N_SPEEDS = 11\n",
    "    T_TOTAL = 20\n",
    "    index = 0  \n",
    "    \n",
    "    # Calculate the number of time steps and time array\n",
    "    N_STEPS = int(T_TOTAL / constants['dt'])\n",
    "    time = np.linspace(0, constants['T_TOTAL'], num=constants['N_STEPS'])\n",
    "    \n",
    "    # Create the speeds array and ramp durations\n",
    "    speeds = np.linspace(25, 300, num=N_SPEEDS)\n",
    "    ramp = (180 / (speeds * constants['dt'])).astype(int)\n",
    "    speeds = np.concatenate((np.zeros(1), speeds))\n",
    "    \n",
    "    # Initialize arrays to store spike velocities and spike rates\n",
    "    spike_velocity = np.zeros((N_STEPS, N_SPEEDS))\n",
    "    spike_rates = np.zeros((N_HAIRS_LIST.size, WEIGHT_LIST.size, N_SPEEDS + 1))\n",
    "    \n",
    "    # Create a figure and axis for plotting\n",
    "    fig, ax = plt.subplots()\n",
    "    \n",
    "    # Loop through combinations of hair counts and weights\n",
    "    for l, m in tqdm(np.ndindex(N_HAIRS_LIST.size, WEIGHT_LIST.size)):\n",
    "        \n",
    "        # Define hair field parameters\n",
    "        parameters_hair_field = {\n",
    "            'N_hairs': N_HAIRS_LIST[l],\n",
    "            'max_joint_angle': 180,\n",
    "            'min_joint_angle': 0,\n",
    "            'max_angle': 90,\n",
    "            'overlap': 4\n",
    "        }\n",
    "\n",
    "        # Define sensory neuron parameters\n",
    "        sensory_parameters = {\n",
    "            'C': 200e-12,\n",
    "            'g_L': 2e-9,\n",
    "            'E_L': -70e-3,\n",
    "            'DeltaT': 2e-3,\n",
    "            'a': 2e-9,\n",
    "            'V_T': -50e-3,\n",
    "            'tau_W': 50e-3,\n",
    "            'b': 264e-12,\n",
    "            'V_R': -70e-3,\n",
    "            'V_cut': -50e-3,\n",
    "            'n': N_HAIRS_LIST[l],\n",
    "            'dt': constants['dt']\n",
    "        }\n",
    "        \n",
    "        # Define velocity neuron parameters\n",
    "        velocity_parameters = {\n",
    "            'tau': 5e-3,\n",
    "            'V_T': -50e-3,\n",
    "            'V_R': -70e-3,\n",
    "            'n': N_HAIRS_LIST[l],\n",
    "            'w': WEIGHT_LIST[m],\n",
    "            'N_input': 1,\n",
    "            'dt': constants['dt'],\n",
    "            'refrac': 0,\n",
    "            'n_sims': 1,\n",
    "            'multiple_synapses': False\n",
    "        }\n",
    "        \n",
    "        # Initialize hair field\n",
    "        hair_field = HairField(parameters_hair_field)\n",
    "        hair_field.get_receptive_field()\n",
    "        \n",
    "        # Initialize velocity neuron\n",
    "        velocity_neuron = LIF(velocity_parameters)\n",
    "        velocity_neuron.initialize_state()\n",
    "        \n",
    "        # Initialize sensory neuron\n",
    "        sensory_neuron = AdEx(sensory_parameters)\n",
    "        sensory_neuron.initialize_state()\n",
    "        \n",
    "        # Loop through speeds\n",
    "        for j in range(N_SPEEDS):\n",
    "            # Create ramp angles\n",
    "            t1 = np.linspace(0, 180, num=ramp[j])\n",
    "            t2 = np.linspace(180, 180, num=N_STEPS - ramp[j])\n",
    "            ramp_angles = np.concatenate((t1, t2))\n",
    "            hair_angles = hair_field.get_hair_angle(ramp_angles) * I_phi\n",
    "            \n",
    "            # Simulate neuron responses\n",
    "            for i in range(N_STEPS):\n",
    "                _, spike_1 = sensory_neuron.forward(hair_angles[i])\n",
    "                _, spike_2 = velocity_neuron.forward(spike_1)\n",
    "                spike_velocity[i, j] = np.sum(spike_2)\n",
    "            \n",
    "            # Calculate spike rates\n",
    "            spike_rates[l, m, j + 1] = np.sum(spike_velocity[:ramp[j], j] / (ramp[j] * constants['dt']))\n",
    "        \n",
    "        # Fit linear regression model to spike rates\n",
    "        model = LinearRegression().fit(speeds.reshape(-1, 1), spike_rates[l, m, :])\n",
    "        R_squared = model.score(speeds.reshape(-1, 1), spike_rates[l, m, :])\n",
    "        \n",
    "        # Print the slope of the model\n",
    "        print(rf\"$\\omega$ = {WEIGHT_LIST[m] * 1000}, $N_h$ = {N_HAIRS_LIST[l]}, slope: {model.coef_}\")\n",
    "        \n",
    "        # Plot the spike rates\n",
    "        ax.scatter(0, 0, color=custom_colors[index], marker=custom_markers[index], s=15)\n",
    "        ax.scatter(speeds, spike_rates[l, m, :], color=custom_colors[index], marker=custom_markers[index], s=15,\n",
    "                   label=r'$\\omega$ = ' + str(WEIGHT_LIST[m] * 1000) + 'mV, $N_{h}$ = ' + str(N_HAIRS_LIST[l]), zorder=2)\n",
    "        ax.text(speeds[-1] + 12, spike_rates[l, m, -1] - 15 + text_offset[index], fr'$r^2$ = {R_squared:.3f}', color=custom_colors[index])\n",
    "        \n",
    "        index += 1  # Increment plot index\n",
    "    \n",
    "    # Set plot labels and limits\n",
    "    ax.set_xlabel(r\"Angular velocity (°$\\cdot$s$^{-1}$)\")\n",
    "    ax.set_ylabel(\"Spike rate (Hz)\")\n",
    "    ax.set_xlim([-10, 410])\n",
    "    ax.set_ylim([-20, 670])\n",
    "    \n",
    "    # Add legend to the plot\n",
    "    ax.legend(frameon=False, bbox_to_anchor=[0.47, 1.04])\n",
    "    \n",
    "    # Enable minor ticks\n",
    "    ax.minorticks_on()\n",
    "    \n",
    "    # Adjust layout and save the figure\n",
    "    fig.tight_layout(pad=parameters['pad'])\n",
    "    fig.savefig('images/velocity_neuron/P1_fig5a.png')"
   ],
   "metadata": {
    "collapsed": false
   },
   "id": "41f6d62a067e1a6f"
  },
  {
   "cell_type": "markdown",
   "source": [
    "This cell performs a linear regression on all the velocities to get an r-squared value, intercept and slope."
   ],
   "metadata": {
    "collapsed": false
   },
   "id": "2d676acf6f89fa01"
  },
  {
   "cell_type": "code",
   "execution_count": null,
   "outputs": [],
   "source": [
    "# Check if optimization is to be run\n",
    "if parameters['run_optimization']:\n",
    "    \n",
    "    # Initialize the linear regression model\n",
    "    model = LinearRegression()\n",
    "    \n",
    "    # Loop through combinations of hair counts and weights\n",
    "    for l, m in tqdm(np.ndindex(N_HAIRS_LIST.size, WEIGHT_LIST.size)):\n",
    "        # Fit the linear regression model to the spike rates\n",
    "        model.fit(speeds.reshape(-1, 1), spike_rates[l, m, :])\n",
    "        \n",
    "        # Calculate the R-squared value for the model\n",
    "        R_squared = model.score(speeds.reshape(-1, 1), spike_rates[l, m, :])\n",
    "        \n",
    "        # Print the R-squared value, model intercept, and coefficients\n",
    "        print(f\"R_squared: {R_squared}\")\n",
    "        print(f\"Intercept: {model.intercept_}\")\n",
    "        print(f\"Coefficients: {model.coef_}\")"
   ],
   "metadata": {
    "collapsed": false
   },
   "id": "9a97cd0a00ef1035"
  }
 ],
 "metadata": {
  "kernelspec": {
   "display_name": "Python 3",
   "language": "python",
   "name": "python3"
  },
  "language_info": {
   "codemirror_mode": {
    "name": "ipython",
    "version": 2
   },
   "file_extension": ".py",
   "mimetype": "text/x-python",
   "name": "python",
   "nbconvert_exporter": "python",
   "pygments_lexer": "ipython2",
   "version": "2.7.6"
  }
 },
 "nbformat": 4,
 "nbformat_minor": 5
}
