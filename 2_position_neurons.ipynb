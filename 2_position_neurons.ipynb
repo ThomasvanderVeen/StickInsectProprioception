{
 "cells": [
  {
   "cell_type": "markdown",
   "source": [
    "# Notebook 2: Position Interneurons\n",
    "\n",
    "### General Overview\n",
    "\n",
    "Two position integrators (INs) are added to each joint, with the function of integrating all spikes originating from a given hair field into a position-dependent spike train. These spike trains are able to encode the varying joint angles over time through their spike rate.\n",
    "\n",
    "### Cell-by-Cell Description\n",
    "\n",
    "#### Importing Modules and Creating Folders\n",
    "\n",
    "This cell serves to import general functions, modules, and dictionaries from the 'general' module. Additionally, it imports the LIF class, which is integral to subsequent analyses. The LIF class is a simplified LIF neuron, see 'classes.py' for more information.\n"
   ],
   "metadata": {
    "collapsed": false
   },
   "id": "32ebe6a0a23d3963"
  },
  {
   "cell_type": "code",
   "execution_count": null,
   "outputs": [],
   "source": [
    "from general import *\n",
    "from classes import LIF\n",
    "\n",
    "create_folder_if_not_exists('images')\n",
    "create_folder_if_not_exists('images/position_neuron')"
   ],
   "metadata": {
    "collapsed": false
   },
   "id": "initial_id"
  },
  {
   "cell_type": "markdown",
   "source": [
    "### The LIF Model\n",
    "\n",
    "The Leaky Integrate-and-Fire (LIF) model establishes a linear relationship between the input current or spikes and the resulting output spike rate. Unlike the AdEx model, which includes adaptation mechanisms, the LIF model solely integrates its input and decays over time without any adaptation. The LIF model dynamics are implemented using the `LIF` class from the 'classes.py' file. \n",
    "\n",
    "First, we define the model parameters, create an instance and initialize the model."
   ],
   "metadata": {
    "collapsed": false
   },
   "id": "4b07f8884006123f"
  },
  {
   "cell_type": "code",
   "execution_count": null,
   "outputs": [],
   "source": [
    "# Define parameters for the position neuron using the LIF model\n",
    "position_parameters = {\n",
    "    'tau': 120e-3,                          # Membrane time constant (s)\n",
    "    'V_T': -50e-3,                          # threshold voltage (V)\n",
    "    'V_R': -70e-3,                          # Reset voltage after spike (V)\n",
    "    'dt': constants['dt'],                  # Simulation time step (s)\n",
    "    'n': 2 * constants['N_ANGLES'],         # Number of neurons (2 for each joint)\n",
    "    'w': 25e-3,                             # Synaptic weight, 1E-3 for manuscript 1, 25E-3 for manuscript 2\n",
    "    'N_input': parameters['N_HAIRS'] // 2,  # Number of input neurons\n",
    "    'n_sims': 1,                            # Number of simulations\n",
    "    'multiple_synapses': True               # Multiple synapses flag\n",
    "}\n",
    "\n",
    "# Initialize the position neuron with the defined parameters and the neuron state\n",
    "position_neuron = LIF(position_parameters)\n",
    "position_neuron.initialize_state()"
   ],
   "metadata": {
    "collapsed": false
   },
   "id": "63f39d7409300486"
  },
  {
   "cell_type": "markdown",
   "source": [
    "The `run_position()` function simulates the position neuron response to sensory spikes. It reshapes the sensory spike data and processes it through the position neuron (LIF) model, iterating over each time step and simulation, and returns the resulting position neuron spikes. It does this for 78 'no step' trials and 21 'step' trials. "
   ],
   "metadata": {
    "collapsed": false
   },
   "id": "d55f6e2c43e4f44a"
  },
  {
   "cell_type": "code",
   "execution_count": null,
   "outputs": [],
   "source": [
    "def run_position(spike_sensory, n_simulations, n_steps, t_total):\n",
    "    \n",
    "    # Initialize output array for position neuron spikes\n",
    "    spike_position = np.empty((n_steps, position_parameters['n'], n_simulations), dtype=np.uint8)\n",
    "    \n",
    "    # Loop through each simulation and timestep\n",
    "    for k in tqdm(range(n_simulations)):\n",
    "        for i in range(n_steps):\n",
    "            \n",
    "            # Reshape sensory spikes for input to the position neuron: shape (simulations, hairs)\n",
    "            reshaped_spikes = np.reshape(spike_sensory[i, :, k], (position_parameters['n'], parameters['N_HAIRS']))\n",
    "            \n",
    "            # Forward pass through the position neuron, only considering half of the hairs\n",
    "            _, spike_position[i, :, k] = position_neuron.forward(reshaped_spikes[:, parameters['N_HAIRS'] // 2:])\n",
    "    \n",
    "    return spike_position"
   ],
   "metadata": {
    "collapsed": false
   },
   "id": "583f9c80c59b31a0"
  },
  {
   "cell_type": "code",
   "execution_count": null,
   "outputs": [],
   "source": [
    "# Load joint angles and sensory spike data from files\n",
    "with open('temp_data/joint_angles.npy', 'rb') as file:\n",
    "    joint_angles = np.load(file)\n",
    "\n",
    "with open('temp_data/spike_sensory', 'rb') as file:\n",
    "    spike_sensory = np.load(file)\n",
    "\n",
    "with open('temp_data/spike_sensory_step', 'rb') as file:\n",
    "    spike_sensory_step = np.load(file)\n",
    "\n",
    "# Run position neuron simulation for regular and step data\n",
    "spike_position = run_position(spike_sensory, min(parameters['N_SIMULATIONS'], 78), constants['N_STEPS'], constants['T_TOTAL'])\n",
    "spike_position_step = run_position(spike_sensory_step, min(parameters['N_SIMULATIONS'], 21), constants['N_STEPS_STEP'], constants['T_TOTAL_STEP'])\n",
    "\n",
    "# Save the position spike data if required\n",
    "if parameters['save_data']:\n",
    "    with open('temp_data/spike_position', 'wb') as file:\n",
    "        np.save(file, spike_position)\n",
    "        \n",
    "    with open('temp_data/spike_position_step', 'wb') as file:\n",
    "        np.save(file, spike_position_step)"
   ],
   "metadata": {
    "collapsed": false
   },
   "id": "ab665751bd8635c3"
  },
  {
   "cell_type": "markdown",
   "source": [
    "#### Testing & Visualization: Position IN Response to Joint Angle Stimulus\n",
    "\n",
    "This figure shows the spike rate response of pos+ and pos- INs to a joint angle stimulus. The pos+ IN fires when the joint angle exceeds the resting angle, while the pos- IN fires when the joint angle is below the resting angle."
   ],
   "metadata": {
    "collapsed": false
   },
   "id": "5c9222d38e9b1ae5"
  },
  {
   "cell_type": "code",
   "execution_count": null,
   "outputs": [],
   "source": [
    "# Create a figure with two y-axes\n",
    "fig, ax1 = plt.subplots()\n",
    "ax2 = ax1.twinx()\n",
    "\n",
    "# Define handles for legend labels\n",
    "handles = ['pos-', 'pos+']\n",
    "\n",
    "# Define time array\n",
    "time = np.linspace(0, constants['T_TOTAL'], num=constants['N_STEPS'])\n",
    "\n",
    "# Plot firing rates of pos- and pos+ neurons\n",
    "for i in range(2):\n",
    "    firing_rate = get_firing_rate_convolve(spike_position[:, i, 0], constants['dt'], 0.05)\n",
    "    ax2.plot(time, firing_rate, color=custom_colors[i], label=handles[i])\n",
    "\n",
    "# Plot experimental joint angle data and resting angle\n",
    "ax1.plot(time, joint_angles[:, 0, 0], color='black', label='Exp. data')\n",
    "ax1.plot(time, np.full(len(time), np.max(joint_angles[:, 0, 0]) / 2 + np.min(joint_angles[:, 0, 0]) / 2), \n",
    "         linestyle='dotted', color='black')\n",
    "\n",
    "# Set ax1 parameters\n",
    "ax1.set_xlabel(\"Time (s)\")\n",
    "ax1.set_ylabel(\"Joint angle (°)\")\n",
    "ax1.minorticks_on()\n",
    "ax1.set_xlim([0, 3])\n",
    "\n",
    "# Set ax2 parameters\n",
    "ax2.set_ylabel(\"Spike rate (Hz)\")\n",
    "ax2.minorticks_on()\n",
    "ax2.set_xlim([0, 3])\n",
    "\n",
    "# Add a legend to the figure\n",
    "fig.legend(loc='lower right', frameon=False, bbox_to_anchor=[0.85, 0.72])\n",
    "\n",
    "# Adjust layout and save the figure\n",
    "fig.tight_layout(pad=parameters['pad'])\n",
    "fig.savefig('images/position_neuron/P1_fig4c.png')"
   ],
   "metadata": {
    "collapsed": false
   },
   "id": "2a01c139f66c2e99"
  },
  {
   "cell_type": "markdown",
   "source": [
    "This figure plots the combined spike rate response of the model alongside the ground truth (joint angle)."
   ],
   "metadata": {
    "collapsed": false
   },
   "id": "7d936c22f9e0fe5d"
  },
  {
   "cell_type": "markdown",
   "source": [],
   "metadata": {
    "collapsed": false
   },
   "id": "55f80c92b4136443"
  },
  {
   "cell_type": "code",
   "execution_count": null,
   "outputs": [],
   "source": [
    "# Calculate firing rates\n",
    "firing_rate_down = get_firing_rate_convolve(spike_position[:, 0, 0], constants['dt'], 0.05, nan_bool=False)\n",
    "firing_rate_up = get_firing_rate_convolve(spike_position[:, 1, 0], constants['dt'], 0.05, nan_bool=False)\n",
    "\n",
    "# Combine and z-normalize firing rates\n",
    "combined_firing_rate = firing_rate_up - firing_rate_down\n",
    "combined_firing_rate_norm = zscore.zscore(combined_firing_rate)\n",
    "\n",
    "# Z-Normalize joint angles\n",
    "joint_angle_norm = zscore.zscore(joint_angles[:, 0, 0])\n",
    "\n",
    "# Create plot\n",
    "fig, ax = plt.subplots()\n",
    "\n",
    "# Plot experimental data and model response\n",
    "ax.plot(time, joint_angle_norm, color='black', label='Exp. data')\n",
    "ax.plot(time, combined_firing_rate_norm, color=custom_colors[0], label='Model response')\n",
    "\n",
    "# Set plot parameters\n",
    "ax.set_xlim([0, 3])\n",
    "ax.set_xlabel(\"Time (s)\")\n",
    "ax.set_ylabel(\"Joint angle (a.u.)\")\n",
    "ax.minorticks_on()\n",
    "ax.legend(frameon=False)\n",
    "\n",
    "# Adjust layout and save figure\n",
    "fig.tight_layout(pad=parameters['pad'])\n",
    "fig.savefig('images/position_neuron/P1_fig4d.png')"
   ],
   "metadata": {
    "collapsed": false
   },
   "id": "4885d878b995467d"
  },
  {
   "cell_type": "markdown",
   "source": [
    "#### Optimization and performance\n",
    "\n",
    "We calculate the Mean Squared Error (MSE) between the z-normalized joint angles and the z-normalized combined pos+ and pos- spike rates. The MSE is averaged over each timestep, joint, and trial. Optimization occurs only if the `run_optimization` parameter is set to True. The results are plotted in a heatmap."
   ],
   "metadata": {
    "collapsed": false
   },
   "id": "17a4922e6ed1728e"
  },
  {
   "cell_type": "code",
   "execution_count": null,
   "outputs": [],
   "source": [
    "if parameters['run_optimization']:\n",
    "    # Define parameters, initialize arrays\n",
    "    N_GRID = 8\n",
    "    N_ANGLES = 18\n",
    "    weight_list = np.linspace(1e-3, 8e-3, num=N_GRID)\n",
    "    tau_list = np.linspace(40e-3, 180e-3, num=N_GRID)\n",
    "    MSE = np.empty((N_ANGLES, parameters['N_SIMULATIONS'], N_GRID, N_GRID))\n",
    "    \n",
    "    # loop over different weights and taus \n",
    "    for l, m in tqdm(np.ndindex(N_GRID, N_GRID), desc=f'Total iterations: {N_GRID * N_GRID}'):\n",
    "        # Update position parameters, different for each iteration\n",
    "        position_parameters['w'] = weight_list[l]\n",
    "        position_parameters['tau'] = tau_list[m]\n",
    "        \n",
    "        # Initialize position neuron model using these parameters\n",
    "        position_neuron = LIF(position_parameters)\n",
    "        position_neuron.initialize_state()\n",
    "        \n",
    "        # Loop over simulations and simulation steps\n",
    "        for k in range(parameters['N_SIMULATIONS']):\n",
    "            for i in range(constants['N_STEPS']):\n",
    "                # Reshape spikes for the current simulation step\n",
    "                reshaped_spikes = np.reshape(spike_sensory[i, :, k], (position_parameters['n'], parameters['N_HAIRS']))\n",
    "                \n",
    "                # Forward pass through the position neuron model\n",
    "                _, spike_position[i, :, k] = position_neuron.forward(reshaped_spikes[:, parameters['N_HAIRS'] // 2:])\n",
    "            \n",
    "            # Loop over all 18 joint angles\n",
    "            for i in range(N_ANGLES):\n",
    "                # Compute firing rates\n",
    "                firing_rate_down = get_firing_rate_convolve(spike_position[:, 0 + 2 * i, k], constants['dt'], 0.05, nan_bool=False)\n",
    "                firing_rate_up = get_firing_rate_convolve(spike_position[:, 1 + 2 * i, k], constants['dt'], 0.05, nan_bool=False)\n",
    "                \n",
    "                # Combine the firing rates\n",
    "                combined_firing_rate = firing_rate_up - firing_rate_down\n",
    "                combined_firing_rate = zscore.zscore(combined_firing_rate)\n",
    "                \n",
    "                # Normalize the joint angles\n",
    "                joint_angle = zscore.zscore(joint_angles[:, i, k])\n",
    "                \n",
    "                # Calculate Mean Squared Error (MSE) for each joint angle, simulation, weight and time constant\n",
    "                MSE[i, k, l, m] = np.mean((combined_firing_rate - joint_angle) ** 2)"
   ],
   "metadata": {
    "collapsed": false
   },
   "id": "d60dbd4e58a06cf"
  },
  {
   "cell_type": "code",
   "execution_count": null,
   "outputs": [],
   "source": [
    "if parameters['run_optimization']:\n",
    "    \n",
    "    # Calculate the mean MSE across simulations and joint angles, then scale by 100 (for plotting)\n",
    "    MSE_mean = np.mean(MSE * 100, axis=(0, 1))\n",
    "    \n",
    "    # Create a DataFrame for the heatmap\n",
    "    df = pd.DataFrame(MSE_mean, index=np.round(weight_list * 1E3).astype(int), columns=np.round(tau_list * 1E3).astype(int))\n",
    "    \n",
    "    # Plot heatmap\n",
    "    fig, ax = plt.subplots()\n",
    "    heatmap = sns.heatmap(data=df, annot=True, fmt='.3f', cbar_kws={'label': 'MSE $(10^{-2})$'}, cbar=False, cmap='flare', annot_kws={\"fontsize\": 8})\n",
    "    heatmap.set(ylabel='$\\omega$ (mV)', xlabel=r'$\\tau$ (ms)')\n",
    "    ax.set_title('Mean squared error $(10^{-2})$')\n",
    "    \n",
    "    # Adjust layout and save figure\n",
    "    fig.tight_layout(pad=parameters['pad'])\n",
    "    fig.savefig('images/position_neuron/P1_fig4b.png')"
   ],
   "metadata": {
    "collapsed": false
   },
   "id": "bebe45c576c2e6b1"
  },
  {
   "cell_type": "markdown",
   "source": [
    "#### Testing performance for legs and joints\n",
    "\n",
    "To test whether position IN performance was the same irrespective of leg or joint types, a two-way ANOVA was conducted to examine the effect of the factors 'joint type' ($\\alpha$, $\\beta$ and $\\gamma$) and 'leg type' (front, middle, and hind) on the MSE."
   ],
   "metadata": {
    "collapsed": false
   },
   "id": "73927e916df9ee6e"
  },
  {
   "cell_type": "code",
   "execution_count": null,
   "outputs": [],
   "source": [
    "if parameters['run_optimization']:\n",
    "    # Load animal data for simulations\n",
    "    with open('temp_data/animals_nostep.npy', 'rb') as file:\n",
    "        animals_nostep = np.load(file)[:parameters['N_SIMULATIONS']].tolist()\n",
    "    \n",
    "    # Determine the number of unique animals\n",
    "    n_animals = len(set(animals_nostep))\n",
    "    MSE_animals = np.zeros((constants['N_ANGLES'], n_animals))\n",
    "    \n",
    "    # Select a subset of the MSE for a specific set of parameters\n",
    "    max_indices = np.unravel_index(MSE_mean.argmax(), MSE_mean.shape)\n",
    "\n",
    "    MSE_opt = MSE[:, :, max_indices[1], max_indices[0]]\n",
    "    \n",
    "    j = 0\n",
    "    for i in range(n_animals):\n",
    "        # Count the number of simulations for the current animal\n",
    "        animal_num = animals_nostep.count(animals_nostep[j])\n",
    "        \n",
    "        # Calculate the mean MSE for the current animal across its simulations\n",
    "        MSE_animals[:, i] = np.mean(MSE_opt[:, j : j + animal_num], axis=1)\n",
    "        \n",
    "        # Move to the next set of simulations for the next animal\n",
    "        j += animal_num\n",
    "    \n",
    "    # Flatten the MSE data for all animals\n",
    "    MSE_animals_flat = MSE_animals.T.flatten()\n",
    "    \n",
    "    # Create leg and joint labels for the DataFrame\n",
    "    legs = np.tile(np.repeat(['front', 'middle', 'hind'], 3), 2 * n_animals)\n",
    "    joints = np.tile(['alpha', 'beta', 'gamma'], 6 * n_animals)\n",
    "    \n",
    "    # Create a DataFrame for the MSE data\n",
    "    df = pd.DataFrame({\n",
    "        'leg': legs,\n",
    "        'joint': joints,\n",
    "        'MSE': MSE_animals_flat\n",
    "    })\n",
    "    \n",
    "    # perform the model for different leg and joint types\n",
    "    model = ols('MSE ~ C(leg) + C(joint) + C(leg):C(joint)', data=df).fit()\n",
    "    results = sm.stats.anova_lm(model, typ=2)\n",
    "    \n",
    "    # Print the results\n",
    "    print(results)"
   ],
   "metadata": {
    "collapsed": false
   },
   "id": "826cac8a805481b9"
  },
  {
   "cell_type": "markdown",
   "source": [
    "Tabulate the MSE and standard deviation (SD) for the leg and joint types"
   ],
   "metadata": {
    "collapsed": false
   },
   "id": "48bfcf241b245b47"
  },
  {
   "cell_type": "code",
   "execution_count": null,
   "outputs": [],
   "source": [
    "if parameters['run_optimization']:\n",
    "    \n",
    "    # Calculate MSE and SD for each leg and joint type\n",
    "    MSE_leg = [np.mean(MSE_animals_flat[np.where(legs == leg)[0]]) for leg in ['front', 'middle', 'hind']]\n",
    "    MSE_joint = [np.mean(MSE_animals_flat[np.where(joints == joint)[0]]) for joint in ['alpha', 'beta', 'gamma']]\n",
    "    SD_leg = [np.std(MSE_animals_flat[np.where(legs == leg)[0]]) for leg in ['front', 'middle', 'hind']]\n",
    "    SD_joint = [np.std(MSE_animals_flat[np.where(joints == joint)[0]]) for joint in ['alpha', 'beta', 'gamma']]\n",
    "    \n",
    "    # Create a DataFrame to store the MSE and SD for each leg and joint type\n",
    "    df = pd.DataFrame({\n",
    "        'leg': ['front', 'middle', 'hind'],\n",
    "        'MSE leg': MSE_leg,\n",
    "        'SD leg': SD_leg,\n",
    "        'joint': ['alpha', 'beta', 'gamma'],\n",
    "        'MSE joint': MSE_joint,\n",
    "        'SD joint': SD_joint\n",
    "    })\n",
    "    \n",
    "    # Print the DataFrame\n",
    "    print(df)"
   ],
   "metadata": {
    "collapsed": false
   },
   "id": "729c6be24c5a9061"
  },
  {
   "cell_type": "markdown",
   "source": [
    "In the 2-way ANOVA, there was a significant main effect of the factor 'joint type,' indicating that position encoding varied significantly among joints. We need to perform a Tukey HSD test to determine which joint types differ from each other."
   ],
   "metadata": {
    "collapsed": false
   },
   "id": "245a40558e06d702"
  },
  {
   "cell_type": "markdown",
   "source": [],
   "metadata": {
    "collapsed": false
   },
   "id": "eb1951f85d3988b7"
  },
  {
   "cell_type": "code",
   "execution_count": null,
   "outputs": [],
   "source": [
    "if parameters['run_optimization']:\n",
    "    \n",
    "    # Extract MSE for each joint type\n",
    "    MSE_alpha = MSE_animals_flat[np.where(joints == 'alpha')[0]]\n",
    "    MSE_beta = MSE_animals_flat[np.where(joints == 'beta')[0]]\n",
    "    MSE_gamma = MSE_animals_flat[np.where(joints == 'gamma')[0]]\n",
    "    \n",
    "    # Extract MSE for each leg type\n",
    "    MSE_front = MSE_animals_flat[np.where(legs == 'front')[0]]\n",
    "    MSE_middle = MSE_animals_flat[np.where(legs == 'middle')[0]]\n",
    "    MSE_hind = MSE_animals_flat[np.where(legs == 'hind')[0]]\n",
    "    \n",
    "    # Perform Tukey HSD test for joint types\n",
    "    res_joints = tukey_hsd(MSE_alpha, MSE_beta, MSE_gamma)\n",
    "    \n",
    "    # Perform Tukey HSD test for leg types\n",
    "    res_legs = tukey_hsd(MSE_front, MSE_middle, MSE_hind)\n",
    "    \n",
    "    # Print the results of the Tukey HSD tests\n",
    "    print(\"Tukey HSD results for joints:\")\n",
    "    print(res_joints)\n",
    "    print(\"\\nTukey HSD results for legs:\")\n",
    "    print(res_legs)"
   ],
   "metadata": {
    "collapsed": false
   },
   "id": "1c9b6eba33ab6c80"
  },
  {
   "cell_type": "markdown",
   "source": [
    "Additionally, a significant interaction between leg types and joint types was observed in the 2-way ANOVA test. We need to perform a Tukey HSD test to determine which joint types perform different for different legs."
   ],
   "metadata": {
    "collapsed": false
   },
   "id": "20d967c3ae64f2df"
  },
  {
   "cell_type": "code",
   "execution_count": null,
   "outputs": [],
   "source": [
    "if parameters['run_optimization']:\n",
    "    \n",
    "    # Extract indices for each joint type\n",
    "    indices_alpha = np.where(joints == 'alpha')[0]\n",
    "    indices_beta = np.where(joints == 'beta')[0]\n",
    "    indices_gamma = np.where(joints == 'gamma')[0]\n",
    "    \n",
    "    # Extract indices for each leg type\n",
    "    indices_front = np.where(legs == 'front')[0]\n",
    "    indices_middle = np.where(legs == 'middle')[0]\n",
    "    indices_hind = np.where(legs == 'hind')[0]\n",
    "    \n",
    "    # Perform Tukey HSD test for each joint type\n",
    "    for indices in [indices_alpha, indices_beta, indices_gamma]:\n",
    "        MSE_front = MSE_animals_flat[np.intersect1d(indices_front, indices)]\n",
    "        MSE_middle = MSE_animals_flat[np.intersect1d(indices_middle, indices)]\n",
    "        MSE_hind = MSE_animals_flat[np.intersect1d(indices_hind, indices)]\n",
    "        \n",
    "        # Perform Tukey HSD test for leg types within the current joint type\n",
    "        res = tukey_hsd(MSE_front, MSE_middle, MSE_hind)\n",
    "        \n",
    "        # Print mean MSE values for each leg type within the current joint type\n",
    "        print(\"Mean MSE for front, middle, hind legs (within current joint type):\")\n",
    "        print(np.mean(MSE_front), np.mean(MSE_middle), np.mean(MSE_hind))\n",
    "        \n",
    "        # Print Tukey HSD test results for leg types within the current joint type\n",
    "        print(\"Tukey HSD results:\")\n",
    "        print(res)"
   ],
   "metadata": {
    "collapsed": false
   },
   "id": "aa83e067f6d535ce"
  }
 ],
 "metadata": {
  "kernelspec": {
   "display_name": "Python 3",
   "language": "python",
   "name": "python3"
  },
  "language_info": {
   "codemirror_mode": {
    "name": "ipython",
    "version": 2
   },
   "file_extension": ".py",
   "mimetype": "text/x-python",
   "name": "python",
   "nbconvert_exporter": "python",
   "pygments_lexer": "ipython2",
   "version": "2.7.6"
  }
 },
 "nbformat": 4,
 "nbformat_minor": 5
}
