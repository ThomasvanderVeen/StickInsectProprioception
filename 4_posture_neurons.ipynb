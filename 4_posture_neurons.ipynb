{
 "cells": [
  {
   "cell_type": "code",
   "execution_count": 1,
   "id": "initial_id",
   "metadata": {
    "collapsed": true,
    "ExecuteTime": {
     "end_time": "2024-03-25T14:49:23.005428900Z",
     "start_time": "2024-03-25T14:49:22.168711900Z"
    }
   },
   "outputs": [],
   "source": [
    "from general import *"
   ]
  },
  {
   "cell_type": "code",
   "execution_count": 2,
   "outputs": [],
   "source": [
    "class PostureNeuron():\n",
    "    NeuronState = namedtuple('NeuronState', ['V', 'w', 'spk', 'I'])\n",
    "\n",
    "    def __init__(self, parameters):\n",
    "        super(PostureNeuron, self).__init__()\n",
    "        self.tau = parameters['tau']\n",
    "        self.V_R = parameters['V_R']\n",
    "        self.V_T = parameters['V_T']\n",
    "        self.w = parameters['w']\n",
    "        self.n = parameters['n']\n",
    "        self.N_input = parameters['N_input']\n",
    "        self.dt = parameters['dt']\n",
    "        self.state = None\n",
    "\n",
    "    def initialize_state(self):\n",
    "        self.state = None\n",
    "\n",
    "    def forward(self, input):\n",
    "        if self.state is None:\n",
    "            self.state = self.NeuronState(V=np.full((self.n,), self.V_R),\n",
    "                                          w=np.array(self.w),\n",
    "                                          spk=np.zeros(self.n),\n",
    "                                          I=np.zeros((self.n, self.N_input)))\n",
    "            \n",
    "        V = self.state.V\n",
    "        w = self.state.w\n",
    "        I = self.state.I\n",
    "        \n",
    "        V += self.dt * (self.V_R - V) / self.tau\n",
    "        V += np.sum(w * input, axis=-1)\n",
    "\n",
    "        spk = np.heaviside(V - self.V_T, 0)\n",
    "        V = (1 - spk) * V + spk * self.V_R\n",
    "\n",
    "        self.state = self.NeuronState(V=V, w=w, spk=spk, I=I)\n",
    "\n",
    "        return V, spk"
   ],
   "metadata": {
    "collapsed": false,
    "ExecuteTime": {
     "end_time": "2024-03-25T14:49:23.020435400Z",
     "start_time": "2024-03-25T14:49:23.010431100Z"
    }
   },
   "id": "4e6fe5fadb0364ff"
  },
  {
   "cell_type": "code",
   "execution_count": 3,
   "outputs": [
    {
     "ename": "FileNotFoundError",
     "evalue": "[Errno 2] No such file or directory: 'data/joint_angles_step'",
     "output_type": "error",
     "traceback": [
      "\u001B[1;31m---------------------------------------------------------------------------\u001B[0m",
      "\u001B[1;31mFileNotFoundError\u001B[0m                         Traceback (most recent call last)",
      "\u001B[1;32m~\\AppData\\Local\\Temp/ipykernel_5920/3597396112.py\u001B[0m in \u001B[0;36m<module>\u001B[1;34m\u001B[0m\n\u001B[0;32m      2\u001B[0m     \u001B[0mspike_primitive\u001B[0m \u001B[1;33m=\u001B[0m \u001B[0mpickle\u001B[0m\u001B[1;33m.\u001B[0m\u001B[0mload\u001B[0m\u001B[1;33m(\u001B[0m\u001B[0mfile\u001B[0m\u001B[1;33m)\u001B[0m\u001B[1;33m\u001B[0m\u001B[1;33m\u001B[0m\u001B[0m\n\u001B[0;32m      3\u001B[0m \u001B[1;33m\u001B[0m\u001B[0m\n\u001B[1;32m----> 4\u001B[1;33m \u001B[1;32mwith\u001B[0m \u001B[0mopen\u001B[0m\u001B[1;33m(\u001B[0m\u001B[1;34m'data/joint_angles_step'\u001B[0m\u001B[1;33m,\u001B[0m \u001B[1;34m'rb'\u001B[0m\u001B[1;33m)\u001B[0m \u001B[1;32mas\u001B[0m \u001B[0mfile\u001B[0m\u001B[1;33m:\u001B[0m\u001B[1;33m\u001B[0m\u001B[1;33m\u001B[0m\u001B[0m\n\u001B[0m\u001B[0;32m      5\u001B[0m     \u001B[0mjoint_angles_step\u001B[0m \u001B[1;33m=\u001B[0m \u001B[0mpickle\u001B[0m\u001B[1;33m.\u001B[0m\u001B[0mload\u001B[0m\u001B[1;33m(\u001B[0m\u001B[0mfile\u001B[0m\u001B[1;33m)\u001B[0m\u001B[1;33m\u001B[0m\u001B[1;33m\u001B[0m\u001B[0m\n\u001B[0;32m      6\u001B[0m \u001B[1;33m\u001B[0m\u001B[0m\n",
      "\u001B[1;31mFileNotFoundError\u001B[0m: [Errno 2] No such file or directory: 'data/joint_angles_step'"
     ]
    }
   ],
   "source": [
    "with open('data/spike_primitive', 'rb') as file:\n",
    "    spike_primitive = pickle.load(file) \n",
    "    \n",
    "with open('data/joint_angles_step', 'rb') as file:\n",
    "    joint_angles_step = pickle.load(file)\n",
    "    \n",
    "primitive_parameters = {'tau': 0.5e-3, 'V_T': -50e-3, 'V_R': -70e-3, 'n': len(synapse_type), 'w': weights_primitive, 'N_input': 3, 'dt': constants['dt']}"
   ],
   "metadata": {
    "collapsed": false,
    "ExecuteTime": {
     "end_time": "2024-03-25T14:49:23.560843700Z",
     "start_time": "2024-03-25T14:49:23.022436900Z"
    }
   },
   "id": "53919b2d4f1d0b73"
  }
 ],
 "metadata": {
  "kernelspec": {
   "display_name": "Python 3",
   "language": "python",
   "name": "python3"
  },
  "language_info": {
   "codemirror_mode": {
    "name": "ipython",
    "version": 2
   },
   "file_extension": ".py",
   "mimetype": "text/x-python",
   "name": "python",
   "nbconvert_exporter": "python",
   "pygments_lexer": "ipython2",
   "version": "2.7.6"
  }
 },
 "nbformat": 4,
 "nbformat_minor": 5
}
