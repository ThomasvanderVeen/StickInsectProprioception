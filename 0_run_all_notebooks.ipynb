{
 "cells": [
  {
   "cell_type": "markdown",
   "source": [
    "### Run all notebooks\n",
    "\n",
    "Run this notebook to run the whole simulation."
   ],
   "metadata": {
    "collapsed": false
   },
   "id": "ad754af2057ee57d"
  },
  {
   "cell_type": "code",
   "execution_count": null,
   "outputs": [],
   "source": [
    "from general import *\n",
    "\n",
    "%run prepare_data.py  "
   ],
   "metadata": {
    "collapsed": false
   },
   "id": "92487c6dd69fc3be"
  },
  {
   "cell_type": "code",
   "execution_count": null,
   "outputs": [],
   "source": [
    "parameters['run_optimization'] = True\n",
    "parameters['save_data'] = True\n",
    "\n",
    "%run 1_afferents.ipynb"
   ],
   "metadata": {
    "collapsed": false
   },
   "id": "c167a6d52d17f07b"
  },
  {
   "cell_type": "code",
   "execution_count": null,
   "outputs": [],
   "source": [
    "parameters['run_optimization'] = True\n",
    "parameters['save_data'] = True\n",
    "\n",
    "%run 2_motion_neurons.ipynb   "
   ],
   "metadata": {
    "collapsed": false
   },
   "id": "45dcea518b298a29"
  },
  {
   "cell_type": "code",
   "execution_count": null,
   "outputs": [],
   "source": [
    "parameters['run_optimization'] = True\n",
    "parameters['save_data'] = True\n",
    "\n",
    "%run 2_position_neurons.ipynb"
   ],
   "metadata": {
    "collapsed": false
   },
   "id": "c44eac8b8e72353a"
  },
  {
   "cell_type": "code",
   "execution_count": null,
   "outputs": [],
   "source": [
    "parameters['run_optimization'] = True\n",
    "parameters['save_data'] = True\n",
    "\n",
    "%run 3_motion_primitive_neurons.ipynb "
   ],
   "metadata": {
    "collapsed": false
   },
   "id": "4a6734a0922d8e4c"
  },
  {
   "cell_type": "code",
   "execution_count": null,
   "outputs": [],
   "source": [
    "parameters['run_optimization'] = True\n",
    "parameters['save_data'] = True\n",
    "\n",
    "%run 4_posture_neurons.ipynb"
   ],
   "metadata": {
    "collapsed": false,
    "is_executing": true
   },
   "id": "ea5873ca0407e0b0"
  }
 ],
 "metadata": {
  "kernelspec": {
   "display_name": "Python 3",
   "language": "python",
   "name": "python3"
  },
  "language_info": {
   "codemirror_mode": {
    "name": "ipython",
    "version": 2
   },
   "file_extension": ".py",
   "mimetype": "text/x-python",
   "name": "python",
   "nbconvert_exporter": "python",
   "pygments_lexer": "ipython2",
   "version": "2.7.6"
  }
 },
 "nbformat": 4,
 "nbformat_minor": 5
}
