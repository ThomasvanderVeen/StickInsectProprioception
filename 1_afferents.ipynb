{
 "cells": [
  {
   "cell_type": "markdown",
   "source": [
    "# Notebook 1: Afferents\n",
    "\n",
    "### General Overview\n",
    "\n",
    "The afferents, also known as hair fields, transform a time course of joint angles into $N_\\text{h}$ hair angles. These hair angles are then converted into currents, which feed into sensory neurons. The sensory neurons further convert these currents into spike trains. Their spiking dynamics are optimized to closely resemble experimental spiking dynamics [1].\n",
    "\n",
    "\n",
    ">[1] Okada, J., & Toh, Y. (2001). Peripheral representation of antennal orientation by the scapal hair plate of the cockroach Periplaneta americana. Journal of experimental biology, 204(24), 4301-4309.\n",
    "\n",
    "### Cell-by-Cell Description\n",
    "\n",
    "#### Importing Modules and Creating Folders\n",
    "\n",
    "This cell serves to import general functions, modules, and dictionaries from the 'general' module. Additionally, it imports the hair field class, which is integral to subsequent analyses. The hair field class converts joint angles into hair angles, see hair_field.py for more information."
   ],
   "metadata": {
    "collapsed": false
   },
   "id": "9c819e1525fde7a4"
  },
  {
   "cell_type": "code",
   "execution_count": null,
   "outputs": [],
   "source": [
    "# Import necessary functions, modules and dictionaries from the 'general' module\n",
    "from general import *\n",
    "\n",
    "# Import class\n",
    "from hair_field import HairField\n",
    "\n",
    "# Create a folder named 'images' and subfolder 'images/afferents' if it does not already exist \n",
    "# This is where figures will be saved\n",
    "create_folder_if_not_exists('images')\n",
    "create_folder_if_not_exists('images/afferents')"
   ],
   "metadata": {
    "collapsed": false
   },
   "id": "initial_id"
  },
  {
   "cell_type": "markdown",
   "source": [
    "#### Analyzing the Non-Binary Hair Plate Model\n",
    "\n",
    "To explore the behavior of the hair plate model, let's set up a hypothetical scenario:\n",
    "\n",
    "- The hair plate consists of 10 hairs.\n",
    "- The domain of the hair plate spans from 0$\\degree$ to 180$\\degree$.\n",
    "- The maximum deflection of each hair is 90$\\degree$.\n",
    "- There's an overlap of 4$\\degree$ between adjacent hairs.\n",
    "\n",
    "To cover the full domain of the hair plate, we generate joint angles ranging from -20$\\degree$ to 200$\\degree$. After creating an instance of the HairField class with these parameters, we convert these joint angles into $N_\\text{h}$ hair angles."
   ],
   "metadata": {
    "collapsed": false
   },
   "id": "12fb4c9a8159fb86"
  },
  {
   "cell_type": "code",
   "execution_count": null,
   "outputs": [],
   "source": [
    "# Define parameters for the hair field\n",
    "parameters_hair_field = {\n",
    "    'N_hairs': 10,                # Number of hairs\n",
    "    'max_joint_angle': 180,       # Maximum joint angle\n",
    "    'min_joint_angle': 0,         # Minimum joint angle\n",
    "    'max_angle': 90,              # Maximum angle\n",
    "    'overlap': 4                  # Overlap factor\n",
    "}\n",
    "\n",
    "# Generate joint angles from -20, to 200 with 2000 steps\n",
    "joint_angle = np.linspace(-20, 200, num=2000)\n",
    "\n",
    "# Create an instance of the HairField class with the specified parameters, and calculate the receptive field\n",
    "hair_field = HairField(parameters_hair_field)\n",
    "hair_field.get_receptive_field()\n",
    "\n",
    "# Obtain hair angles corresponding to the given joint angles\n",
    "hair_angles = hair_field.get_hair_angle(joint_angle)"
   ],
   "metadata": {
    "collapsed": false
   },
   "id": "689b3047e258acfa"
  },
  {
   "cell_type": "markdown",
   "source": [
    "plotted as follows:\n",
    " \n",
    "- The joint angles are plotted against the corresponding hair angles.\n",
    "- Shading indicates the overlaps between receptive fields.\n",
    "- The generated figures are saved in the directory 'images/afferents/'."
   ],
   "metadata": {
    "collapsed": false
   },
   "id": "ebadaecf0ea27c3e"
  },
  {
   "cell_type": "code",
   "execution_count": null,
   "outputs": [],
   "source": [
    "# Create a new figure and axis object\n",
    "fig, ax = plt.subplots()\n",
    "\n",
    "# Plot the relationship between joint angle and hair angle\n",
    "plt.plot(joint_angle, hair_angles, color=custom_colors[0], linestyle=custom_linestyles[0])\n",
    "\n",
    "# Fill the overlap between receptive fields\n",
    "for i in range(hair_field.N_hairs - 1):\n",
    "    plt.fill_between([hair_field.receptive_field[0, 1+i], hair_field.receptive_field[1, i]], [90, 90], \n",
    "                     color='grey', \n",
    "                     alpha=0.35)\n",
    "\n",
    "# Set plot labels etc. \n",
    "ax.set_xlabel(\"Joint Angle (°)\")\n",
    "ax.set_ylabel(\"Hair Angle (°)\")\n",
    "ax.set_xlim(-10, 190)\n",
    "ax.minorticks_on()\n",
    "\n",
    "# Save the figures\n",
    "fig.tight_layout(pad=parameters['pad'])\n",
    "fig.savefig('images/afferents/uni_hairplate.png')\n",
    "fig.savefig('images/afferents/uni_hairplate.pdf')"
   ],
   "metadata": {
    "collapsed": false
   },
   "id": "b6ad5c0f8b039d77"
  },
  {
   "cell_type": "markdown",
   "source": [
    "#### Analyzing the Binary Hair Plate Model\n",
    "\n",
    "To explore the behavior of the hair plate model, let's set up a hypothetical scenario:\n",
    "\n",
    "- A hair field consists of 10 hairs.\n",
    "- The domain of the hair plate spans from 0$\\degree$ to 180$\\degree$.\n",
    "- The maximum deflection of each hair is 90$\\degree$.\n",
    "- There's an overlap of 4$\\degree$ between adjacent hairs.\n",
    "\n",
    "To cover the full domain of the hair plate, we generate joint angles ranging from -20$\\degree$ to 200$\\degree$. After creating an instance of the HairField class with these parameters, we convert these joint angles into $N_\\text{h}$ hair angles."
   ],
   "metadata": {
    "collapsed": false
   },
   "id": "9c2afa38a19d58a7"
  },
  {
   "cell_type": "code",
   "execution_count": null,
   "outputs": [],
   "source": [
    "# Define parameters for the hair field\n",
    "parameters_hair_field = {\n",
    "    'N_hairs': 10,                # Number of hairs\n",
    "    'max_joint_angle': 180,       # Maximum joint angle\n",
    "    'min_joint_angle': 0,         # Minimum joint angle\n",
    "    'max_angle': 90,              # Maximum angle\n",
    "    'overlap': 4                  # Overlap factor\n",
    "}\n",
    "\n",
    "# Generate joint angles from -20, to 200 with 2000 steps\n",
    "joint_angle = np.linspace(-20, 200, num=2000)\n",
    "\n",
    "# Create an instance of the HairField class with the specified parameters, calculate the receptive field, and make it binary (two directional).\n",
    "hair_field = HairField(parameters_hair_field)\n",
    "hair_field.get_receptive_field()\n",
    "hair_field.get_double_receptive_field()\n",
    "\n",
    "# Obtain hair angles corresponding to the given joint angles\n",
    "hair_angles = hair_field.get_hair_angle(joint_angle)"
   ],
   "metadata": {
    "collapsed": false
   },
   "id": "9b9677795918221b"
  },
  {
   "cell_type": "markdown",
   "source": [
    "##### Binary Hair Plate Connected to Position DIN\n",
    "\n",
    "plotted as follows:\n",
    " \n",
    "- The joint angles are plotted against the corresponding hair angles, for both hair fields. Note that half of the hairs are plotted (position DIN)\n",
    "- Shading indicates the overlaps between receptive fields.\n",
    "- The generated figures are saved in the directory 'images/afferents/'."
   ],
   "metadata": {
    "collapsed": false
   },
   "id": "8797a5310ae99d4d"
  },
  {
   "cell_type": "code",
   "execution_count": null,
   "outputs": [],
   "source": [
    "# Create a new figure and axis object\n",
    "fig, ax = plt.subplots()\n",
    "\n",
    "# Determine indices for dividing the hair angles into positive and negative fields\n",
    "n_2 = int(hair_field.N_hairs / 2)\n",
    "n_4 = int(n_2 / 2)\n",
    "\n",
    "# Plot hair angles for the positive hair field\n",
    "plt.plot(joint_angle, hair_angles[:, n_4], color=custom_colors[0], linestyle=custom_linestyles[0])\n",
    "plt.plot(joint_angle, hair_angles[:, 1 + n_4:n_2], color=custom_colors[0], linestyle=custom_linestyles[0])\n",
    "\n",
    "# Plot hair angles for the negative hair field\n",
    "plt.plot(joint_angle, hair_angles[:, n_2 + n_4], color=custom_colors[1], linestyle=custom_linestyles[1])\n",
    "plt.plot(joint_angle, hair_angles[:, 1 + n_2 + n_4:], color=custom_colors[1], linestyle=custom_linestyles[1])\n",
    "\n",
    "# Fill the area between receptive fields for the positive hair field\n",
    "for i in range(n_4 - 1):\n",
    "    plt.fill_between([hair_field.receptive_field[0, n_4 + i + 1], hair_field.receptive_field[1, n_4 + i]], [90, 90], \n",
    "                     color=custom_colors[0],\n",
    "                     alpha=0.25)\n",
    "\n",
    "# Fill the area between receptive fields for the negative hair field\n",
    "for i in range(n_4 - 1):\n",
    "    plt.fill_between([hair_field.receptive_field[0, n_2 + n_4 + i + 1], hair_field.receptive_field[1, n_2 + n_4 + i]], [90, 90],\n",
    "                     color=custom_colors[1],\n",
    "                     alpha=0.25)\n",
    "\n",
    "# Set plot labels etc. \n",
    "ax.set_xlabel(\"Joint Angle (°)\")\n",
    "ax.set_ylabel(\"Hair Angle (°)\")\n",
    "ax.set_xlim(-10, 190)\n",
    "ax.minorticks_on()\n",
    "\n",
    "fig.tight_layout(pad=parameters['pad'])\n",
    "fig.savefig('images/afferents/bi_hairplate_pos.png')\n",
    "fig.savefig('images/afferents/bi_hairplate_pos.pdf')"
   ],
   "metadata": {
    "collapsed": false
   },
   "id": "3f6c587c254b9ba2"
  },
  {
   "cell_type": "markdown",
   "source": [
    "##### Binary Hair Plate Connected to Velocity DIN\n",
    "\n",
    "Same as before with the following changes:\n",
    "- All hairs are connected to the velocity DIN, and therefore plotted.\n",
    "- The overlap region is omitted for clarity."
   ],
   "metadata": {
    "collapsed": false
   },
   "id": "3c20c93a1f0294b2"
  },
  {
   "cell_type": "code",
   "execution_count": null,
   "outputs": [],
   "source": [
    "# Create a new figure and axis object\n",
    "fig, ax = plt.subplots()\n",
    "\n",
    "# Plot hair angles for the positive hair field\n",
    "plt.plot(joint_angle, hair_angles[:, :n_2], \n",
    "         color=custom_colors[0], \n",
    "         linestyle=custom_linestyles[0])\n",
    "\n",
    "# Plot hair angles for the negative hair field\n",
    "plt.plot(joint_angle, hair_angles[:, n_2:], \n",
    "         color=custom_colors[1], \n",
    "         linestyle=custom_linestyles[1])\n",
    "\n",
    "# Set plot labels etc.     \n",
    "ax.set_xlabel(\"joint angle (°)\")\n",
    "ax.set_ylabel(\"hair angle (°)\")\n",
    "ax.set_xlim(-10, 190)\n",
    "ax.minorticks_on()\n",
    "\n",
    "# Save the figures\n",
    "fig.tight_layout(pad=parameters['pad'])\n",
    "fig.savefig('images/afferents/bi_hairplate_vel.png')\n",
    "fig.savefig('images/afferents/bi_hairplate_vel.pdf')"
   ],
   "metadata": {
    "collapsed": false
   },
   "id": "c428eb4031ffe77a"
  },
  {
   "cell_type": "code",
   "execution_count": null,
   "outputs": [],
   "source": [
    "class SensoryNeuron:\n",
    "    NeuronState = namedtuple('NeuronState', ['V', 'w', 'spk'])\n",
    "\n",
    "    def __init__(self, parameters):\n",
    "        super(SensoryNeuron, self).__init__()\n",
    "        self.C = parameters['C']\n",
    "        self.g_L = parameters['g_L']\n",
    "        self.E_L = parameters['E_L']\n",
    "        self.DeltaT = parameters['DeltaT']\n",
    "        self.a = parameters['a']\n",
    "        self.V_T = parameters['V_T']\n",
    "        self.tau_W = parameters['tau_W']\n",
    "        self.b = parameters['b']\n",
    "        self.V_R = parameters['V_R']\n",
    "        self.V_cut = parameters['V_cut']\n",
    "        self.n = parameters['n']\n",
    "        self.dt = parameters['dt']\n",
    "        self.state = None\n",
    "\n",
    "    def initialize_state(self):\n",
    "        self.state = None\n",
    "\n",
    "    def forward(self, input):\n",
    "        if self.state is None:\n",
    "            self.state = self.NeuronState(V=np.linspace(self.E_L, self.E_L+10e-3, self.n),\n",
    "                                          w=np.zeros(self.n),\n",
    "                                          spk=np.zeros(self.n))\n",
    "        V = self.state.V\n",
    "        w = self.state.w\n",
    "        I = input\n",
    "        \n",
    "        V += (self.g_L * (self.E_L - V) + self.g_L * self.DeltaT * np.exp(\n",
    "            (V - self.V_T) / self.DeltaT) - w + I) * self.dt / self.C\n",
    "\n",
    "        spk = np.heaviside(V - self.V_cut, 0)\n",
    "        \n",
    "        V = (1 - spk) * V + spk * self.V_R\n",
    "        \n",
    "        w += spk * self.b\n",
    "        w += (self.a * (V - self.E_L) - w) * self.dt / self.tau_W\n",
    "\n",
    "        self.state = self.NeuronState(V=V, w=w, spk=spk)\n",
    "\n",
    "        return V, spk"
   ],
   "metadata": {
    "collapsed": false
   },
   "id": "a582255116f60c8b"
  },
  {
   "cell_type": "code",
   "execution_count": null,
   "outputs": [],
   "source": [
    "def ramp_generator(n_ramp, n_steps, height, base=0):\n",
    "    n_dims = height.size\n",
    "    \n",
    "    input_ramp = np.zeros((n_steps, n_dims))\n",
    "\n",
    "    for i in range(n_dims):\n",
    "        increase = np.linspace(base, height[i], n_ramp[i])\n",
    "        constant = np.linspace(height[i], height[i], n_steps - 2 * n_ramp[i])\n",
    "        decrease = np.linspace(height[i], base, n_ramp[i])\n",
    "        \n",
    "        input_ramp[:, i] = np.concatenate((increase, constant, decrease))\n",
    "        \n",
    "    return input_ramp"
   ],
   "metadata": {
    "collapsed": false
   },
   "id": "6911c78f811bb430"
  },
  {
   "cell_type": "code",
   "execution_count": null,
   "outputs": [],
   "source": [
    "sensory_parameters = {'C': 200e-12, 'g_L': 2e-9, 'E_L': -70e-3, 'DeltaT': 2e-3, 'a': 2e-9, 'V_T': -50e-3,\n",
    "                      'tau_W': 50e-3, 'b': 264e-12, 'V_R': -70e-3, 'V_cut': -40e-3, 'n': 5, 'dt': 0.0001}\n",
    "\n",
    "sensory_neuron = SensoryNeuron(sensory_parameters)\n",
    "sensory_neuron.initialize_state()"
   ],
   "metadata": {
    "collapsed": false
   },
   "id": "b6948a4e66d3007c"
  },
  {
   "cell_type": "code",
   "execution_count": null,
   "outputs": [],
   "source": [
    "v_var, v_stat = np.array([24, 47, 88, 151, 245])*4, 60*4\n",
    "max_angle_var, max_angle_stat = np.array([15, 23, 34, 46, 60]), 37\n",
    "t_total = 3\n",
    "j=0\n",
    "\n",
    "N_steps = round(t_total/sensory_parameters['dt'])\n",
    "spike_train, input_ramp = np.empty((N_steps + 2, v_var.size, 2)), np.empty((N_steps, v_var.size, 2))\n",
    "for [v, max_angle] in [[v_var, max_angle_stat], [v_stat, max_angle_var]]:\n",
    "\n",
    "    N_ramp = np.around(max_angle/(v*sensory_parameters['dt'])).astype(int)\n",
    "    height = np.empty(sensory_parameters['n'])\n",
    "    height[:] = max_angle/18e9\n",
    "    \n",
    "    input_ramp[:, :, j] = ramp_generator(N_ramp, N_steps, height)\n",
    "\n",
    "    sensory_neuron.initialize_state()\n",
    "    \n",
    "    time = np.array([])\n",
    "    for i in range(N_steps):\n",
    "        _, spike_train[i, :, j] = sensory_neuron.forward(input_ramp[i, :, j])\n",
    "        time = np.append(time, i*sensory_parameters['dt'])\n",
    "        \n",
    "    j +=1"
   ],
   "metadata": {
    "collapsed": false
   },
   "id": "5bb2c7f24ffc6ad2"
  },
  {
   "cell_type": "code",
   "execution_count": null,
   "outputs": [],
   "source": [
    "fig, [ax, ax2] = plt.subplots(2, figsize=(3.75*0.95, 3.75*0.95), gridspec_kw={'height_ratios': [1, 2]}, sharex='all')\n",
    "plt.subplots_adjust(wspace=0, hspace=0.05)\n",
    "\n",
    "for i in range(v_var.size):\n",
    "    firing_rate, spike_index = get_firing_rate_ISI(spike_train[:, i, 1], sensory_parameters['dt'])\n",
    "    ax.plot(time, input_ramp[:, i, 1]*18e9, color=custom_colors[i], linestyle=custom_linestyles[i])\n",
    "    ax2.plot(time[spike_index], firing_rate, color=custom_colors[i], linestyle=custom_linestyles[i])\n",
    "\n",
    "ax.set_ylabel(\"Hair angle (°)\")\n",
    "ax.grid(axis='y')\n",
    "\n",
    "ax2.set_xlabel(\"Time (s)\")\n",
    "ax2.set_ylabel(\"Spike rate (Hz)\")\n",
    "ax.set_ylim([0, 65])\n",
    "ax.set_yticks([0, 20, 40, 60])\n",
    "ax2.grid(axis='y')\n",
    "ax2.legend(['θ = 15°', 'θ = 23°', 'θ = 34°', 'θ = 46°', 'θ = 60°'], fancybox=False, edgecolor='black')  \n",
    "ax2.set_yticks([0, 40, 80, 120, 160, 200, 240, 280])\n",
    "ax2.minorticks_on()"
   ],
   "metadata": {
    "collapsed": false
   },
   "id": "78974a20517010e4"
  },
  {
   "cell_type": "code",
   "execution_count": null,
   "outputs": [],
   "source": [
    "fig.tight_layout(pad=parameters['pad'])\n",
    "fig.savefig('images/afferents/single_hair_constant_angle.png')\n",
    "fig.savefig('images/afferents/single_hair_constant_angle.pdf')"
   ],
   "metadata": {
    "collapsed": false
   },
   "id": "daffe56c0ca66fd9"
  },
  {
   "cell_type": "code",
   "execution_count": null,
   "outputs": [],
   "source": [
    "fig, [ax, ax2] = plt.subplots(2, figsize=(3.75*0.95, 3.75*0.95), gridspec_kw={'height_ratios': [1, 2]}, sharex='all')\n",
    "plt.subplots_adjust(wspace=0, hspace=0.05)\n",
    "\n",
    "for i in range(5):\n",
    "    firing_rate, spike_index = get_firing_rate_ISI(spike_train[:, i, 0], sensory_parameters['dt'])\n",
    "    ax.plot(time, input_ramp[:, i, 0]*18e9, color=custom_colors[i], linestyle=custom_linestyles[i])\n",
    "    ax2.plot(time[spike_index], firing_rate, color=custom_colors[i], linestyle=custom_linestyles[i])\n",
    "\n",
    "ax.set_ylabel(\"Hair angle (°)\")\n",
    "ax.grid(axis='y')\n",
    "ax.set_yticks([0, 10, 20, 30, 40])\n",
    "\n",
    "ax2.set_xlabel(\"Time (s)\")\n",
    "ax2.set_ylabel(\"Spike rate (Hz)\")\n",
    "ax2.grid(axis='y')\n",
    "ax.set_ylim([0, 65])\n",
    "ax.set_yticks([0, 20, 40, 60])\n",
    "ax2.legend(['ω = 96 °/s', 'ω = 188 °/s', 'ω = 352 °/s', 'ω = 604 °/s', 'ω = 980 °/s'], fancybox=False, edgecolor='black', loc='lower center')\n",
    "ax2.set_yticks([0, 40, 80, 120, 160])\n",
    "ax2.minorticks_on()"
   ],
   "metadata": {
    "collapsed": false
   },
   "id": "f6d94b5439e261fb"
  },
  {
   "cell_type": "code",
   "execution_count": null,
   "outputs": [],
   "source": [
    "fig.tight_layout(pad=parameters['pad'])\n",
    "fig.savefig('images/afferents/single_hair_variable_angle.png')\n",
    "fig.savefig('images/afferents/single_hair_variable_angle.pdf')"
   ],
   "metadata": {
    "collapsed": false
   },
   "id": "6fe7a7ad2507a221"
  },
  {
   "cell_type": "code",
   "execution_count": null,
   "outputs": [],
   "source": [
    "with open('data/joint_angles_' + parameters['joint_string'], 'rb') as file:\n",
    "    joint_angles = np.load(file)\n",
    "    \n",
    " \n",
    "sensory_parameters['n'] = parameters['N_HAIRS']*36\n",
    "sensory_parameters['dt'] = constants['dt']\n",
    "sensory_neuron = SensoryNeuron(sensory_parameters)\n",
    "spike_sensory = np.empty((constants['N_STEPS'], constants['N_ANGLES'] * parameters['N_HAIRS'] * 2, parameters['N_SIMULATIONS']), dtype=np.uint8)\n",
    "\n",
    "time = np.linspace(0, constants['T_TOTAL'], num=constants['N_STEPS'])"
   ],
   "metadata": {
    "collapsed": false
   },
   "id": "11332d5ced679cc4"
  },
  {
   "cell_type": "code",
   "execution_count": null,
   "outputs": [],
   "source": [
    "for k in tqdm(range(parameters['N_SIMULATIONS'])):\n",
    "    \n",
    "    joint_angle = joint_angles[:, :, k]\n",
    "\n",
    "    hair_angles = np.empty((joint_angle.shape[0], 2 * joint_angle.shape[1] * parameters['N_HAIRS']), dtype=np.float32)\n",
    "    hair_field_parameters = {'N_hairs': parameters['N_HAIRS'], 'min_joint_angle': np.amin(joint_angle, axis=0), \n",
    "                             'max_joint_angle': np.amax(joint_angle, axis=0), 'max_angle': 90, 'overlap': 0.1}\n",
    "    \n",
    "    for i in range(constants['N_ANGLES']):\n",
    "        hair_field = HairField(hair_field_parameters)\n",
    "        hair_field.reset_max_min(i)\n",
    "        hair_field.get_double_receptive_field()\n",
    "        hair_angles[:, i * 2 * parameters['N_HAIRS']: 2 * parameters['N_HAIRS'] + i * 2 * parameters['N_HAIRS']] = (\n",
    "                hair_field.get_hair_angle(joint_angle[:, i]) / 18e9)\n",
    "    \n",
    "    sensory_neuron.initialize_state()\n",
    "        \n",
    "    for i in range(constants['N_STEPS']):\n",
    "        _, spike_sensory[i, :, k] = sensory_neuron.forward(hair_angles[i, :])"
   ],
   "metadata": {
    "collapsed": false
   },
   "id": "a9f2938f547dfd3"
  },
  {
   "cell_type": "code",
   "execution_count": null,
   "outputs": [],
   "source": [
    "with open('data/spike_sensory', 'wb') as file:\n",
    "        np.save(file, spike_sensory)"
   ],
   "metadata": {
    "collapsed": false
   },
   "id": "639380a00c69c01d"
  },
  {
   "cell_type": "code",
   "execution_count": null,
   "outputs": [],
   "source": [
    "fig, ax1 = plt.subplots()\n",
    "ax2 = ax1.twinx()\n",
    "\n",
    "N_half = parameters['N_HAIRS'] // 2\n",
    "diff = hair_field.max_list[0] - hair_field.min_list[0]\n",
    "\n",
    "spike_sensory = spike_sensory[:, :, 0].astype(np.float32)\n",
    "spike_sensory[spike_sensory == 0] = np.nan\n",
    "\n",
    "i = 0 \n",
    "ax1.scatter(time, (-i + N_half) * spike_sensory[:, i + N_half], color=custom_colors[0], s=0.1, label = 'Spike - domain')\n",
    "ax1.scatter(time, (1 + i + N_half) * spike_sensory[:, i + N_half + parameters['N_HAIRS']], color=custom_colors[1], s=0.1, label = 'Spike + domain')\n",
    "\n",
    "for i in range(N_half):\n",
    "    ax1.scatter(time, (-i + N_half) * spike_sensory[:, i + N_half], color=custom_colors[0], s=0.1, label = '')\n",
    "    ax1.scatter(time, (1 + i + N_half) * spike_sensory[:, i + N_half + parameters['N_HAIRS']], color=custom_colors[1], s=0.1)\n",
    "\n",
    "ax2.plot(time, joint_angles[:, 0, 0], color='black', label = 'Exp. data')\n",
    "ax1.plot(time, np.full(time.shape, N_half + 0.5), linestyle='dotted', color='black', label = 'Resting angle')\n",
    "ax1.set_ylim(1 - parameters['N_HAIRS'] * .05, parameters['N_HAIRS'] * 1.05)\n",
    "ax2.set_ylim(joint_angles[:, 0, 0].min() - .05 * diff, joint_angles[:, 0, 0].max() + .05 * diff)\n",
    "\n",
    "ax1.set_xlabel(\"Time (s)\")\n",
    "ax1.set_ylabel(\"Neuron index\")\n",
    "ax1.set_yticks(np.arange(1, parameters['N_HAIRS'] + 2)[::5])\n",
    "ax2.set_ylabel(\"Joint angle (°)\")\n",
    "\n",
    "ax2.minorticks_on()\n",
    "ax1.minorticks_on()\n",
    "#ax1.set_ylim([1, n_index+1])\n",
    "fig.legend(fancybox=False, edgecolor='black', bbox_to_anchor=[0.88, 0.54])\n",
    "\n",
    "fig.tight_layout(pad=parameters['pad'])\n",
    "fig.savefig('images/afferents/spike_timing_.png')\n",
    "fig.savefig('images/afferents/spike_timing_.pdf')\n",
    "fig.show()"
   ],
   "metadata": {
    "collapsed": false
   },
   "id": "5b482fa4677ea10a"
  },
  {
   "cell_type": "code",
   "execution_count": null,
   "outputs": [],
   "source": [
    "fig, ax = plt.subplots(figsize=(2.5, 2.5/1.61803398875))\n",
    "\n",
    "ax.plot(time, joint_angles[:, 0, 0], color='black')\n",
    "\n",
    "ax.set_xlabel(\"Time (s)\")\n",
    "ax.set_ylabel(\"Joint angle (°)\")\n",
    "\n",
    "fig.tight_layout(pad=parameters['pad'])\n",
    "fig.savefig('images/afferents/joint_angle_time_course.png')\n",
    "fig.savefig('images/afferents/joint_angle_time_course.pdf')"
   ],
   "metadata": {
    "collapsed": false
   },
   "id": "5ea0a435524d0bb5"
  },
  {
   "cell_type": "code",
   "execution_count": null,
   "outputs": [],
   "source": [
    "fig, [ax, ax2, ax3, ax4] = plt.subplots(4, figsize=(5.728, 1.5*3.54), gridspec_kw={'height_ratios': [1, 2.5, 1, 1]}, sharex='all')\n",
    "plt.subplots_adjust(wspace=0, hspace=0.05)\n",
    "\n",
    "sensory_parameters = {'C': 200e-12, 'g_L': 2e-9, 'E_L': -70e-3, 'DeltaT': 2e-3, 'a': 2e-9, 'V_T': -50e-3,\n",
    "                      'tau_W': 100e-3, 'b': 0.1e-9, 'V_R': -70e-3, 'V_cut': -40e-3, 'n': 1, 'dt': 0.0001}\n",
    "\n",
    "sensory_neuron = SensoryNeuron(sensory_parameters)\n",
    "sensory_neuron.initialize_state()\n",
    "\n",
    "input = np.zeros(2000)\n",
    "input[50:] = 1e-9\n",
    "\n",
    "voltage, spikes, time, omega = np.zeros(input.size), np.zeros(input.size), np.zeros(input.size), np.zeros(input.size)\n",
    "\n",
    "for i in range(input.size):\n",
    "    voltage[i], spikes[i] = sensory_neuron.forward(input[i])\n",
    "    omega[i] = sensory_neuron.state.w\n",
    "    time[i] = i*0.0001 \n",
    "    \n",
    "ax.plot(time, input*1e9, color=custom_colors[0])    \n",
    "\n",
    "ax.set_ylabel(\"I (nA)\")\n",
    "ax.set_yticks([0, 1])\n",
    "ax.set_xticks([0, 0.1, 0.2])\n",
    "ax.set_ylim(0, 1.5)\n",
    "\n",
    "ax2.plot(time, voltage*1000, color=custom_colors[0])\n",
    "\n",
    "ax2.set_ylabel(\"Voltage (mV)\")\n",
    "ax2.set_yticks([-70, -50])\n",
    "\n",
    "ax3.plot(time, omega*1e9, color=custom_colors[0])\n",
    "\n",
    "ax3.set_ylabel(\"ω (nA)\")\n",
    "#ax3.set_ylim(0, 1.5)\n",
    "\n",
    "ax4.plot(time, spikes, color=custom_colors[0])\n",
    "\n",
    "ax4.set_ylabel(\"post spk\")\n",
    "ax4.set_yticks([0, 1])\n",
    "ax4.set_xlabel(\"Time (s)\")\n",
    "ax4.set_ylim(0, 1.5)\n",
    "               \n",
    "fig.tight_layout(pad=parameters['pad'])\n",
    "fig.savefig('images/afferents/AdEx_dynamics.png')\n",
    "fig.savefig('images/afferents/AdEx_dynamics.pdf')"
   ],
   "metadata": {
    "collapsed": false
   },
   "id": "7acea41504a26cb7"
  }
 ],
 "metadata": {
  "kernelspec": {
   "display_name": "Python 3",
   "language": "python",
   "name": "python3"
  },
  "language_info": {
   "codemirror_mode": {
    "name": "ipython",
    "version": 2
   },
   "file_extension": ".py",
   "mimetype": "text/x-python",
   "name": "python",
   "nbconvert_exporter": "python",
   "pygments_lexer": "ipython2",
   "version": "2.7.6"
  }
 },
 "nbformat": 4,
 "nbformat_minor": 5
}
