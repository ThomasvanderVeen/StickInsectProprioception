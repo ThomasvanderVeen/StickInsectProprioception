{
 "cells": [
  {
   "cell_type": "markdown",
   "source": [
    "# Notebook 1: Afferents\n",
    "\n",
    "### General Overview\n",
    "\n",
    "The afferents, also known as hair fields, transform a time course of joint angles into $N_\\text{h}$ hair angles. These hair angles are then converted into currents, which run into mechanosensory neurons. The mechanosensory neurons further convert these currents into spike trains. Their spiking dynamics are optimized to closely resemble experimental spiking dynamics [1].\n",
    "\n",
    "\n",
    ">[1] Okada, J., & Toh, Y. (2001). Peripheral representation of antennal orientation by the scapal hair plate of the cockroach Periplaneta americana. Journal of experimental biology, 204(24), 4301-4309.\n",
    "\n",
    "### Cell-by-Cell Description\n",
    "\n",
    "#### Importing Modules and Creating Folders\n",
    "\n",
    "This cell serves to import general functions, modules, and dictionaries from the 'general' module. Additionally, it imports the hair field and AdEx classes, which is integral to subsequent analyses. The hair field class converts joint angles into hair angles and the AdEx class is used as a model for the mechanosensory neuron, see 'classes.py' for more information."
   ],
   "metadata": {
    "collapsed": false
   },
   "id": "ffac9813f2170b47"
  },
  {
   "cell_type": "code",
   "execution_count": null,
   "outputs": [],
   "source": [
    "# Import necessary functions, modules and dictionaries from the 'general' module\n",
    "from general import *\n",
    "\n",
    "# Import class the hairfield and adex classes\n",
    "from classes import HairField\n",
    "from classes import AdEx\n",
    "\n",
    "# Create a folder named 'images' and subfolder 'images/afferents' if it does not already exist \n",
    "# This is where figures (results) will be saved\n",
    "create_folder_if_not_exists('images')\n",
    "create_folder_if_not_exists('images/afferents')"
   ],
   "metadata": {
    "collapsed": false
   },
   "id": "initial_id"
  },
  {
   "cell_type": "markdown",
   "source": [
    "#### Analyzing the Binary Hair Plate Model\n",
    "\n",
    "To explore the behavior of the hair plate model, let's set up a hypothetical scenario:\n",
    "\n",
    "- A hair field consists of 10 hairs.\n",
    "- The domain of the hair plate spans from 0$\\degree$ to 180$\\degree$.\n",
    "- The minimum and maximum deflection of each hair is 0$\\degree$ and 90$\\degree$, respectively.\n",
    "- There's an overlap of 4$\\degree$ between adjacent hairs.\n",
    "\n",
    "To cover the full domain of the hair plate and show its characteristics, we generate joint angles ranging from -20$\\degree$ to 200$\\degree$. After creating an instance of the HairField class with these parameters, we convert these joint angles into $N_\\text{h} = 10$ hair angles."
   ],
   "metadata": {
    "collapsed": false
   },
   "id": "9c2afa38a19d58a7"
  },
  {
   "cell_type": "code",
   "execution_count": null,
   "outputs": [],
   "source": [
    "# Define parameters for the hair field\n",
    "parameters_hair_field = {\n",
    "    'N_hairs': 10,                # Number of hairs\n",
    "    'max_joint_angle': 180,       # Maximum of the joint angle working range\n",
    "    'min_joint_angle': 0,         # Minimum of the joint angle working range\n",
    "    'max_angle': 90,              # Maximum angle\n",
    "    'overlap': 4                  # Overlap factor\n",
    "}\n",
    "\n",
    "# Generate joint angles from -20, to 200 with 2000 steps\n",
    "joint_angle = np.linspace(-20, 200, num=2000)\n",
    "\n",
    "# Create an instance of the HairField class with the specified parameters, calculate the receptive field, and make it binary (two directional).\n",
    "hair_field = HairField(parameters_hair_field)\n",
    "hair_field.get_receptive_field()\n",
    "hair_field.get_double_receptive_field()\n",
    "\n",
    "# Obtain hair angles corresponding to the given joint angles\n",
    "hair_angles = hair_field.get_hair_angle(joint_angle)"
   ],
   "metadata": {
    "collapsed": false
   },
   "id": "9b9677795918221b"
  },
  {
   "cell_type": "markdown",
   "source": [
    "##### Binary Hair Plate Connected to Position DIN\n",
    "\n",
    "plotted as follows:\n",
    " \n",
    "- The joint angles are plotted against the corresponding hair angles, for both hair fields. Note that half of the hairs are plotted (the hairs connected to the position DIN).\n",
    "- Shading indicates the overlaps between receptive fields.\n",
    "- The generated figures are saved in the directory 'images/afferents/'."
   ],
   "metadata": {
    "collapsed": false
   },
   "id": "8797a5310ae99d4d"
  },
  {
   "cell_type": "code",
   "execution_count": null,
   "outputs": [],
   "source": [
    "# Create a new figure and axis object\n",
    "fig, ax = plt.subplots(figsize=constants['figsize_halfcolumn'])\n",
    "\n",
    "# Determine indices for dividing the hair angles into positive and negative fields\n",
    "n_2 = int(hair_field.N_hairs / 2)\n",
    "n_4 = int(n_2 / 2)\n",
    "\n",
    "# Plot hair angles for the positive hair field\n",
    "plt.plot(joint_angle, hair_angles[:, n_4], color=custom_colors[0], linestyle=custom_linestyles[0])\n",
    "plt.plot(joint_angle, hair_angles[:, 1 + n_4:n_2], color=custom_colors[0], linestyle=custom_linestyles[0])\n",
    "\n",
    "# Plot hair angles for the negative hair field\n",
    "plt.plot(joint_angle, hair_angles[:, n_2 + n_4], color=custom_colors[1], linestyle=custom_linestyles[1])\n",
    "plt.plot(joint_angle, hair_angles[:, 1 + n_2 + n_4:], color=custom_colors[1], linestyle=custom_linestyles[1])\n",
    "\n",
    "# Fill the area between receptive fields for the positive hair field\n",
    "for i in range(n_4 - 1):\n",
    "    plt.fill_between([hair_field.receptive_field[0, n_4 + i + 1], hair_field.receptive_field[1, n_4 + i]], [90, 90], \n",
    "                     color=custom_colors[0],\n",
    "                     alpha=0.25)\n",
    "\n",
    "# Fill the area between receptive fields for the negative hair field\n",
    "for i in range(n_4 - 1):\n",
    "    plt.fill_between([hair_field.receptive_field[0, n_2 + n_4 + i + 1], hair_field.receptive_field[1, n_2 + n_4 + i]], [90, 90],\n",
    "                     color=custom_colors[1],\n",
    "                     alpha=0.25)\n",
    "\n",
    "# Set plot labels etc. \n",
    "ax.set_xlabel(\"Joint angle (°)\")\n",
    "ax.set_ylabel(\"Hair angle (°)\")\n",
    "ax.set_xlim(-10, 190)\n",
    "ax.minorticks_on()\n",
    "\n",
    "fig.tight_layout(pad=parameters['pad'])\n",
    "fig.savefig('images/afferents/P1_fig2a.png')"
   ],
   "metadata": {
    "collapsed": false
   },
   "id": "3f6c587c254b9ba2"
  },
  {
   "cell_type": "markdown",
   "source": [
    "##### Binary Hair Plate Connected to Velocity DIN\n",
    "\n",
    "Same as before with the following changes:\n",
    "- All hairs are connected to the velocity DIN, and therefore plotted.\n",
    "- The overlap region is omitted for clarity."
   ],
   "metadata": {
    "collapsed": false
   },
   "id": "3c20c93a1f0294b2"
  },
  {
   "cell_type": "code",
   "execution_count": null,
   "outputs": [],
   "source": [
    "# Create a new figure and axis object\n",
    "fig, ax = plt.subplots(figsize=constants['figsize_halfcolumn'])\n",
    "\n",
    "# Plot hair angles for the positive hair field\n",
    "plt.plot(joint_angle, hair_angles[:, :n_2], color=custom_colors[0], linestyle=custom_linestyles[0])\n",
    "\n",
    "# Plot hair angles for the negative hair field\n",
    "plt.plot(joint_angle, hair_angles[:, n_2:], color=custom_colors[1], linestyle=custom_linestyles[1])\n",
    "\n",
    "# Set plot labels etc.     \n",
    "ax.set_xlabel(\"Joint angle (°)\")\n",
    "ax.set_ylabel(\"Hair angle (°)\")\n",
    "ax.set_xlim(-10, 190)\n",
    "ax.minorticks_on()\n",
    "\n",
    "# Save the figures\n",
    "fig.tight_layout(pad=parameters['pad'])\n",
    "fig.savefig('images/afferents/P1_fig2b.png')"
   ],
   "metadata": {
    "collapsed": false
   },
   "id": "7f4f4af1855553ed"
  },
  {
   "cell_type": "markdown",
   "source": [
    "#### Creating & Optimizing the sensory model\n",
    "\n",
    "The mechanosensory neurons are optimized to closely resemble the experimental spiking dynamics reported in [1]. In the experimental setup, the mechanosensory neuron is stimulated using a ramp-and-hold stimulus. To replicate this procedure, we construct a ramp generator function. "
   ],
   "metadata": {
    "collapsed": false
   },
   "id": "d33190a7f97ac66d"
  },
  {
   "cell_type": "code",
   "execution_count": null,
   "outputs": [],
   "source": [
    "def ramp_generator(n_rampsteps, n_steps, hold_angle, base=0):\n",
    "    # Number of ramps\n",
    "    n_ramps = hold_angle.size\n",
    "    \n",
    "    # Initialize the output array (ramp) with zeros\n",
    "    ramp = np.zeros((n_steps, n_ramps))\n",
    "    \n",
    "    # Loop over each dimension to create each part of the ramp and hold\n",
    "    for i in range(n_ramps):\n",
    "        # Create the increasing (front), constant (middle) and decreasing (last) part of the ramp\n",
    "        increase = np.linspace(base, hold_angle[i], n_rampsteps[i])\n",
    "        constant = np.full(n_steps - 2 * n_rampsteps[i], hold_angle[i])\n",
    "        decrease = np.linspace(hold_angle[i], base, n_rampsteps[i])\n",
    "        \n",
    "        # Concatenate the increasing, constant, and decreasing parts into a ramp and hold function\n",
    "        ramp[:, i] = np.concatenate((increase, constant, decrease))\n",
    "        \n",
    "    # Return the final ramp array\n",
    "    return ramp"
   ],
   "metadata": {
    "collapsed": false
   },
   "id": "6911c78f811bb430"
  },
  {
   "cell_type": "markdown",
   "source": [
    "The AdEx model parameters are defined and the model is initiated using these parameters."
   ],
   "metadata": {
    "collapsed": false
   },
   "id": "2437bc84357edc0c"
  },
  {
   "cell_type": "code",
   "execution_count": null,
   "outputs": [],
   "source": [
    "# Define parameters for the mechanosensory neuron model (AdEx)\n",
    "sensory_parameters = {\n",
    "    'C': 200e-12,         # Membrane capacitance (F)\n",
    "    'g_L': 2e-9,          # Leak conductance (S)\n",
    "    'E_L': -70e-3,        # Leak reversal potential (V)\n",
    "    'DeltaT': 2e-3,       # Slope factor (V)\n",
    "    'a': 2e-9,            # Adaptation coupling factor (S)\n",
    "    'V_T': -50e-3,        # Threshold voltage (V)\n",
    "    'tau_W': 50e-3,       # Adaptation time constant (s)\n",
    "    'b': 264e-12,         # Spike-triggered adaptation (A)\n",
    "    'V_R': -70e-3,        # Reset potential (V)\n",
    "    'V_cut': -50e-3,      # Voltage cutoff (V)\n",
    "    'dt': 0.0001,         # Time step for the simulation (s)\n",
    "    'n': 5                # Number of neurons\n",
    "}\n",
    "\n",
    "# Create an instance of the AdEx neuron model and initialize the state variables\n",
    "sensory_neuron = AdEx(sensory_parameters)\n",
    "sensory_neuron.initialize_state()"
   ],
   "metadata": {
    "collapsed": false
   },
   "id": "b6948a4e66d3007c"
  },
  {
   "cell_type": "markdown",
   "source": [
    "In the experimental data, there are two distinct experiments:\n",
    "- A ramp-and-hold function linear increase of hair deflection at constant speed, but differing hold angles. Deflection velocity was $240.4 \\sfrac{\\degree}{s}$. The five hold angles used were: $60 \\degree$, $46 \\degree$, $34 \\degree$, $23 \\degree$, or $15 \\degree$.\n",
    "- A ramp-and-hold function with linear increase of hair deflection at different speeds, while keeping the hold angle constant. Hairs were deflected from $0 \\degree$ to $37 \\degree$ at five velocities. These were $980 \\sfrac{\\degree}{s}$, $604 \\sfrac{\\degree}{s}$, $352 \\sfrac{\\degree}{s}$, $188 \\sfrac{\\degree}{s}$, or $96 \\sfrac{\\degree}{s}$.\n",
    "Using these parameters, the mechanosensory neuron is stimulated and the results are plotted."
   ],
   "metadata": {
    "collapsed": false
   },
   "id": "6c0af2308e623af7"
  },
  {
   "cell_type": "code",
   "execution_count": null,
   "outputs": [],
   "source": [
    "# Define (static & variable) velocity and hold angles, total simulation time and initialize index j\n",
    "v_var, v_stat = np.array([24, 47, 88, 151, 245]) * 4, 60 * 4\n",
    "hold_angle_var, hold_angle_stat = np.array([15, 23, 34, 46, 60]), 37\n",
    "t_total = 3\n",
    "j = 0\n",
    "\n",
    "# Calculate the number of steps and total time array\n",
    "n_steps = round(t_total / sensory_parameters['dt'])\n",
    "time = np.linspace(0, t_total, num=n_steps)\n",
    "\n",
    "# Preallocate arrays for spike train and input ramp\n",
    "spike_train = np.empty((n_steps + 2, v_var.size, 2))\n",
    "input_ramp = np.empty((n_steps, v_var.size, 2))\n",
    "\n",
    "I_phi = 50e-12\n",
    "\n",
    "# Loop over the variable and static inputs for velocity and angle. if v is constant, hold_angle varies and vice versa.\n",
    "for v, hold_angle in [[v_var, hold_angle_stat], [v_stat, hold_angle_var]]:\n",
    "    \n",
    "    # Calculate the number of ramp steps for each velocity and define the hold angle. \n",
    "    N_ramp = np.around(hold_angle / (v * sensory_parameters['dt'])).astype(int)\n",
    "    height = np.full(sensory_parameters['n'], hold_angle * I_phi)\n",
    "\n",
    "    # Generate the input ramp\n",
    "    input_ramp[:, :, j] = ramp_generator(N_ramp, n_steps, height)\n",
    "\n",
    "    # Initialize the state of the sensory neuron\n",
    "    sensory_neuron.initialize_state()\n",
    "\n",
    "    # Simulate the neuron response over the total number of steps\n",
    "    for i in range(n_steps):\n",
    "        _, spike_train[i, :, j] = sensory_neuron.forward(input_ramp[i, :, j])\n",
    "\n",
    "    # Increment the index for the next ramp\n",
    "    j += 1"
   ],
   "metadata": {
    "collapsed": false
   },
   "id": "13fbdd0c13e235a9"
  },
  {
   "cell_type": "code",
   "execution_count": null,
   "outputs": [],
   "source": [
    "# Create figure and subplots\n",
    "fig, (ax, ax2) = plt.subplots(2, figsize=(3.75*0.95, 3.75*0.95), gridspec_kw={'height_ratios': [1, 2]}, sharex=True)\n",
    "plt.subplots_adjust(wspace=0, hspace=0.05)\n",
    "\n",
    "# Plot hair angle and firing rate for each variable\n",
    "for i in range(v_var.size):\n",
    "    firing_rate, spike_index = get_firing_rate_ISI(spike_train[:, i, 1], sensory_parameters['dt'])\n",
    "    ax.plot(time, input_ramp[:, i, 1] / I_phi, color=custom_colors[i], linestyle=custom_linestyles[i])\n",
    "    ax2.plot(time[spike_index], firing_rate, color=custom_colors[i], linestyle=custom_linestyles[i])\n",
    "\n",
    "# Set labels and limits for the plots\n",
    "ax.set_ylabel(\"Hair angle (°)\")\n",
    "ax.set_ylim([0, 65])\n",
    "ax.set_yticks([0, 20, 40, 60])\n",
    "\n",
    "ax2.set_xlabel(\"Time (s)\")\n",
    "ax2.set_ylabel(\"Spike rate (Hz)\")\n",
    "ax2.set_yticks([0, 40, 80, 120, 160, 200, 240, 280])\n",
    "ax2.minorticks_on()\n",
    "ax2.legend(['15°', '23°', '34°', '46°', '60°'], frameon=False, ncol=3, title='Hold angle')\n",
    "\n",
    "# Align y-axis labels\n",
    "fig.align_ylabels([ax, ax2])\n",
    "\n",
    "# Save\n",
    "fig.tight_layout(pad=parameters['pad'])\n",
    "fig.savefig('images/afferents/P1_fig3c.png')"
   ],
   "metadata": {
    "collapsed": false
   },
   "id": "78974a20517010e4"
  },
  {
   "cell_type": "code",
   "execution_count": null,
   "outputs": [],
   "source": [
    "# Create figure and subplots\n",
    "fig, (ax, ax2) = plt.subplots(2, figsize=(3.75*0.95, 3.75*0.95), gridspec_kw={'height_ratios': [1, 2]}, sharex=True)\n",
    "plt.subplots_adjust(wspace=0, hspace=0.05)\n",
    "\n",
    "# Plot hair angle and firing rate for each variable\n",
    "for i in range(hold_angle_var.size):\n",
    "    firing_rate, spike_index = get_firing_rate_ISI(spike_train[:, i, 0], sensory_parameters['dt'])\n",
    "    ax.plot(time, input_ramp[:, i, 0] / I_phi, color=custom_colors[i], linestyle=custom_linestyles[i])\n",
    "    ax2.plot(time[spike_index], firing_rate, color=custom_colors[i], linestyle=custom_linestyles[i])\n",
    "\n",
    "# Set labels and limits for the plots\n",
    "ax.set_ylabel(\"Hair angle (°)\")\n",
    "ax.set_ylim([0, 65])\n",
    "ax.set_yticks([0, 20, 40, 60])\n",
    "\n",
    "ax2.set_xlabel(\"Time (s)\")\n",
    "ax2.set_ylabel(\"Spike rate (Hz)\")\n",
    "ax2.set_yticks([0, 40, 80, 120, 160])\n",
    "ax2.minorticks_on()\n",
    "ax2.legend(['96 °/s', '188 °/s', '352 °/s', '604 °/s', '980 °/s'], frameon=False, ncol=1, title='Ramp speed', loc='lower center')\n",
    "\n",
    "# Align y-axis labels\n",
    "fig.align_ylabels([ax, ax2])\n",
    "\n",
    "# Save\n",
    "fig.tight_layout(pad=parameters['pad'])\n",
    "fig.savefig('images/afferents/P1_fig2d.png')"
   ],
   "metadata": {
    "collapsed": false,
    "is_executing": true
   },
   "id": "f6d94b5439e261fb"
  },
  {
   "cell_type": "markdown",
   "source": [
    "#### General Phasic-Tonic Behavior of the Model (Supplementary Material)\n",
    "\n",
    "The AdEx model can simulate a wide variety of phasic-tonic responses, with adjustable phasic peaks and tonic steady-state spike rates. This flexibility is demonstrated by varying the following parameters:\n",
    "\n",
    "- **Increasing adaptation coupling factor \\(a\\)**: This increases adaptation, which lowers the steady-state frequency while maintaining a constant phasic peak strength.\n",
    "- **Increasing adaptation coupling factor \\(a\\) and decreasing membrane capacitance \\(C\\)**: This combination modifies the phasic peak without altering the steady-state spike rate.\n",
    "- **Increasing membrane capacitance \\(C\\)** with spike-triggered adaptation \\(b\\) set to 0: This yields fully tonic behavior, allowing variation in the steady-state spike rate without a phasic peak.\n"
   ],
   "metadata": {
    "collapsed": false
   },
   "id": "fdb57a44cec374ee"
  },
  {
   "cell_type": "code",
   "execution_count": null,
   "outputs": [],
   "source": [
    "# Define sensory neuron parameters\n",
    "sensory_parameters = {'C': 200e-12, 'g_L': 2e-9, 'E_L': -70e-3, 'DeltaT': 2e-3, 'a': 2e-9, 'V_T': -50e-3,\n",
    "                      'tau_W': 50e-3, 'b': 264e-12, 'V_R': -70e-3, 'V_cut': -50e-3, 'n': 1, 'dt': 0.0001}\n",
    "\n",
    "# Generate parameter values for 'a' to iterate over\n",
    "a_values = np.linspace(0e-9, 121e-9, num=4)\n",
    "\n",
    "# Prepare array to store spike train results\n",
    "spike_train = np.empty((n_steps, a_values.size))\n",
    "\n",
    "# Iterate over each value of 'a' and simulate neuron response\n",
    "for j, a_value in enumerate(a_values):\n",
    "    \n",
    "    # Update 'a' parameter in sensory parameters\n",
    "    sensory_parameters['a'] = a_value\n",
    "    \n",
    "    # Create instance and initialize\n",
    "    sensory_neuron = AdEx(sensory_parameters)\n",
    "    sensory_neuron.initialize_state()\n",
    "    \n",
    "    # Run the simulation\n",
    "    for i in range(n_steps):\n",
    "        _, spike_train[i, j] = sensory_neuron.forward(input_ramp[i, 3, 0])"
   ],
   "metadata": {
    "collapsed": false
   },
   "id": "c0abcf6fe76af2fa"
  },
  {
   "cell_type": "code",
   "execution_count": null,
   "outputs": [],
   "source": [
    "# Create subplots with specified configuration\n",
    "fig, (ax, ax2) = plt.subplots(2, figsize=(3.75*0.95, 3.75*0.95), gridspec_kw={'height_ratios': [1, 2]}, sharex='all')\n",
    "plt.subplots_adjust(wspace=0, hspace=0.05)\n",
    "\n",
    "# Iterate over each parameter value in par_1\n",
    "for i in range(a_values.size):\n",
    "    firing_rate, spike_index = get_firing_rate_ISI(spike_train[:, i], sensory_parameters['dt'])\n",
    "    \n",
    "    # Plot firing rate vs. time\n",
    "    if i == 3:\n",
    "        ax2.plot(time[spike_index][:-1], firing_rate[:-1], color=custom_colors[i], linestyle=custom_linestyles[i], label=f'$a$ = {int(a_values[i]*1E9)} nS')\n",
    "    else:\n",
    "        ax2.plot(time[spike_index], firing_rate, color=custom_colors[i], linestyle=custom_linestyles[i], label=f'$a$ = {int(a_values[i]*1E9)} nS')\n",
    "\n",
    "# Plot input ramp on the first subplot (ax)\n",
    "ax.plot(time, input_ramp[:, i, 0] / I_phi, color='black')\n",
    "\n",
    "# Set parameters for ax\n",
    "ax.set_ylabel(\"Hair angle (°)\")\n",
    "ax.set_yticks([0, 10, 20, 30, 40])\n",
    "ax.set_ylim([0, 65])\n",
    "ax.set_yticks([0, 20, 40, 60])\n",
    "\n",
    "# Set parameters for ax2\n",
    "ax2.set_xlabel(\"Time (s)\")\n",
    "ax2.set_ylabel(\"Spike rate (Hz)\")\n",
    "ax2.legend(fancybox=False, edgecolor='black', loc='upper right', frameon=False, ncol=2)\n",
    "ax2.minorticks_on()\n",
    "\n",
    "# Align y-axis labels between ax and ax2\n",
    "fig.align_ylabels([ax, ax2])\n",
    "\n",
    "# Adjust layout with specified padding\n",
    "fig.tight_layout(pad=parameters['pad'])\n",
    "\n",
    "# Save figure to specified path\n",
    "fig.savefig('images/afferents/P1_S3.png')"
   ],
   "metadata": {
    "collapsed": false
   },
   "id": "2eb85179a62f281"
  },
  {
   "cell_type": "code",
   "execution_count": null,
   "outputs": [],
   "source": [
    "# Define sensory neuron parameters\n",
    "sensory_parameters = {'C': 200e-12, 'g_L': 2e-9, 'E_L': -70e-3, 'DeltaT': 2e-3, 'a': 2e-9, 'V_T': -50e-3,\n",
    "                      'tau_W': 50e-3, 'b': 264e-12, 'V_R': -70e-3, 'V_cut': -50e-3, 'n': 1, 'dt': 0.0001}\n",
    "\n",
    "# Generate parameter values for 'a' to iterate over\n",
    "C_values = np.linspace(200e-12, 500e-12, num=4)\n",
    "a_values = np.linspace(0e-9, 51e-9, num=4)\n",
    "\n",
    "# Prepare array to store spike train results\n",
    "spike_train = np.empty((n_steps, a_values.size))\n",
    "\n",
    "# Iterate over each value of 'a' and simulate neuron response\n",
    "for j in range(a_values.size):\n",
    "    \n",
    "    # Update 'a' parameter in sensory parameters\n",
    "    sensory_parameters['a'] = a_values[j]\n",
    "    sensory_parameters['C'] = C_values[-j-1]\n",
    "    \n",
    "    # Create instance and initialize\n",
    "    sensory_neuron = AdEx(sensory_parameters)\n",
    "    sensory_neuron.initialize_state()\n",
    "    \n",
    "    # Run the simulation\n",
    "    for i in range(n_steps):\n",
    "        _, spike_train[i, j] = sensory_neuron.forward(input_ramp[i, 3, 0])"
   ],
   "metadata": {
    "collapsed": false
   },
   "id": "7696fa89909b2e08"
  },
  {
   "cell_type": "code",
   "execution_count": null,
   "outputs": [],
   "source": [
    "# Create subplots with specified configuration\n",
    "fig, (ax, ax2) = plt.subplots(2, figsize=(3.75*0.95, 3.75*0.95), gridspec_kw={'height_ratios': [1, 2]}, sharex='all')\n",
    "plt.subplots_adjust(wspace=0, hspace=0.05)\n",
    "\n",
    "# Plot firing rate vs. time for each value in a_values\n",
    "for i in range(a_values.size):\n",
    "    firing_rate, spike_index = get_firing_rate_ISI(spike_train[:, i], sensory_parameters['dt'])\n",
    "    ax2.plot(time[spike_index], firing_rate, color=custom_colors[i], linestyle=custom_linestyles[i], label=f'$C$ = {int(C_values[i]*1E12)} pF, $a$ = {int(a_values[i]*1E9)} nS')\n",
    "\n",
    "# Plot input ramp on the first subplot (ax)\n",
    "ax.plot(time, input_ramp[:, i, 0] / I_phi, color='black')\n",
    "\n",
    "# Set labels and ticks for ax (top subplot)\n",
    "ax.set_ylabel(\"Hair angle (°)\")\n",
    "ax.set_yticks([0, 10, 20, 30, 40])\n",
    "ax.set_ylim([0, 65])\n",
    "ax.set_yticks([0, 20, 40, 60])\n",
    "\n",
    "# Set labels and ticks for ax2 (bottom subplot)\n",
    "ax2.set_xlabel(\"Time (s)\")\n",
    "ax2.set_ylabel(\"Spike rate (Hz)\")\n",
    "ax2.legend(frameon=False)\n",
    "\n",
    "# Enable minor ticks on ax2 (bottom subplot)\n",
    "ax2.minorticks_on()\n",
    "\n",
    "# Align y-axis labels between ax and ax2\n",
    "fig.align_ylabels([ax, ax2])\n",
    "\n",
    "# Adjust layout\n",
    "fig.tight_layout()\n",
    "\n",
    "#save\n",
    "fig.tight_layout(pad=parameters['pad'])\n",
    "fig.savefig('images/afferents/P1_S4.png')"
   ],
   "metadata": {
    "collapsed": false
   },
   "id": "daf502959f7f9ba0"
  },
  {
   "cell_type": "code",
   "execution_count": null,
   "outputs": [],
   "source": [
    "fig.tight_layout(pad=parameters['pad'])\n",
    "fig.savefig('images/afferents/P1_S4.png')"
   ],
   "metadata": {
    "collapsed": false
   },
   "id": "29296a0466e03d8a"
  },
  {
   "cell_type": "code",
   "execution_count": null,
   "outputs": [],
   "source": [
    "# Define sensory neuron parameters\n",
    "sensory_parameters = {'C': 200e-12, 'g_L': 2e-9, 'E_L': -70e-3, 'DeltaT': 2e-3, 'a': 2e-9, 'V_T': -50e-3,\n",
    "                      'tau_W': 50e-3, 'b': 0, 'V_R': -70e-3, 'V_cut': -50e-3, 'n': 1, 'dt': 0.0001}\n",
    "\n",
    "# Generate parameter values for 'a' to iterate over\n",
    "C_values = np.linspace(200e-12, 500e-12, num=4)\n",
    "\n",
    "# Prepare array to store spike train results\n",
    "spike_train = np.empty((n_steps, a_values.size))\n",
    "\n",
    "# Iterate over each value of 'a' and simulate neuron response\n",
    "for j, C_value in enumerate(C_values):\n",
    "    \n",
    "    # Update 'a' parameter in sensory parameters\n",
    "    sensory_parameters['C'] = C_value\n",
    "    \n",
    "    # Create instance and initialize\n",
    "    sensory_neuron = AdEx(sensory_parameters)\n",
    "    sensory_neuron.initialize_state()\n",
    "    \n",
    "    # Run the simulation\n",
    "    for i in range(n_steps):\n",
    "        _, spike_train[i, j] = sensory_neuron.forward(input_ramp[i, 3, 0])"
   ],
   "metadata": {
    "collapsed": false
   },
   "id": "2df459da4c84aa92"
  },
  {
   "cell_type": "code",
   "execution_count": null,
   "outputs": [],
   "source": [
    "# Create subplots with specified configuration\n",
    "fig, (ax, ax2) = plt.subplots(2, figsize=(3.75*0.95, 3.75*0.95), gridspec_kw={'height_ratios': [1, 2]}, sharex='all')\n",
    "plt.subplots_adjust(wspace=0, hspace=0.05)\n",
    "\n",
    "# Iterate over each parameter value in C_values\n",
    "for i in range(C_values.size):\n",
    "    firing_rate, spike_index = get_firing_rate_ISI(spike_train[:, i], sensory_parameters['dt'])\n",
    "    \n",
    "    # Plot firing rate vs. time\n",
    "    if i == 3:\n",
    "        ax2.plot(time[spike_index][:-1], firing_rate[:-1], color=custom_colors[i], linestyle=custom_linestyles[i], label=f'$C$ = {int(C_values[i]*1E12)} pF')\n",
    "    else:\n",
    "        ax2.plot(time[spike_index], firing_rate, color=custom_colors[i], linestyle=custom_linestyles[i], label=f'$C$ = {int(C_values[i]*1E12)} pF')\n",
    "\n",
    "# Plot input ramp on the first subplot (ax)\n",
    "ax.plot(time, input_ramp[:, i, 0] / I_phi, color='black')\n",
    "\n",
    "# Set parameters for ax\n",
    "ax.set_ylabel(\"Hair angle (°)\")\n",
    "ax.set_yticks([0, 10, 20, 30, 40])\n",
    "ax.set_ylim([0, 65])\n",
    "ax.set_yticks([0, 20, 40, 60])\n",
    "\n",
    "# Set parameters for ax2\n",
    "ax2.set_xlabel(\"Time (s)\")\n",
    "ax2.set_ylabel(\"Spike rate (Hz)\")\n",
    "ax2.legend(fancybox=False, edgecolor='black', loc='lower center', frameon=False, ncol=2)\n",
    "ax2.minorticks_on()\n",
    "\n",
    "# Align y-axis labels between ax and ax2\n",
    "fig.align_ylabels([ax, ax2])\n",
    "\n",
    "# Adjust layout with specified padding\n",
    "fig.tight_layout(pad=parameters['pad'])\n",
    "\n",
    "# Save figure to specified path\n",
    "fig.savefig('images/afferents/P1_S5.png')"
   ],
   "metadata": {
    "collapsed": false
   },
   "id": "55d6292a9a50e633"
  },
  {
   "cell_type": "markdown",
   "source": [
    "#### Applying Hair Field and Sensory Neuron Model to Experimental Joint Data\n",
    "\n",
    "We are analyzing two sets of experimental data:\n",
    "\n",
    "1. 78 trials of stick insects walking on a flat surface, each lasting 5 seconds.\n",
    "2. 21 trials of stick insects encountering 2 steps of 48mm on a flat surface, each lasting 25 seconds.\n",
    "\n",
    "Each trial includes 18 time courses of joint angles, covering three joints in six legs. Each joint is equipped with a binary hair field comprising 50 hairs in each direction, totaling 100 hairs per joint. Each hair is associated with its own mechanosensory neuron."
   ],
   "metadata": {
    "collapsed": false
   },
   "id": "296c605f03c25dd2"
  },
  {
   "cell_type": "code",
   "execution_count": null,
   "outputs": [],
   "source": [
    "# Define sensory neuron parameters for hair rows in stick insect joints, each of the 18 joints in a stick insect is equipped with two rows of 50 hairs, resulting in a total of 1800 mechanosensory neurons.\n",
    "sensory_parameters = {'C': 200e-12, \n",
    "                      'g_L': 2e-9, \n",
    "                      'E_L': -70e-3, \n",
    "                      'DeltaT': 2e-3, \n",
    "                      'a': 2e-9, \n",
    "                      'V_T': -50e-3,\n",
    "                      'tau_W': 50e-3, \n",
    "                      'b': 264e-12, \n",
    "                      'V_R': -70e-3, \n",
    "                      'V_cut': -50e-3, \n",
    "                      'n': parameters['N_HAIRS']*18*2,  # 1800 neurons\n",
    "                      'dt': constants['dt']}\n",
    "\n",
    "# Add parameters to AdEx neuron\n",
    "sensory_neuron = AdEx(sensory_parameters)"
   ],
   "metadata": {
    "collapsed": false
   },
   "id": "11332d5ced679cc4"
  },
  {
   "cell_type": "code",
   "execution_count": null,
   "outputs": [],
   "source": [
    "def run_sensory(joint_angles, n_simulations, n_steps):\n",
    "    \n",
    "    # Initialize spike_sensory array to store sensory neuron spike trains\n",
    "    spike_sensory = np.empty((n_steps, constants['N_ANGLES'] * parameters['N_HAIRS'] * 2, n_simulations), dtype=np.uint8)\n",
    "\n",
    "    # Loop over each simulation trial\n",
    "    for k in tqdm(range(n_simulations)):\n",
    "        \n",
    "        # Get joint angles for current simulation\n",
    "        joint_angle = joint_angles[:, :, k]\n",
    "        \n",
    "        # Initialize array to store hair angles\n",
    "        hair_angles = np.empty((joint_angle.shape[0], 2 * joint_angle.shape[1] * parameters['N_HAIRS']), dtype=np.float32)\n",
    "        \n",
    "        # Parameters for hair field simulation\n",
    "        hair_field_parameters = {\n",
    "            'N_hairs': parameters['N_HAIRS'],                   # Number of hairs per hair field (2x per joint)\n",
    "            'min_joint_angle': np.amin(joint_angle, axis=0),    # Minimum joint angle across time for each joint (degrees)\n",
    "            'max_joint_angle': np.amax(joint_angle, axis=0),    # Maximum joint angle across time for each joint (degrees)\n",
    "            'max_angle': 90,                                    # Maximum angle for hair field (degrees)\n",
    "            'overlap': 0.1                                      # Degree of overlap between individual hairs (degrees)\n",
    "        }\n",
    "        \n",
    "        # Loop over each joint and leg (in total 18 angles)\n",
    "        for i in range(constants['N_ANGLES']):\n",
    "            \n",
    "            # Create HairField instance with current parameters\n",
    "            hair_field = HairField(hair_field_parameters)\n",
    "            hair_field.reset_max_min(i)  # Reset max/min angles for current joint\n",
    "            hair_field.get_double_receptive_field()  # Compute double receptive field\n",
    "            \n",
    "            # Compute hair angles based on joint angles\n",
    "            hair_angles[:, i * 2 * parameters['N_HAIRS']: 2 * parameters['N_HAIRS'] + i * 2 * parameters['N_HAIRS']] = (\n",
    "                    hair_field.get_hair_angle(joint_angle[:, i]) * I_phi)  # convert hair angles to currents in nA range\n",
    "            \n",
    "        # Initialize sensory neuron and state\n",
    "        sensory_neuron.initialize_state()\n",
    "        \n",
    "        # Simulate neuron response to hair angles\n",
    "        for i in range(n_steps):\n",
    "            _, spike_sensory[i, :, k] = sensory_neuron.forward(hair_angles[i, :])\n",
    "    \n",
    "    return spike_sensory"
   ],
   "metadata": {
    "collapsed": false
   },
   "id": "5bad35cabe0449fc"
  },
  {
   "cell_type": "code",
   "execution_count": null,
   "outputs": [],
   "source": [
    "# Load joint angle data from files\n",
    "with open('temp_data/joint_angles.npy', 'rb') as file:\n",
    "    joint_angles = np.load(file)\n",
    "    \n",
    "with open('temp_data/joint_angles_step.npy', 'rb') as file:\n",
    "    joint_angles_step = np.load(file)\n",
    "\n",
    "# Run sensory neuron simulations for regular trials (78) and trials (21) with steps\n",
    "spike_sensory = run_sensory(joint_angles, np.min((parameters['N_SIMULATIONS'], 78)), constants['N_STEPS'])\n",
    "spike_sensory_step = run_sensory(joint_angles_step, np.min((parameters['N_SIMULATIONS'], 21)), constants['N_STEPS_STEP'])\n",
    "\n",
    "# Save sensory neuron spike data if save_data parameter is set to True \n",
    "if parameters['save_data']:\n",
    "    with open('temp_data/spike_sensory', 'wb') as file:\n",
    "        np.save(file, spike_sensory)\n",
    "        \n",
    "    with open('temp_data/spike_sensory_step', 'wb') as file:\n",
    "        np.save(file, spike_sensory_step)"
   ],
   "metadata": {
    "collapsed": false
   },
   "id": "639380a00c69c01d"
  },
  {
   "cell_type": "markdown",
   "source": [
    "#### Testing & Visualization: Mechanosensory Neuron Response to Joint Angle Stimulus\n",
    "\n",
    "Here are several plots that illustrate how mechanosensory neurons respond to experimental joint angle stimuli."
   ],
   "metadata": {
    "collapsed": false
   },
   "id": "93f0315d401f1d50"
  },
  {
   "cell_type": "code",
   "execution_count": null,
   "outputs": [],
   "source": [
    "# Generate time array\n",
    "time = np.linspace(0, constants['T_TOTAL'], num=constants['N_STEPS'])\n",
    "\n",
    "# Create figure and axes\n",
    "fig, ax1 = plt.subplots()\n",
    "ax2 = ax1.twinx()\n",
    "\n",
    "# Constants and parameters\n",
    "N_half = parameters['N_HAIRS'] // 2\n",
    "diff = joint_angles[:, 0, 0].max() - joint_angles[:, 0, 0].min()\n",
    "\n",
    "# Convert spike_sensory to float and replace zeros with NaN for plotting\n",
    "spike_sensory = spike_sensory[:, :, 0].astype(np.float32)\n",
    "spike_sensory[spike_sensory == 0] = np.nan\n",
    "\n",
    "# Plot experimental joint angle data\n",
    "ax2.plot(time, joint_angles[:, 0, 0], color='black', label='Experimental data')\n",
    "\n",
    "# Scatter plot for spikes in negative and positive domains\n",
    "for i in range(N_half):\n",
    "    ax1.scatter(time, (-i + N_half) * spike_sensory[:, i + N_half], color=custom_colors[0], s=0.1)\n",
    "    ax1.scatter(time, (1 + i + N_half) * spike_sensory[:, i + N_half + parameters['N_HAIRS']], color=custom_colors[1], s=0.1)\n",
    "\n",
    "# Dotted line for resting angle\n",
    "ax1.plot(time, np.full(time.shape, N_half + 0.5), linestyle='dotted', color='black', label='Resting angle')\n",
    "\n",
    "# Set axis limits, labels and ticks (ax1)\n",
    "ax1.set_xlabel(\"Time (s)\")\n",
    "ax1.set_ylim(1 - parameters['N_HAIRS'] * 0.05, parameters['N_HAIRS'] * 1.05)\n",
    "ax1.set_ylabel(\"Neuron index\")\n",
    "ax1.set_yticks(np.arange(1, parameters['N_HAIRS'] + 2)[::5])\n",
    "ax1.minorticks_on()\n",
    "\n",
    "# Set axis limits, labels and ticks (ax2)\n",
    "ax2.set_ylabel(\"Joint angle (°)\")\n",
    "ax2.set_ylim(joint_angles[:, 0, 0].min() - 0.05 * diff, joint_angles[:, 0, 0].max() + 0.05 * diff)\n",
    "ax2.minorticks_on()\n",
    "\n",
    "# Legend settings\n",
    "fig.legend(frameon=False, ncol=2, bbox_to_anchor=[0.80, 1.01])\n",
    "\n",
    "# Customize y-axis tick labels\n",
    "labels = [1, 6, 11, 16, 21, 51, 56, 61, 66, 71, 76]\n",
    "ax1.set_yticklabels(labels)\n",
    "\n",
    "# Adjust layout and save figure\n",
    "fig.tight_layout(pad=parameters['pad'])\n",
    "fig.savefig('images/afferents/P1_fig4a.png')"
   ],
   "metadata": {
    "collapsed": false
   },
   "id": "5b482fa4677ea10a"
  },
  {
   "cell_type": "code",
   "execution_count": null,
   "outputs": [],
   "source": [
    "# Create figure and axis with specified aspect ratio (golden ratio)\n",
    "fig, ax = plt.subplots(figsize=(2.5, 2.5 / 1.61803398875))\n",
    "\n",
    "# Plot joint angle data\n",
    "ax.plot(time, joint_angles[:, 0, 0], color='black')\n",
    "\n",
    "# Set labels for x and y axes\n",
    "ax.set_xlabel(\"Time (s)\")\n",
    "ax.set_ylabel(\"Joint angle (°)\")\n",
    "\n",
    "fig.tight_layout(pad=parameters['pad'])\n",
    "fig.savefig('images/afferents/P1_fig1c.png')"
   ],
   "metadata": {
    "collapsed": false
   },
   "id": "5ea0a435524d0bb5"
  },
  {
   "cell_type": "markdown",
   "source": [
    "#### Visualization of the AdEx Model with a Sustained Input Current (Supplementary Material)\n",
    "\n",
    "This figure illustrates the response of the AdEx neuron model to a sustained input current, highlighting key membrane dynamics and spike generation. "
   ],
   "metadata": {
    "collapsed": false
   },
   "id": "5b3bd9acd9f84482"
  },
  {
   "cell_type": "code",
   "execution_count": null,
   "outputs": [],
   "source": [
    "# Create subplots\n",
    "fig, [ax, ax2, ax3, ax4] = plt.subplots(4, figsize=(3.75*0.95, 1.2*0.95*3.75/1.61803398875), gridspec_kw={'height_ratios': [1, 2.5, 1, 1]}, sharex='all')\n",
    "\n",
    "# Store axes in a list for easier iteration\n",
    "axs = [ax, ax2, ax3, ax4]\n",
    "\n",
    "# Adjust spacing between subplots\n",
    "plt.subplots_adjust(wspace=0, hspace=0.05)\n",
    "\n",
    "# Define sensory neuron parameters\n",
    "sensory_parameters = {'C': 200e-12, 'g_L': 2e-9, 'E_L': -70e-3, 'DeltaT': 2e-3, 'a': 2e-9, 'V_T': -50e-3,\n",
    "                      'tau_W': 50e-3, 'b': 221e-12, 'V_R': -70e-3, 'V_cut': -50e-3, 'n': 1, 'dt': 0.0001}\n",
    "\n",
    "# Initialize AdEx neuron model\n",
    "sensory_neuron = AdEx(sensory_parameters)\n",
    "sensory_neuron.initialize_state()\n",
    "\n",
    "# Generate input current pulse (333 hz)\n",
    "input = np.zeros(2000)\n",
    "input[50:] = 1e-9  # Set the input current from index 50 onwards\n",
    "\n",
    "# Arrays to store simulation results\n",
    "voltage, spikes, time, omega = np.zeros(input.size), np.zeros(input.size), np.zeros(input.size), np.zeros(input.size)\n",
    "\n",
    "# Simulate neuron response to input current pulse\n",
    "for i in range(input.size):\n",
    "    voltage[i], spikes[i] = sensory_neuron.forward(input[i])\n",
    "    omega[i] = sensory_neuron.state.w\n",
    "    time[i] = i * sensory_parameters['dt']\n",
    "\n",
    "# Plot input current\n",
    "ax.plot(time, input * 1e9, color=custom_colors[0])    \n",
    "ax.set_ylabel(\"I (nA)\")\n",
    "ax.set_yticks([0, 1])\n",
    "ax.set_xticks([0, 0.1, 0.2])\n",
    "ax.set_ylim(0, 1.5)\n",
    "\n",
    "# Plot membrane voltage\n",
    "ax2.plot(time, voltage * 1000, color=custom_colors[0])\n",
    "ax2.set_ylabel(\"V (mV)\")\n",
    "ax2.set_yticks([-70, -50])\n",
    "\n",
    "# Plot adaptation variable\n",
    "ax3.plot(time, omega * 1e9, color=custom_colors[0])\n",
    "ax3.set_ylabel(\"ω (nA)\")\n",
    "\n",
    "# Plot spikes\n",
    "ax4.plot(time, spikes, color=custom_colors[0])\n",
    "ax4.set_ylabel(\"spike\")\n",
    "ax4.set_yticks([0, 1])\n",
    "ax4.set_xlabel(\"Time (s)\")\n",
    "ax4.set_ylim(0, 1.5)\n",
    "\n",
    "# Align y-labels for all subplots\n",
    "fig.align_ylabels([ax, ax2, ax3, ax4])\n",
    "\n",
    "# Adjust layout with specified padding\n",
    "fig.tight_layout(pad=parameters['pad'])\n",
    "\n",
    "# Save the figure as an image file\n",
    "fig.savefig('images/afferents/P1_S1.png')"
   ],
   "metadata": {
    "collapsed": false
   },
   "id": "d1ab4a1bbf59227d"
  }
 ],
 "metadata": {
  "kernelspec": {
   "display_name": "Python 3",
   "language": "python",
   "name": "python3"
  },
  "language_info": {
   "codemirror_mode": {
    "name": "ipython",
    "version": 2
   },
   "file_extension": ".py",
   "mimetype": "text/x-python",
   "name": "python",
   "nbconvert_exporter": "python",
   "pygments_lexer": "ipython2",
   "version": "2.7.6"
  }
 },
 "nbformat": 4,
 "nbformat_minor": 5
}
