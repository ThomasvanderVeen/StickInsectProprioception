{
 "cells": [
  {
   "cell_type": "code",
   "execution_count": 1,
   "id": "initial_id",
   "metadata": {
    "collapsed": true,
    "ExecuteTime": {
     "end_time": "2024-04-30T12:26:27.311462300Z",
     "start_time": "2024-04-30T12:26:24.418811700Z"
    }
   },
   "outputs": [],
   "source": [
    "from general import *"
   ]
  },
  {
   "cell_type": "code",
   "execution_count": 10,
   "outputs": [],
   "source": [
    "with open('data/spike_primitive', 'rb') as file:\n",
    "    spike_primitive = np.load(file) \n",
    "    \n",
    "with open('data/joint_angles_' + parameters['joint_string'], 'rb') as file:\n",
    "    joint_angles = np.load(file)\n",
    "    \n",
    "with open('data/pitch_step_11', 'rb') as file:\n",
    "    joint_angles = np.load(file)\n",
    "    \n",
    "posture_parameters = {'tau': 50e-3, 'V_T': -50e-3, 'V_R': -70e-3, 'n': 2, 'w': 0, 'N_input': 672, 'dt': constants['dt']}\n",
    "\n",
    "posture_neuron = PostureNeuron(posture_parameters)\n",
    "posture_neuron.initialize_state()"
   ],
   "metadata": {
    "collapsed": false,
    "ExecuteTime": {
     "end_time": "2024-04-10T13:21:55.277213400Z",
     "start_time": "2024-04-10T13:21:55.038244100Z"
    }
   },
   "id": "53919b2d4f1d0b73"
  },
  {
   "cell_type": "code",
   "execution_count": 11,
   "outputs": [
    {
     "ename": "NameError",
     "evalue": "name 'N_SIMULATIONS' is not defined",
     "output_type": "error",
     "traceback": [
      "\u001B[1;31m---------------------------------------------------------------------------\u001B[0m",
      "\u001B[1;31mNameError\u001B[0m                                 Traceback (most recent call last)",
      "\u001B[1;32m~\\AppData\\Local\\Temp/ipykernel_12448/2036646657.py\u001B[0m in \u001B[0;36m<module>\u001B[1;34m\u001B[0m\n\u001B[0;32m      4\u001B[0m     \u001B[0mincidence_binned\u001B[0m \u001B[1;33m=\u001B[0m \u001B[0mnp\u001B[0m\u001B[1;33m.\u001B[0m\u001B[0mzeros\u001B[0m\u001B[1;33m(\u001B[0m\u001B[1;36m2\u001B[0m\u001B[1;33m)\u001B[0m\u001B[1;33m\u001B[0m\u001B[1;33m\u001B[0m\u001B[0m\n\u001B[0;32m      5\u001B[0m \u001B[1;33m\u001B[0m\u001B[0m\n\u001B[1;32m----> 6\u001B[1;33m     \u001B[1;32mfor\u001B[0m \u001B[0mi\u001B[0m \u001B[1;32min\u001B[0m \u001B[0mrange\u001B[0m\u001B[1;33m(\u001B[0m\u001B[0mN_SIMULATIONS\u001B[0m\u001B[1;33m)\u001B[0m\u001B[1;33m:\u001B[0m\u001B[1;33m\u001B[0m\u001B[1;33m\u001B[0m\u001B[0m\n\u001B[0m\u001B[0;32m      7\u001B[0m         \u001B[0mspike_primitive\u001B[0m \u001B[1;33m=\u001B[0m \u001B[0mprimitive_list\u001B[0m\u001B[1;33m[\u001B[0m\u001B[0mi\u001B[0m\u001B[1;33m]\u001B[0m\u001B[1;33m\u001B[0m\u001B[1;33m\u001B[0m\u001B[0m\n\u001B[0;32m      8\u001B[0m         \u001B[0mspike_train\u001B[0m \u001B[1;33m=\u001B[0m \u001B[0mspike_primitive\u001B[0m\u001B[1;33m[\u001B[0m\u001B[1;33m:\u001B[0m\u001B[1;33m,\u001B[0m \u001B[0mj\u001B[0m\u001B[1;33m]\u001B[0m\u001B[1;33m\u001B[0m\u001B[1;33m\u001B[0m\u001B[0m\n",
      "\u001B[1;31mNameError\u001B[0m: name 'N_SIMULATIONS' is not defined"
     ]
    }
   ],
   "source": [
    "weights = np.zeros((672, 2))\n",
    "\n",
    "for j in range(672):\n",
    "    incidence_binned = np.zeros(2)\n",
    "\n",
    "    for i in range(9):\n",
    "\n",
    "        spike_train = spike_primitive[:, j, i]\n",
    "        incidence = spike_train * pitch[:, i]\n",
    "        incidence[incidence == 0] = np.nan\n",
    "        incidence_binned += np.histogram(incidence, bins=2, range=(-180, 200))[0]\n",
    "\n",
    "    ratio = incidence_binned[1] / incidence_binned[0]\n",
    "\n",
    "    if ratio > ratios[l]:\n",
    "        weights[j, 0] = w_1_list[m]\n",
    "\n",
    "    if ratio < 1 / ratios[l]:\n",
    "        weights[j, 1] = w_1_list[m]"
   ],
   "metadata": {
    "collapsed": false,
    "ExecuteTime": {
     "end_time": "2024-04-10T13:28:28.998038200Z",
     "start_time": "2024-04-10T13:28:28.952028400Z"
    }
   },
   "id": "909ab35370caf8df"
  },
  {
   "cell_type": "code",
   "execution_count": null,
   "outputs": [],
   "source": [],
   "metadata": {
    "collapsed": false
   },
   "id": "5271695509d9d29"
  }
 ],
 "metadata": {
  "kernelspec": {
   "display_name": "Python 3",
   "language": "python",
   "name": "python3"
  },
  "language_info": {
   "codemirror_mode": {
    "name": "ipython",
    "version": 2
   },
   "file_extension": ".py",
   "mimetype": "text/x-python",
   "name": "python",
   "nbconvert_exporter": "python",
   "pygments_lexer": "ipython2",
   "version": "2.7.6"
  }
 },
 "nbformat": 4,
 "nbformat_minor": 5
}
