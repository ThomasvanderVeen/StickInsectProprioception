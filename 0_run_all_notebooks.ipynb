{
 "cells": [
  {
   "cell_type": "code",
   "execution_count": null,
   "outputs": [],
   "source": [
    "from general import *\n",
    "\n",
    "%run 1_afferents.ipynb"
   ],
   "metadata": {
    "collapsed": false
   },
   "id": "92487c6dd69fc3be"
  },
  {
   "cell_type": "code",
   "execution_count": null,
   "outputs": [],
   "source": [
    "%run 2_motion_neurons.ipynb"
   ],
   "metadata": {
    "collapsed": false
   },
   "id": "45dcea518b298a29"
  },
  {
   "cell_type": "code",
   "execution_count": null,
   "outputs": [],
   "source": [
    "%run 2_position_neurons.ipynb"
   ],
   "metadata": {
    "collapsed": false
   },
   "id": "c44eac8b8e72353a"
  }
 ],
 "metadata": {
  "kernelspec": {
   "display_name": "Python 3",
   "language": "python",
   "name": "python3"
  },
  "language_info": {
   "codemirror_mode": {
    "name": "ipython",
    "version": 2
   },
   "file_extension": ".py",
   "mimetype": "text/x-python",
   "name": "python",
   "nbconvert_exporter": "python",
   "pygments_lexer": "ipython2",
   "version": "2.7.6"
  }
 },
 "nbformat": 4,
 "nbformat_minor": 5
}
