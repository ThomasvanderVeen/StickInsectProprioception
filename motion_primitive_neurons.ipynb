{
 "cells": [
  {
   "cell_type": "code",
   "execution_count": 2,
   "outputs": [],
   "source": [
    "import numpy as np\n",
    "import matplotlib.pyplot as plt\n",
    "from collections import namedtuple\n",
    "import matplotlib.pylab as pylab\n",
    "import pickle\n",
    "from tqdm import tqdm\n",
    "from tqdm.contrib import itertools\n",
    "from scipy.ndimage import gaussian_filter1d\n",
    "\n",
    "params = {'legend.fontsize': 10,\n",
    "          'figure.figsize': (5.728, 3.54),\n",
    "          'figure.dpi': 100,\n",
    "          'axes.labelsize': 15,\n",
    "          'axes.titlesize': 15,\n",
    "          'xtick.labelsize': 10,\n",
    "          'ytick.labelsize': 10}\n",
    "\n",
    "pylab.rcParams.update(params)\n",
    "\n",
    "colors = ['#e41a1c', '#377eb8', '#4daf4a', '#984ea3', '#ff7f00', '#FFDB58', '#a65628']\n",
    "markers = ['o', \"^\", \"v\", \"*\", \"+\", \"x\", \"s\", \"p\"]\n",
    "linestyles = ['-', '--', '-.', ':', '-', '--', ':', '-.']"
   ],
   "metadata": {
    "collapsed": false,
    "ExecuteTime": {
     "end_time": "2024-03-20T12:44:16.569496800Z",
     "start_time": "2024-03-20T12:44:16.141401300Z"
    }
   },
   "id": "24c70ef37e122354"
  },
  {
   "cell_type": "code",
   "execution_count": 3,
   "outputs": [],
   "source": [
    "class MotionPrimitiveNeuron():\n",
    "    NeuronState = namedtuple('NeuronState', ['V', 'w', 'spk', 'I'])\n",
    "\n",
    "    def __init__(self, parameters):\n",
    "        super(MotionPrimitiveNeuron, self).__init__()\n",
    "        self.tau = parameters['tau']\n",
    "        self.V_R = parameters['V_R']\n",
    "        self.V_T = parameters['V_T']\n",
    "        self.w = parameters['w']\n",
    "        self.n = parameters['n']\n",
    "        self.N_input = parameters['N_input']\n",
    "        self.dt = parameters['dt']\n",
    "        self.state = None\n",
    "\n",
    "    def initialize_state(self):\n",
    "        self.state = None\n",
    "\n",
    "    def forward(self, input):\n",
    "        if self.state is None:\n",
    "            self.state = self.NeuronState(V=np.full((self.n,), self.V_R),\n",
    "                                          w=np.array(self.w),\n",
    "                                          spk=np.zeros(self.n),\n",
    "                                          I=np.zeros((self.n, self.N_input)))\n",
    "            \n",
    "        V = self.state.V\n",
    "        w = self.state.w\n",
    "        I = self.state.I\n",
    "\n",
    "        V += self.dt*(self.V_R-V)/self.tau\n",
    "        V += np.sum(w*input, axis=-1)\n",
    "\n",
    "        spk = np.heaviside(V - self.V_T, 0)\n",
    "        V = (1 - spk) * V + spk * self.V_R + (1 - spk)\n",
    "\n",
    "        self.state = self.NeuronState(V=V, w=w, spk=spk, I=I)\n",
    "\n",
    "        return V, spk"
   ],
   "metadata": {
    "collapsed": false,
    "ExecuteTime": {
     "end_time": "2024-03-20T12:44:16.584499400Z",
     "start_time": "2024-03-20T12:44:16.575497800Z"
    }
   },
   "id": "initial_id"
  },
  {
   "cell_type": "code",
   "execution_count": 3,
   "outputs": [],
   "source": [
    "with open('data/spike_position', 'rb') as file:\n",
    "    spike_position = pickle.load(file)\n",
    "    \n",
    "with open('data/spike_motion', 'rb') as file:\n",
    "    spike_motion = pickle.load(file) \n",
    "    \n",
    "N_SIMULATIONS = 1\n",
    "N_HAIRS = 50    \n",
    "N_ANGLES = 18\n",
    "T_TOTAL = 5\n",
    "dt = 0.001\n",
    "\n",
    "N_STEPS = int(T_TOTAL/dt)\n",
    "time = np.linspace(0, T_TOTAL, num=N_STEPS)\n",
    "\n",
    "primitive_parameters = {'tau': 1.5e-3, 'V_T': -50e-3, 'V_R': -70e-3, 'n': 0, 'w': 0,\n",
    "                    'N_input': 3, 'dt': dt, 'refrac': 0}\n",
    "\n",
    "primitive_neuron = MotionPrimitiveNeuron(primitive_parameters)\n",
    "primitive_neuron.initialize_state()"
   ],
   "metadata": {
    "collapsed": false,
    "ExecuteTime": {
     "end_time": "2024-03-20T12:44:16.631393200Z",
     "start_time": "2024-03-20T12:44:16.615389400Z"
    }
   },
   "id": "2633992e4dfd4448"
  },
  {
   "cell_type": "code",
   "execution_count": null,
   "outputs": [],
   "source": [
    "for k in tqdm(range(N_SIMULATIONS), desc='Network progress'):        \n",
    "    for i in range(N_STEPS):\n",
    "        _, spike_primitive[i, :] = primitive_neuron.forward(pos_vel_spikes)\n",
    "        \n",
    "with open('data/spike_motion', 'wb') as file:\n",
    "        pickle.dump(spike_motion, file)"
   ],
   "metadata": {
    "collapsed": false
   },
   "id": "83367cd1ab81adf7"
  }
 ],
 "metadata": {
  "kernelspec": {
   "display_name": "Python 3",
   "language": "python",
   "name": "python3"
  },
  "language_info": {
   "codemirror_mode": {
    "name": "ipython",
    "version": 2
   },
   "file_extension": ".py",
   "mimetype": "text/x-python",
   "name": "python",
   "nbconvert_exporter": "python",
   "pygments_lexer": "ipython2",
   "version": "2.7.6"
  }
 },
 "nbformat": 4,
 "nbformat_minor": 5
}
