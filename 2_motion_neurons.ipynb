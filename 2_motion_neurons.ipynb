{
 "cells": [
  {
   "cell_type": "code",
   "execution_count": 1,
   "outputs": [],
   "source": [
    "from general import *"
   ],
   "metadata": {
    "collapsed": false,
    "ExecuteTime": {
     "end_time": "2024-04-22T14:02:49.062469300Z",
     "start_time": "2024-04-22T14:02:49.033557200Z"
    }
   },
   "id": "c8147681f8d73185"
  },
  {
   "cell_type": "code",
   "execution_count": 2,
   "outputs": [],
   "source": [
    "class MotionNeuron():\n",
    "    NeuronState = namedtuple('NeuronState', ['V', 'w', 'spk', 'I'])\n",
    "\n",
    "    def __init__(self, parameters):\n",
    "        super(MotionNeuron, self).__init__()\n",
    "        self.tau = parameters['tau']\n",
    "        self.V_R = parameters['V_R']\n",
    "        self.V_T = parameters['V_T']\n",
    "        self.w = parameters['w']\n",
    "        self.n = parameters['n']\n",
    "        self.N_input = parameters['N_input']\n",
    "        self.dt = parameters['dt']\n",
    "        self.state = None\n",
    "\n",
    "    def initialize_state(self):\n",
    "        self.state = None\n",
    "\n",
    "    def forward(self, input):\n",
    "        if self.state is None:\n",
    "            self.state = self.NeuronState(V=np.full((self.n,), self.V_R),\n",
    "                                          w=np.array(self.w),\n",
    "                                          spk=np.zeros(self.n),\n",
    "                                          I=np.zeros((self.n, self.N_input)))\n",
    "        V = self.state.V\n",
    "        w = self.state.w\n",
    "        I = self.state.I\n",
    "\n",
    "        V += self.dt*(self.V_R-V)/self.tau\n",
    "        V += w * input\n",
    "\n",
    "        spk = np.heaviside(V - self.V_T, 0)\n",
    "        V = (1 - spk) * V + spk * self.V_R \n",
    "\n",
    "        self.state = self.NeuronState(V=V, w=w, spk=spk, I=I)\n",
    "\n",
    "        return V, spk"
   ],
   "metadata": {
    "collapsed": false,
    "ExecuteTime": {
     "end_time": "2024-04-22T14:02:49.077472500Z",
     "start_time": "2024-04-22T14:02:49.065469300Z"
    }
   },
   "id": "54bae1f74c207da6"
  },
  {
   "cell_type": "code",
   "execution_count": 3,
   "outputs": [],
   "source": [
    "with open('data/spike_sensory', 'rb') as file:\n",
    "    spike_sensory = np.load(file) \n",
    "    \n",
    "time = np.linspace(0, constants['T_TOTAL'], num=constants['N_STEPS'])\n",
    "\n",
    "motion_parameters = {'tau': 5e-3, 'V_T': -50e-3, 'V_R': -70e-3, 'n': 2 * constants['N_ANGLES'] * parameters['N_HAIRS'], 'w': 10.5e-3,\n",
    "                     'N_input': 1, 'dt': constants['dt'], 'refrac': 0}\n",
    "\n",
    "motion_neuron = MotionNeuron(motion_parameters)\n",
    "motion_neuron.initialize_state()\n",
    "\n",
    "spike_motion_inter = np.empty((constants['N_STEPS'], motion_parameters['n'], parameters['N_SIMULATIONS']), dtype=np.uint8)\n",
    "spike_motion = np.empty((constants['N_STEPS'], 2 * constants['N_ANGLES'], parameters['N_SIMULATIONS']), dtype=np.uint8)"
   ],
   "metadata": {
    "collapsed": false,
    "ExecuteTime": {
     "end_time": "2024-04-22T14:02:52.565256900Z",
     "start_time": "2024-04-22T14:02:49.080473700Z"
    }
   },
   "id": "5a5881a7eaa389b5"
  },
  {
   "cell_type": "code",
   "execution_count": 4,
   "outputs": [
    {
     "data": {
      "text/plain": "  0%|          | 0/78 [00:00<?, ?it/s]",
      "application/vnd.jupyter.widget-view+json": {
       "version_major": 2,
       "version_minor": 0,
       "model_id": "ca23ba0c1a94424d82fb0fb2dff8d05b"
      }
     },
     "metadata": {},
     "output_type": "display_data"
    }
   ],
   "source": [
    "for k in tqdm(range(parameters['N_SIMULATIONS'])):   \n",
    "    spike_sensory_k = spike_sensory[:, :, k]\n",
    "    for i in range(constants['N_STEPS']):\n",
    "        _, spike_motion_inter[i, :, k] = motion_neuron.forward(spike_sensory_k[i, :])\n",
    "        \n",
    "        spike_motion[i, :, k] = np.sum(spike_motion_inter[i, :, k].reshape(2*constants['N_ANGLES'], parameters['N_HAIRS']), axis=1)\n",
    "        spike_motion[i, :, k][spike_motion[i, :, k] > 1 ] = 1"
   ],
   "metadata": {
    "collapsed": false,
    "ExecuteTime": {
     "end_time": "2024-04-22T14:05:40.870319700Z",
     "start_time": "2024-04-22T14:02:52.566256800Z"
    }
   },
   "id": "964333bfee481d7c"
  },
  {
   "cell_type": "code",
   "execution_count": 5,
   "outputs": [],
   "source": [
    "with open('data/spike_motion', 'wb') as file:\n",
    "        np.save(file, spike_motion)"
   ],
   "metadata": {
    "collapsed": false,
    "ExecuteTime": {
     "end_time": "2024-04-22T14:05:40.870319700Z",
     "start_time": "2024-04-22T14:04:14.620706800Z"
    }
   },
   "id": "c69b4fade3d3d30a"
  },
  {
   "cell_type": "code",
   "execution_count": 6,
   "outputs": [
    {
     "name": "stdout",
     "output_type": "stream",
     "text": [
      "                      value\n",
      "true positive   1406287.000\n",
      "true negative   1432048.000\n",
      "false positive   112041.000\n",
      "false negative   114821.000\n",
      "positives       1521108.000\n",
      "negatives       1544089.000\n",
      "total           3065197.000\n",
      "MCC                   0.852\n",
      "accuracy              0.926\n",
      "TPR                   0.925\n",
      "TNR                   0.927\n"
     ]
    }
   ],
   "source": [
    "with open('data/joint_angles_' + parameters['joint_string'], 'rb') as file:\n",
    "    joint_angles = pickle.load(file) \n",
    "     \n",
    "joint_velocity = np.diff(joint_angles[:, :, :parameters['N_SIMULATIONS']], axis=0)\n",
    "joint_velocity_up = np.heaviside(joint_velocity, 0)\n",
    "joint_velocity_down = 1 - joint_velocity_up\n",
    "\n",
    "true_positive, false_positive, _, _ = get_confusion_matrix(spike_motion[1:, 1::2], joint_velocity_up)\n",
    "true_negative, false_negative, _, _ = get_confusion_matrix(spike_motion[1:, 0::2], joint_velocity_down)\n",
    "\n",
    "statistical_data = get_statistics(true_positive, true_negative, false_positive, false_negative)\n",
    "\n",
    "statistical_data_string = ['true positive', 'true negative', 'false positive', 'false negative', 'positives', 'negatives', 'total', 'MCC', 'accuracy', 'TPR', 'TNR']\n",
    "\n",
    "table = {'value': np.around(statistical_data, 3)}\n",
    "df = pd.DataFrame(data=table, index=['true positive', 'true negative', 'false positive', 'false negative', 'positives', 'negatives', 'total', 'MCC', 'accuracy', 'TPR', 'TNR'])\n",
    "df.to_csv('results/motion_accuracy_table.csv')\n",
    "\n",
    "print(df)"
   ],
   "metadata": {
    "collapsed": false,
    "ExecuteTime": {
     "end_time": "2024-04-22T14:05:40.871319800Z",
     "start_time": "2024-04-22T14:04:14.671788800Z"
    }
   },
   "id": "1a048dbb8c862976"
  },
  {
   "cell_type": "code",
   "execution_count": 7,
   "outputs": [
    {
     "ename": "NameError",
     "evalue": "name 'zscore' is not defined",
     "output_type": "error",
     "traceback": [
      "\u001B[1;31m---------------------------------------------------------------------------\u001B[0m",
      "\u001B[1;31mNameError\u001B[0m                                 Traceback (most recent call last)",
      "\u001B[1;32m~\\AppData\\Local\\Temp/ipykernel_6428/969637010.py\u001B[0m in \u001B[0;36m<module>\u001B[1;34m\u001B[0m\n\u001B[0;32m     13\u001B[0m     \u001B[0mcombined_firing_rate\u001B[0m \u001B[1;33m=\u001B[0m \u001B[0mfiring_rate_up\u001B[0m \u001B[1;33m-\u001B[0m \u001B[0mfiring_rate_down\u001B[0m\u001B[1;33m\u001B[0m\u001B[1;33m\u001B[0m\u001B[0m\n\u001B[0;32m     14\u001B[0m \u001B[1;33m\u001B[0m\u001B[0m\n\u001B[1;32m---> 15\u001B[1;33m     \u001B[0mcombined_firing_rate_norm\u001B[0m \u001B[1;33m=\u001B[0m \u001B[0mzscore\u001B[0m\u001B[1;33m.\u001B[0m\u001B[0mzscore\u001B[0m\u001B[1;33m(\u001B[0m\u001B[0mcombined_firing_rate\u001B[0m\u001B[1;33m)\u001B[0m\u001B[1;33m\u001B[0m\u001B[1;33m\u001B[0m\u001B[0m\n\u001B[0m\u001B[0;32m     16\u001B[0m     \u001B[0mjoint_angle_norm\u001B[0m \u001B[1;33m=\u001B[0m \u001B[0mzscore\u001B[0m\u001B[1;33m.\u001B[0m\u001B[0mzscore\u001B[0m\u001B[1;33m(\u001B[0m\u001B[0mnp\u001B[0m\u001B[1;33m.\u001B[0m\u001B[0mdiff\u001B[0m\u001B[1;33m(\u001B[0m\u001B[0mjoint_angles\u001B[0m\u001B[1;33m[\u001B[0m\u001B[1;33m:\u001B[0m\u001B[1;33m,\u001B[0m \u001B[0mm\u001B[0m\u001B[1;33m,\u001B[0m \u001B[0mk\u001B[0m\u001B[1;33m]\u001B[0m\u001B[1;33m)\u001B[0m \u001B[1;33m/\u001B[0m \u001B[0mconstants\u001B[0m\u001B[1;33m[\u001B[0m\u001B[1;34m'dt'\u001B[0m\u001B[1;33m]\u001B[0m\u001B[1;33m)\u001B[0m\u001B[1;33m\u001B[0m\u001B[1;33m\u001B[0m\u001B[0m\n\u001B[0;32m     17\u001B[0m \u001B[1;33m\u001B[0m\u001B[0m\n",
      "\u001B[1;31mNameError\u001B[0m: name 'zscore' is not defined"
     ]
    }
   ],
   "source": [
    "with open('data/joint_angles_' + parameters['joint_string'], 'rb') as file:\n",
    "    joint_angles = pickle.load(file)\n",
    "\n",
    "delta = int(0.025/constants['dt'])\n",
    "delta = 1\n",
    "\n",
    "MSE = np.zeros((parameters['N_SIMULATIONS'], constants['N_ANGLES']))\n",
    "\n",
    "for k, m in np.ndindex(parameters['N_SIMULATIONS'], constants['N_ANGLES']):\n",
    "    firing_rate_down = get_firing_rate_convolve(spike_motion[:, 0 + 2*m, k], constants['dt'], t=0.01, nan_bool=False)\n",
    "    firing_rate_up = get_firing_rate_convolve(spike_motion[:, 1 + 2*m, k], constants['dt'], t=0.01, nan_bool=False)\n",
    "    \n",
    "    combined_firing_rate = firing_rate_up - firing_rate_down\n",
    "    \n",
    "    combined_firing_rate_norm = zscore.zscore(combined_firing_rate)\n",
    "    joint_angle_norm = zscore.zscore(np.diff(joint_angles[:, m, k]) / constants['dt'])\n",
    "    \n",
    "    MSE[k, m] = np.mean((combined_firing_rate_norm[2001:] - joint_angle_norm[2000-delta: -delta])**2)   \n",
    "    if k + m == 0:\n",
    "        fig, ax = plt.subplots()\n",
    "\n",
    "        ax.plot(time[:-1], joint_angle_norm, color='black', label='Exp. data')\n",
    "        ax.plot(time-0.025, combined_firing_rate_norm, color=custom_colors[0], label = 'Model response')\n",
    "        \n",
    "        ax.set_xlim([1, 3])\n",
    "        ax.set_xlabel(\"Time (s)\")\n",
    "        ax.set_ylabel(\"Angular velocity (a.u.)\")\n",
    "        ax.minorticks_on()\n",
    "        ax.legend()\n",
    "        \n",
    "        fig.tight_layout(pad=parameters['pad'])\n",
    "        fig.savefig('Images/motion_neuron/combined_motion_din_.png')\n",
    "        fig.savefig('Images/motion_neuron/combined_motion_din_.pdf')\n",
    "    else:\n",
    "        hoi = 1\n",
    "    \n",
    "print(np.mean(MSE))"
   ],
   "metadata": {
    "collapsed": false,
    "ExecuteTime": {
     "end_time": "2024-04-22T14:05:40.871319800Z",
     "start_time": "2024-04-22T14:04:18.650754800Z"
    }
   },
   "id": "f97b0fdd9e6b1135"
  },
  {
   "cell_type": "code",
   "execution_count": null,
   "outputs": [],
   "source": [
    "joint_angles = joint_angles[:, :, 0]\n",
    "\n",
    "fig, ax1 = plt.subplots()\n",
    "ax2 = ax1.twinx()\n",
    "\n",
    "firing_rate_down = get_firing_rate_convolve(spike_motion[:, 0, 0], constants['dt'], t=0.025)\n",
    "firing_rate_up = get_firing_rate_convolve(spike_motion[:, 1, 0], constants['dt'], t=0.025)\n",
    "\n",
    "ax1.plot(time[1:], np.diff(joint_angles[:, 0]) / constants['dt'], color='black', linestyle=custom_linestyles[0], label='Exp. data')\n",
    "ax2.plot(time, firing_rate_down, color=custom_colors[0], linestyle=custom_linestyles[0], label='vel-')\n",
    "ax2.plot(time, firing_rate_up, color=custom_colors[1], linestyle=custom_linestyles[1], label='vel+')\n",
    "ax1.plot(time, np.full(time.size, 0), color='black', linestyle='dotted')\n",
    "\n",
    "ax1.set_xlim([1, 2])\n",
    "ax1.set_xlabel(\"Time (s)\")\n",
    "ax1.set_ylabel(\"Angular velocity (°$\\cdot$s$^{-1}$)\")\n",
    "ax2.set_ylabel(\"Spike rate (Hz)\")\n",
    "\n",
    "ax1.minorticks_on()\n",
    "ax2.minorticks_on()\n",
    "\n",
    "fig.legend(loc='upper left', fancybox=False, edgecolor='black', bbox_to_anchor=[0.58, 0.97])\n",
    "\n",
    "fig.tight_layout(pad=parameters['pad'])\n",
    "fig.savefig('images/motion_neuron/motion_binary.png')\n",
    "fig.savefig('images/motion_neuron/motion_binary.pdf')"
   ],
   "metadata": {
    "collapsed": false,
    "ExecuteTime": {
     "start_time": "2024-04-22T14:04:19.590725900Z"
    }
   },
   "id": "fb8ec1f31b6aff68"
  },
  {
   "cell_type": "code",
   "execution_count": null,
   "outputs": [],
   "source": [
    "spike_motion = spike_motion.astype(np.float32)\n",
    "spike_motion[spike_motion == 0] = np.nan\n",
    "\n",
    "fig, ax = plt.subplots()\n",
    "\n",
    "plt.plot(time, joint_angles[:, 0], color='black')\n",
    "plt.scatter(time, joint_angles[:, 0] * spike_motion[:, 0, 0], color=custom_colors[0], marker=custom_markers[0], s=10)\n",
    "plt.scatter(time, joint_angles[:, 0] * spike_motion[:, 1, 0], color=custom_colors[1], marker=custom_markers[1], s=10)\n",
    "\n",
    "ax.set_xlim([1, 5])\n",
    "ax.set_xlabel(\"Time (s)\")\n",
    "ax.set_ylabel(\"Joint angle (°)\")\n",
    "\n",
    "ax.grid(axis='y', zorder=0)\n",
    "\n",
    "ax.minorticks_on()\n",
    "\n",
    "ax.legend(['Exp. data', 'vel-', 'vel+'], fancybox=False, edgecolor='black')\n",
    "\n",
    "fig.tight_layout(pad=parameters['pad'])\n",
    "fig.savefig('images/motion_neuron/movement_interneuron_network.png')\n",
    "fig.savefig('images/motion_neuron/movement_interneuron_network.pdf')"
   ],
   "metadata": {
    "collapsed": false,
    "ExecuteTime": {
     "start_time": "2024-04-22T14:04:19.591725600Z"
    }
   },
   "id": "3ab1815cdce00122"
  },
  {
   "cell_type": "code",
   "execution_count": null,
   "outputs": [],
   "source": [
    "fig, [ax, ax2, ax3] = plt.subplots(3, figsize=(5.728, 1.3*3.54), gridspec_kw={'height_ratios': [1, 2.5, 1]}, sharex='all')\n",
    "plt.subplots_adjust(wspace=0, hspace=0.05)\n",
    "\n",
    "motion_parameters = {'tau': 10e-3, 'V_T': -50e-3, 'V_R': -70e-3, 'n': 1, 'w': 10e-3,\n",
    "                     'N_input': 1, 'dt': 0.0001, 'refrac': 0}\n",
    "\n",
    "motion_neuron = MotionNeuron(motion_parameters)\n",
    "\n",
    "motion_neuron.initialize_state()\n",
    "\n",
    "input = np.zeros(2000)\n",
    "input[50:1500][::50] = 1\n",
    "\n",
    "voltage, spikes, time = np.zeros(input.size), np.zeros(input.size), np.zeros(input.size)\n",
    "\n",
    "for i in range(input.size):\n",
    "    voltage[i], spikes[i] = motion_neuron.forward(input[i])\n",
    "    time[i] = i*0.0001 \n",
    "    \n",
    "ax.plot(time, input, color=custom_colors[0])    \n",
    "\n",
    "ax.set_ylabel(\"Pre spk\")\n",
    "ax.set_yticks([0, 1])\n",
    "ax.set_xticks([0, 0.1, 0.2])\n",
    "ax.set_ylim(0, 1.5)\n",
    "\n",
    "ax2.plot(time, voltage*1000, color=custom_colors[0])\n",
    "\n",
    "ax2.set_ylabel(\"Voltage (mV)\")\n",
    "ax2.set_yticks([-70, -50])\n",
    "\n",
    "ax3.plot(time, spikes, color=custom_colors[0])\n",
    "\n",
    "ax3.set_ylabel(\"Post spk\")\n",
    "ax3.set_yticks([0, 1])\n",
    "ax3.set_xlabel(\"Time (s)\")\n",
    "ax3.set_ylim(0, 1.5)\n",
    "               \n",
    "fig.tight_layout(pad=parameters['pad'])\n",
    "fig.savefig('images/motion_neuron/LIF_dynamics.png')\n",
    "fig.savefig('images/motion_neuron/LIF_dynamics.pdf')"
   ],
   "metadata": {
    "collapsed": false,
    "ExecuteTime": {
     "start_time": "2024-04-22T14:04:19.593725800Z"
    }
   },
   "id": "6ceda7e1b211acc5"
  },
  {
   "cell_type": "code",
   "execution_count": null,
   "outputs": [],
   "source": [
    "class HairField:\n",
    "    def __init__(self, parameters):\n",
    "        self.N_hairs = parameters['N_hairs']\n",
    "        self.max_joint_angle = parameters['max_joint_angle']\n",
    "        self.max_list = parameters['max_joint_angle']\n",
    "        self.min_joint_angle = parameters['min_joint_angle']\n",
    "        self.min_list = parameters['min_joint_angle']\n",
    "        self.max_angle = parameters['max_angle']\n",
    "        self.overlap = parameters['overlap']\n",
    "        self.receptive_field = None\n",
    "\n",
    "    def get_receptive_field(self):\n",
    "        rf = (self.max_joint_angle - self.min_joint_angle) / self.N_hairs\n",
    "        rf = (1-self.overlap/(self.max_joint_angle - self.min_joint_angle))*rf\n",
    "\n",
    "        receptive_min = np.linspace(self.min_joint_angle, self.min_joint_angle + rf*(self.N_hairs - 1),\n",
    "                                    num=self.N_hairs)\n",
    "\n",
    "        receptive_max = np.linspace(self.max_joint_angle - rf*(self.N_hairs - 1), self.max_joint_angle,\n",
    "                                    num=self.N_hairs)\n",
    "\n",
    "        self.receptive_field = np.stack((receptive_min, receptive_max))\n",
    "        \n",
    "        \n",
    "    def get_double_receptive_field(self):\n",
    "        self.get_receptive_field()\n",
    "\n",
    "        rf1 = -self.receptive_field.copy() + self.max_joint_angle + self.min_joint_angle\n",
    "\n",
    "        self.receptive_field = np.hstack((rf1, self.receptive_field))\n",
    "        self.N_hairs = 2 * self.N_hairs\n",
    "        \n",
    "    \n",
    "    def reset_max_min(self, i):\n",
    "        self.max_joint_angle = self.max_list[i]\n",
    "        self.min_joint_angle = self.min_list[i]\n",
    "\n",
    "\n",
    "    def get_hair_angle(self, x):\n",
    "        min_rf = self.receptive_field[0, :]\n",
    "        slope = self.max_angle / (self.receptive_field[1, :] - self.receptive_field[0, :])\n",
    "\n",
    "        slope, min_rf, x = np.tile(slope, (x.size, 1)), np.tile(min_rf, (x.size, 1)), np.tile(x, (self.N_hairs, 1)).T\n",
    "\n",
    "        out = np.clip(slope * (x - self.receptive_field[0, :]), 0, 90)\n",
    "\n",
    "        return out"
   ],
   "metadata": {
    "collapsed": false,
    "ExecuteTime": {
     "start_time": "2024-04-22T14:04:19.593725800Z"
    }
   },
   "id": "1adb20202c6236cb"
  },
  {
   "cell_type": "code",
   "execution_count": null,
   "outputs": [],
   "source": [
    "class SensoryNeuron:\n",
    "    NeuronState = namedtuple('NeuronState', ['V', 'w', 'spk'])\n",
    "\n",
    "    def __init__(self, parameters):\n",
    "        super(SensoryNeuron, self).__init__()\n",
    "        self.C = parameters['C']\n",
    "        self.g_L = parameters['g_L']\n",
    "        self.E_L = parameters['E_L']\n",
    "        self.DeltaT = parameters['DeltaT']\n",
    "        self.a = parameters['a']\n",
    "        self.V_T = parameters['V_T']\n",
    "        self.tau_W = parameters['tau_W']\n",
    "        self.b = parameters['b']\n",
    "        self.V_R = parameters['V_R']\n",
    "        self.V_cut = parameters['V_cut']\n",
    "        self.n = parameters['n']\n",
    "        self.dt = parameters['dt']\n",
    "        self.state = None\n",
    "\n",
    "    def initialize_state(self):\n",
    "        self.state = None\n",
    "\n",
    "    def forward(self, input):\n",
    "        if self.state is None:\n",
    "            self.state = self.NeuronState(V=np.linspace(self.E_L, self.E_L+10e-3, self.n),\n",
    "                                          w=np.zeros(self.n),\n",
    "                                          spk=np.zeros(self.n))\n",
    "        V = self.state.V\n",
    "        w = self.state.w\n",
    "        I = input\n",
    "        \n",
    "        V += (self.g_L * (self.E_L - V) + self.g_L * self.DeltaT * np.exp(\n",
    "            (V - self.V_T) / self.DeltaT) - w + I) * self.dt / self.C\n",
    "\n",
    "        spk = np.heaviside(V - self.V_cut, 0)\n",
    "        \n",
    "        V = (1 - spk) * V + spk * self.V_R\n",
    "        \n",
    "        w += spk * self.b\n",
    "        w += (self.a * (V - self.E_L) - w) * self.dt / self.tau_W\n",
    "\n",
    "        self.state = self.NeuronState(V=V, w=w, spk=spk)\n",
    "\n",
    "        return V, spk"
   ],
   "metadata": {
    "collapsed": false,
    "ExecuteTime": {
     "start_time": "2024-04-22T14:04:19.594726800Z"
    }
   },
   "id": "8dc80193f0613c5a"
  },
  {
   "cell_type": "code",
   "execution_count": null,
   "outputs": [],
   "source": [
    "N_HAIRS_LIST = np.array([25, 50])\n",
    "WEIGHT_LIST = np.array([9e-3, 10.7e-3])\n",
    "N_SPEEDS = 8\n",
    "T_TOTAL = 20\n",
    "N_STEPS = int(T_TOTAL/constants['dt'])\n",
    "\n",
    "time = np.linspace(0, constants['T_TOTAL'], num=constants['N_STEPS'])\n",
    "speeds = np.linspace(20, 300, num=N_SPEEDS)\n",
    "ramp = (180 / (speeds * constants['dt'])).astype(int)\n",
    "\n",
    "spike_motion = np.zeros((N_STEPS, N_SPEEDS))\n",
    "spike_rates = np.zeros((N_HAIRS_LIST.size, WEIGHT_LIST.size, N_SPEEDS))\n",
    "\n",
    "fig, ax = plt.subplots()\n",
    "\n",
    "index = 0\n",
    "\n",
    "for l,m in tqdm(np.ndindex(N_HAIRS_LIST.size, WEIGHT_LIST.size)):\n",
    "    \n",
    "    parameters_hair_field = {'N_hairs': N_HAIRS_LIST[l], 'max_joint_angle': 180, 'min_joint_angle': 0, 'max_angle': 90, 'overlap': 4}\n",
    "    \n",
    "    sensory_parameters = {'C': 200e-12, 'g_L': 2e-9, 'E_L': -70e-3, 'DeltaT': 2e-3, 'a': 2e-9, 'V_T': -50e-3,\n",
    "                          'tau_W': 50e-3, 'b': 264e-12, 'V_R': -70e-3, 'V_cut': -40e-3, 'n': N_HAIRS_LIST[l], 'dt': constants['dt']}\n",
    "    \n",
    "    motion_parameters = {'tau': 5e-3, 'V_T': -50e-3, 'V_R': -70e-3, 'n': N_HAIRS_LIST[l], 'w': WEIGHT_LIST[m],\n",
    "                         'N_input': 1, 'dt': constants['dt'], 'refrac': 0}\n",
    "    \n",
    "    hair_field = HairField(parameters_hair_field)\n",
    "    hair_field.get_receptive_field()\n",
    "    \n",
    "    motion_neuron = MotionNeuron(motion_parameters)\n",
    "    motion_neuron.initialize_state()\n",
    "    \n",
    "    sensory_neuron = SensoryNeuron(sensory_parameters)\n",
    "    sensory_neuron.initialize_state()\n",
    "    \n",
    "    for j in range(N_SPEEDS):\n",
    "        t1 = np.linspace(0, 180, num=ramp[j])\n",
    "        t2 = np.linspace(180, 180, num=N_STEPS - ramp[j])\n",
    "        ramp_angles = np.concatenate((t1, t2))\n",
    "        hair_angles = hair_field.get_hair_angle(ramp_angles) / 18e9\n",
    "        \n",
    "        for i in range(N_STEPS):\n",
    "            _, spike_1 = sensory_neuron.forward(hair_angles[i])\n",
    "\n",
    "            _, spike_2 = motion_neuron.forward(spike_1)\n",
    "            \n",
    "            spike_motion[i, j] = np.sum(spike_2)\n",
    "            \n",
    "           \n",
    "        spike_rates[l, m, j] = np.sum(spike_motion[:ramp[j], j]/(ramp[j]*constants['dt']))\n",
    "\n",
    "    ax.scatter(speeds, spike_rates[l, m, :], color=custom_colors[index], marker=custom_markers[index], s = 15,\n",
    "               label=r'$\\omega$ = ' + str(WEIGHT_LIST[m] * 1000) + 'mV, $N_{h}$ = ' + str(N_HAIRS_LIST[l]), zorder=2)\n",
    "    \n",
    "    index += 1\n",
    "    \n",
    "    \n",
    "ax.set_xlabel(r\"Angular velocity (°$\\cdot$s$^{-1}$)\")\n",
    "ax.set_ylabel(\"Spike rate (Hz)\")\n",
    "\n",
    "ax.legend(loc='upper left', fancybox=False, edgecolor='black')\n",
    "\n",
    "ax.minorticks_on()\n",
    "ax.grid(zorder=0)\n",
    "\n",
    "fig.tight_layout(pad=parameters['pad'])\n",
    "fig.savefig(f'Images/motion_neuron/motion_linearity.png')\n",
    "fig.savefig(f'Images/motion_neuron/motion_linearity.pdf')"
   ],
   "metadata": {
    "collapsed": false,
    "ExecuteTime": {
     "start_time": "2024-04-22T14:04:19.595727100Z"
    }
   },
   "id": "41f6d62a067e1a6f"
  },
  {
   "cell_type": "code",
   "execution_count": null,
   "outputs": [],
   "source": [],
   "metadata": {
    "collapsed": false,
    "ExecuteTime": {
     "start_time": "2024-04-22T14:04:19.596727200Z"
    }
   },
   "id": "75d3d1f2e564019c"
  }
 ],
 "metadata": {
  "kernelspec": {
   "display_name": "Python 3",
   "language": "python",
   "name": "python3"
  },
  "language_info": {
   "codemirror_mode": {
    "name": "ipython",
    "version": 2
   },
   "file_extension": ".py",
   "mimetype": "text/x-python",
   "name": "python",
   "nbconvert_exporter": "python",
   "pygments_lexer": "ipython2",
   "version": "2.7.6"
  }
 },
 "nbformat": 4,
 "nbformat_minor": 5
}
